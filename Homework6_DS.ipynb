{
  "cells": [
    {
      "cell_type": "code",
      "execution_count": 1,
      "metadata": {
        "colab": {
          "base_uri": "https://localhost:8080/"
        },
        "id": "F0fOzKP-43mA",
        "outputId": "055d1c0e-0c3c-4dee-ebea-2a60a30552aa"
      },
      "outputs": [
        {
          "name": "stdout",
          "output_type": "stream",
          "text": [
            "<class 'pandas.core.frame.DataFrame'>\n",
            "RangeIndex: 9240 entries, 0 to 9239\n",
            "Data columns (total 37 columns):\n",
            " #   Column                                         Non-Null Count  Dtype  \n",
            "---  ------                                         --------------  -----  \n",
            " 0   Prospect ID                                    9240 non-null   object \n",
            " 1   Lead Number                                    9240 non-null   int64  \n",
            " 2   Lead Origin                                    9240 non-null   object \n",
            " 3   Lead Source                                    9204 non-null   object \n",
            " 4   Do Not Email                                   9240 non-null   object \n",
            " 5   Do Not Call                                    9240 non-null   object \n",
            " 6   Converted                                      9240 non-null   int64  \n",
            " 7   TotalVisits                                    9103 non-null   float64\n",
            " 8   Total Time Spent on Website                    9240 non-null   int64  \n",
            " 9   Page Views Per Visit                           9103 non-null   float64\n",
            " 10  Last Activity                                  9137 non-null   object \n",
            " 11  Country                                        6779 non-null   object \n",
            " 12  Specialization                                 7802 non-null   object \n",
            " 13  How did you hear about X Education             7033 non-null   object \n",
            " 14  What is your current occupation                6550 non-null   object \n",
            " 15  What matters most to you in choosing a course  6531 non-null   object \n",
            " 16  Search                                         9240 non-null   object \n",
            " 17  Magazine                                       9240 non-null   object \n",
            " 18  Newspaper Article                              9240 non-null   object \n",
            " 19  X Education Forums                             9240 non-null   object \n",
            " 20  Newspaper                                      9240 non-null   object \n",
            " 21  Digital Advertisement                          9240 non-null   object \n",
            " 22  Through Recommendations                        9240 non-null   object \n",
            " 23  Receive More Updates About Our Courses         9240 non-null   object \n",
            " 24  Tags                                           5887 non-null   object \n",
            " 25  Lead Quality                                   4473 non-null   object \n",
            " 26  Update me on Supply Chain Content              9240 non-null   object \n",
            " 27  Get updates on DM Content                      9240 non-null   object \n",
            " 28  Lead Profile                                   6531 non-null   object \n",
            " 29  City                                           7820 non-null   object \n",
            " 30  Asymmetrique Activity Index                    5022 non-null   object \n",
            " 31  Asymmetrique Profile Index                     5022 non-null   object \n",
            " 32  Asymmetrique Activity Score                    5022 non-null   float64\n",
            " 33  Asymmetrique Profile Score                     5022 non-null   float64\n",
            " 34  I agree to pay the amount through cheque       9240 non-null   object \n",
            " 35  A free copy of Mastering The Interview         9240 non-null   object \n",
            " 36  Last Notable Activity                          9240 non-null   object \n",
            "dtypes: float64(4), int64(3), object(30)\n",
            "memory usage: 2.6+ MB\n"
          ]
        }
      ],
      "source": [
        "# Data description is provided below\n",
        "import pandas as pd\n",
        "import numpy as np\n",
        "df = pd.read_csv('https://raw.githubusercontent.com/ogut77/DataScience/main/data/Leads.csv')\n",
        "df.info()"
      ]
    },
    {
      "cell_type": "code",
      "execution_count": 2,
      "metadata": {
        "id": "ihog3y2T9uKN"
      },
      "outputs": [],
      "source": [
        " #There are missing values in the Lead data .\n",
        "# Replace missing variables with the mean  if variable is numeric or mode if variable is categorical.\n",
        "for col in df.columns:\n",
        "    if ((df[col].dtype == 'float64') or (df[col].dtype == 'float64')) :\n",
        "        df[col] = df[col].fillna(df[col].mean())\n",
        "    else:\n",
        "        df[col] = df[col].fillna(df[col].mode()[0])\n"
      ]
    },
    {
      "cell_type": "code",
      "execution_count": 3,
      "metadata": {
        "colab": {
          "base_uri": "https://localhost:8080/"
        },
        "id": "MekOuGEPHK0x",
        "outputId": "9d8dbe07-4c6e-4fc6-f6e7-5dfbfdfa3aad"
      },
      "outputs": [
        {
          "data": {
            "text/plain": [
              "Prospect ID                                      0\n",
              "Lead Number                                      0\n",
              "Lead Origin                                      0\n",
              "Lead Source                                      0\n",
              "Do Not Email                                     0\n",
              "Do Not Call                                      0\n",
              "Converted                                        0\n",
              "TotalVisits                                      0\n",
              "Total Time Spent on Website                      0\n",
              "Page Views Per Visit                             0\n",
              "Last Activity                                    0\n",
              "Country                                          0\n",
              "Specialization                                   0\n",
              "How did you hear about X Education               0\n",
              "What is your current occupation                  0\n",
              "What matters most to you in choosing a course    0\n",
              "Search                                           0\n",
              "Magazine                                         0\n",
              "Newspaper Article                                0\n",
              "X Education Forums                               0\n",
              "Newspaper                                        0\n",
              "Digital Advertisement                            0\n",
              "Through Recommendations                          0\n",
              "Receive More Updates About Our Courses           0\n",
              "Tags                                             0\n",
              "Lead Quality                                     0\n",
              "Update me on Supply Chain Content                0\n",
              "Get updates on DM Content                        0\n",
              "Lead Profile                                     0\n",
              "City                                             0\n",
              "Asymmetrique Activity Index                      0\n",
              "Asymmetrique Profile Index                       0\n",
              "Asymmetrique Activity Score                      0\n",
              "Asymmetrique Profile Score                       0\n",
              "I agree to pay the amount through cheque         0\n",
              "A free copy of Mastering The Interview           0\n",
              "Last Notable Activity                            0\n",
              "dtype: int64"
            ]
          },
          "execution_count": 3,
          "metadata": {},
          "output_type": "execute_result"
        }
      ],
      "source": [
        "#Check that there are no missing data\n",
        "df.isnull().sum()"
      ]
    },
    {
      "cell_type": "code",
      "execution_count": 4,
      "metadata": {
        "id": "DKJ3NU0X_Gch"
      },
      "outputs": [],
      "source": [
        "from sklearn.preprocessing import LabelEncoder\n",
        "from sklearn.model_selection import train_test_split\n",
        "\n",
        "le = LabelEncoder()\n",
        "for col in df.columns:\n",
        "    if df[col].dtype == 'object':\n",
        "        df[col] = le.fit_transform(df[col])\n",
        "\n",
        "df = df.drop(columns=['Prospect ID','Lead Number'])\n",
        "y = df['Converted']\n",
        "X = df.drop(columns=['Converted'])\n",
        "\n",
        "X_train, X_test, y_train, y_test = train_test_split(X, y, test_size=0.30)"
      ]
    },
    {
      "cell_type": "code",
      "execution_count": 5,
      "metadata": {
        "id": "qyiN6tHuE4Zl"
      },
      "outputs": [],
      "source": [
        "def eval(yact,ypred):\n",
        " from sklearn import metrics\n",
        " print(\"Accuracy:\",metrics.accuracy_score(yact, ypred))\n",
        " print(\"Precision:\",metrics.precision_score(yact, ypred))\n",
        " print(\"Recall:\",metrics.recall_score(yact, ypred))\n",
        " \n",
        " cnf_matrix = metrics.confusion_matrix(yact, ypred)\n",
        " import numpy as np\n",
        " import matplotlib.pyplot as plt\n",
        " import seaborn as sns\n",
        " %matplotlib inline\n",
        " class_names=[0,1] # name  of classes\n",
        " fig, ax = plt.subplots()\n",
        " tick_marks = np.arange(len(class_names))\n",
        " plt.xticks(tick_marks, class_names)\n",
        " plt.yticks(tick_marks, class_names)\n",
        " # create heatmap\n",
        " sns.heatmap(pd.DataFrame(cnf_matrix), annot=True, cmap=\"YlGnBu\" ,fmt='g')\n",
        " ax.xaxis.set_label_position(\"top\")\n",
        " plt.tight_layout()\n",
        " plt.title('Confusion matrix', y=1.1)\n",
        " plt.ylabel('Actual label')\n",
        " plt.xlabel('Predicted label')\n"
      ]
    },
    {
      "cell_type": "code",
      "execution_count": null,
      "metadata": {
        "id": "g2gxBq6kCdWa"
      },
      "outputs": [],
      "source": [
        "#1)With optuna method and using train data  choose best method among Random Forest\",\"XGBoost\", \"LightGBM\",\"GradientBoostingClassifier\"\n",
        "#and optimeze these method based on following parameters.\n",
        "#max_depth = trial.suggest_int(\"max_depth\", 2,X_train.shape[1])\n",
        "#max_features = trial.suggest_int(\"max_features\", 2,X_train.shape[1])\n",
        "#Evaluate performance of the best method on test data using eval function defined above.\n",
        "#Note: This should be similar to what we have done in the exercises in class. "
      ]
    },
    {
      "cell_type": "code",
      "execution_count": 7,
      "metadata": {
        "colab": {
          "base_uri": "https://localhost:8080/"
        },
        "id": "L7lcW06x872A",
        "outputId": "800f00be-d61b-4522-f423-552e753ea3d2"
      },
      "outputs": [
        {
          "name": "stdout",
          "output_type": "stream",
          "text": [
            "Looking in indexes: https://pypi.org/simple, https://us-python.pkg.dev/colab-wheels/public/simple/\n",
            "Collecting optuna\n",
            "  Downloading optuna-3.1.1-py3-none-any.whl (365 kB)\n",
            "\u001b[2K     \u001b[90m━━━━━━━━━━━━━━━━━━━━━━━━━━━━━━━━━━━━━━━\u001b[0m \u001b[32m365.7/365.7 kB\u001b[0m \u001b[31m7.7 MB/s\u001b[0m eta \u001b[36m0:00:00\u001b[0m\n",
            "\u001b[?25hRequirement already satisfied: tqdm in /usr/local/lib/python3.9/dist-packages (from optuna) (4.65.0)\n",
            "Requirement already satisfied: sqlalchemy>=1.3.0 in /usr/local/lib/python3.9/dist-packages (from optuna) (2.0.9)\n",
            "Collecting cmaes>=0.9.1\n",
            "  Downloading cmaes-0.9.1-py3-none-any.whl (21 kB)\n",
            "Requirement already satisfied: packaging>=20.0 in /usr/local/lib/python3.9/dist-packages (from optuna) (23.0)\n",
            "Collecting colorlog\n",
            "  Downloading colorlog-6.7.0-py2.py3-none-any.whl (11 kB)\n",
            "Requirement already satisfied: numpy in /usr/local/lib/python3.9/dist-packages (from optuna) (1.22.4)\n",
            "Requirement already satisfied: PyYAML in /usr/local/lib/python3.9/dist-packages (from optuna) (6.0)\n",
            "Collecting alembic>=1.5.0\n",
            "  Downloading alembic-1.10.3-py3-none-any.whl (212 kB)\n",
            "\u001b[2K     \u001b[90m━━━━━━━━━━━━━━━━━━━━━━━━━━━━━━━━━━━━━━\u001b[0m \u001b[32m212.3/212.3 kB\u001b[0m \u001b[31m20.6 MB/s\u001b[0m eta \u001b[36m0:00:00\u001b[0m\n",
            "\u001b[?25hCollecting Mako\n",
            "  Downloading Mako-1.2.4-py3-none-any.whl (78 kB)\n",
            "\u001b[2K     \u001b[90m━━━━━━━━━━━━━━━━━━━━━━━━━━━━━━━━━━━━━━━━\u001b[0m \u001b[32m78.7/78.7 kB\u001b[0m \u001b[31m9.4 MB/s\u001b[0m eta \u001b[36m0:00:00\u001b[0m\n",
            "\u001b[?25hRequirement already satisfied: typing-extensions>=4 in /usr/local/lib/python3.9/dist-packages (from alembic>=1.5.0->optuna) (4.5.0)\n",
            "Requirement already satisfied: greenlet!=0.4.17 in /usr/local/lib/python3.9/dist-packages (from sqlalchemy>=1.3.0->optuna) (2.0.2)\n",
            "Requirement already satisfied: MarkupSafe>=0.9.2 in /usr/local/lib/python3.9/dist-packages (from Mako->alembic>=1.5.0->optuna) (2.1.2)\n",
            "Installing collected packages: Mako, colorlog, cmaes, alembic, optuna\n",
            "Successfully installed Mako-1.2.4 alembic-1.10.3 cmaes-0.9.1 colorlog-6.7.0 optuna-3.1.1\n"
          ]
        }
      ],
      "source": [
        "!pip install optuna"
      ]
    },
    {
      "cell_type": "code",
      "execution_count": 12,
      "metadata": {
        "colab": {
          "base_uri": "https://localhost:8080/"
        },
        "id": "fikPR3mN-PtS",
        "outputId": "25bfdc36-a537-4207-bb2b-51e35ef0b6d3"
      },
      "outputs": [
        {
          "name": "stderr",
          "output_type": "stream",
          "text": [
            "\u001b[32m[I 2023-04-17 16:08:00,405]\u001b[0m A new study created in memory with name: no-name-a8b58632-24d5-4322-a25e-e93230be4672\u001b[0m\n"
          ]
        },
        {
          "name": "stdout",
          "output_type": "stream",
          "text": [
            "[LightGBM] [Warning] Unknown parameter: max_features\n"
          ]
        },
        {
          "name": "stderr",
          "output_type": "stream",
          "text": [
            "\u001b[32m[I 2023-04-17 16:08:01,515]\u001b[0m Trial 0 finished with value: 0.9386724386724387 and parameters: {'max_depth': 5, 'max_features': 26, 'method': 'LightGBM'}. Best is trial 0 with value: 0.9386724386724387.\u001b[0m\n"
          ]
        },
        {
          "name": "stdout",
          "output_type": "stream",
          "text": [
            "[LightGBM] [Warning] Unknown parameter: max_features\n"
          ]
        },
        {
          "name": "stderr",
          "output_type": "stream",
          "text": [
            "\u001b[32m[I 2023-04-17 16:08:02,002]\u001b[0m Trial 1 finished with value: 0.9296536796536796 and parameters: {'max_depth': 3, 'max_features': 23, 'method': 'LightGBM'}. Best is trial 0 with value: 0.9386724386724387.\u001b[0m\n"
          ]
        },
        {
          "name": "stdout",
          "output_type": "stream",
          "text": [
            "[LightGBM] [Warning] Unknown parameter: max_features\n"
          ]
        },
        {
          "name": "stderr",
          "output_type": "stream",
          "text": [
            "\u001b[32m[I 2023-04-17 16:08:06,170]\u001b[0m Trial 2 finished with value: 0.937950937950938 and parameters: {'max_depth': 9, 'max_features': 24, 'method': 'LightGBM'}. Best is trial 0 with value: 0.9386724386724387.\u001b[0m\n",
            "\u001b[32m[I 2023-04-17 16:08:24,173]\u001b[0m Trial 3 finished with value: 0.9181096681096681 and parameters: {'max_depth': 31, 'max_features': 3, 'method': 'GradientBoostingClassifier'}. Best is trial 0 with value: 0.9386724386724387.\u001b[0m\n"
          ]
        },
        {
          "name": "stdout",
          "output_type": "stream",
          "text": [
            "[16:08:24] WARNING: ../src/learner.cc:767: \n",
            "Parameters: { \"max_features\" } are not used.\n",
            "\n"
          ]
        },
        {
          "name": "stderr",
          "output_type": "stream",
          "text": [
            "\u001b[32m[I 2023-04-17 16:08:27,097]\u001b[0m Trial 4 finished with value: 0.9314574314574314 and parameters: {'max_depth': 10, 'max_features': 32, 'method': 'XGBoost'}. Best is trial 0 with value: 0.9386724386724387.\u001b[0m\n",
            "\u001b[32m[I 2023-04-17 16:08:27,284]\u001b[0m Trial 5 finished with value: 0.9415584415584416 and parameters: {'max_depth': 26, 'max_features': 24, 'method': 'LightGBM'}. Best is trial 5 with value: 0.9415584415584416.\u001b[0m\n"
          ]
        },
        {
          "name": "stdout",
          "output_type": "stream",
          "text": [
            "[LightGBM] [Warning] Unknown parameter: max_features\n",
            "[LightGBM] [Warning] Unknown parameter: max_features\n"
          ]
        },
        {
          "name": "stderr",
          "output_type": "stream",
          "text": [
            "\u001b[32m[I 2023-04-17 16:08:27,464]\u001b[0m Trial 6 finished with value: 0.937950937950938 and parameters: {'max_depth': 9, 'max_features': 32, 'method': 'LightGBM'}. Best is trial 5 with value: 0.9415584415584416.\u001b[0m\n",
            "\u001b[32m[I 2023-04-17 16:08:27,625]\u001b[0m Trial 7 finished with value: 0.9314574314574314 and parameters: {'max_depth': 4, 'max_features': 23, 'method': 'LightGBM'}. Best is trial 5 with value: 0.9415584415584416.\u001b[0m\n"
          ]
        },
        {
          "name": "stdout",
          "output_type": "stream",
          "text": [
            "[LightGBM] [Warning] Unknown parameter: max_features\n"
          ]
        },
        {
          "name": "stderr",
          "output_type": "stream",
          "text": [
            "\u001b[32m[I 2023-04-17 16:08:28,718]\u001b[0m Trial 8 finished with value: 0.9195526695526696 and parameters: {'max_depth': 26, 'max_features': 10, 'method': 'RandomForest'}. Best is trial 5 with value: 0.9415584415584416.\u001b[0m\n",
            "\u001b[32m[I 2023-04-17 16:08:38,210]\u001b[0m Trial 9 finished with value: 0.9274891774891775 and parameters: {'max_depth': 16, 'max_features': 28, 'method': 'GradientBoostingClassifier'}. Best is trial 5 with value: 0.9415584415584416.\u001b[0m\n"
          ]
        },
        {
          "name": "stdout",
          "output_type": "stream",
          "text": [
            "[16:08:38] WARNING: ../src/learner.cc:767: \n",
            "Parameters: { \"max_features\" } are not used.\n",
            "\n"
          ]
        },
        {
          "name": "stderr",
          "output_type": "stream",
          "text": [
            "\u001b[32m[I 2023-04-17 16:08:41,313]\u001b[0m Trial 10 finished with value: 0.9310966810966811 and parameters: {'max_depth': 24, 'max_features': 16, 'method': 'XGBoost'}. Best is trial 5 with value: 0.9415584415584416.\u001b[0m\n",
            "\u001b[32m[I 2023-04-17 16:08:41,506]\u001b[0m Trial 11 finished with value: 0.9411976911976911 and parameters: {'max_depth': 18, 'max_features': 17, 'method': 'LightGBM'}. Best is trial 5 with value: 0.9415584415584416.\u001b[0m\n"
          ]
        },
        {
          "name": "stdout",
          "output_type": "stream",
          "text": [
            "[LightGBM] [Warning] Unknown parameter: max_features\n"
          ]
        },
        {
          "name": "stderr",
          "output_type": "stream",
          "text": [
            "\u001b[32m[I 2023-04-17 16:08:43,337]\u001b[0m Trial 12 finished with value: 0.924963924963925 and parameters: {'max_depth': 19, 'max_features': 16, 'method': 'RandomForest'}. Best is trial 5 with value: 0.9415584415584416.\u001b[0m\n"
          ]
        },
        {
          "name": "stdout",
          "output_type": "stream",
          "text": [
            "[LightGBM] [Warning] Unknown parameter: max_features\n"
          ]
        },
        {
          "name": "stderr",
          "output_type": "stream",
          "text": [
            "\u001b[32m[I 2023-04-17 16:08:44,476]\u001b[0m Trial 13 finished with value: 0.9415584415584416 and parameters: {'max_depth': 34, 'max_features': 10, 'method': 'LightGBM'}. Best is trial 5 with value: 0.9415584415584416.\u001b[0m\n"
          ]
        },
        {
          "name": "stdout",
          "output_type": "stream",
          "text": [
            "[LightGBM] [Warning] Unknown parameter: max_features\n"
          ]
        },
        {
          "name": "stderr",
          "output_type": "stream",
          "text": [
            "\u001b[32m[I 2023-04-17 16:08:44,898]\u001b[0m Trial 14 finished with value: 0.9415584415584416 and parameters: {'max_depth': 34, 'max_features': 8, 'method': 'LightGBM'}. Best is trial 5 with value: 0.9415584415584416.\u001b[0m\n",
            "\u001b[32m[I 2023-04-17 16:08:45,102]\u001b[0m Trial 15 finished with value: 0.9415584415584416 and parameters: {'max_depth': 28, 'max_features': 12, 'method': 'LightGBM'}. Best is trial 5 with value: 0.9415584415584416.\u001b[0m\n"
          ]
        },
        {
          "name": "stdout",
          "output_type": "stream",
          "text": [
            "[LightGBM] [Warning] Unknown parameter: max_features\n"
          ]
        },
        {
          "name": "stderr",
          "output_type": "stream",
          "text": [
            "\u001b[32m[I 2023-04-17 16:08:50,299]\u001b[0m Trial 16 finished with value: 0.9231601731601732 and parameters: {'max_depth': 34, 'max_features': 5, 'method': 'GradientBoostingClassifier'}. Best is trial 5 with value: 0.9415584415584416.\u001b[0m\n",
            "\u001b[32m[I 2023-04-17 16:08:51,865]\u001b[0m Trial 17 finished with value: 0.9246031746031746 and parameters: {'max_depth': 22, 'max_features': 19, 'method': 'RandomForest'}. Best is trial 5 with value: 0.9415584415584416.\u001b[0m\n"
          ]
        },
        {
          "name": "stdout",
          "output_type": "stream",
          "text": [
            "[16:08:51] WARNING: ../src/learner.cc:767: \n",
            "Parameters: { \"max_features\" } are not used.\n",
            "\n"
          ]
        },
        {
          "name": "stderr",
          "output_type": "stream",
          "text": [
            "\u001b[32m[I 2023-04-17 16:08:56,190]\u001b[0m Trial 18 finished with value: 0.933982683982684 and parameters: {'max_depth': 30, 'max_features': 11, 'method': 'XGBoost'}. Best is trial 5 with value: 0.9415584415584416.\u001b[0m\n"
          ]
        },
        {
          "name": "stdout",
          "output_type": "stream",
          "text": [
            "[LightGBM] [Warning] Unknown parameter: max_features\n"
          ]
        },
        {
          "name": "stderr",
          "output_type": "stream",
          "text": [
            "\u001b[32m[I 2023-04-17 16:08:57,638]\u001b[0m Trial 19 finished with value: 0.9415584415584416 and parameters: {'max_depth': 30, 'max_features': 14, 'method': 'LightGBM'}. Best is trial 5 with value: 0.9415584415584416.\u001b[0m\n"
          ]
        },
        {
          "name": "stdout",
          "output_type": "stream",
          "text": [
            "[LightGBM] [Warning] Unknown parameter: max_features\n"
          ]
        },
        {
          "name": "stderr",
          "output_type": "stream",
          "text": [
            "\u001b[32m[I 2023-04-17 16:08:58,581]\u001b[0m Trial 20 finished with value: 0.9415584415584416 and parameters: {'max_depth': 25, 'max_features': 19, 'method': 'LightGBM'}. Best is trial 5 with value: 0.9415584415584416.\u001b[0m\n"
          ]
        },
        {
          "name": "stdout",
          "output_type": "stream",
          "text": [
            "[LightGBM] [Warning] Unknown parameter: max_features\n"
          ]
        },
        {
          "name": "stderr",
          "output_type": "stream",
          "text": [
            "\u001b[32m[I 2023-04-17 16:08:58,848]\u001b[0m Trial 21 finished with value: 0.9415584415584416 and parameters: {'max_depth': 33, 'max_features': 7, 'method': 'LightGBM'}. Best is trial 5 with value: 0.9415584415584416.\u001b[0m\n"
          ]
        },
        {
          "name": "stdout",
          "output_type": "stream",
          "text": [
            "[LightGBM] [Warning] Unknown parameter: max_features\n"
          ]
        },
        {
          "name": "stderr",
          "output_type": "stream",
          "text": [
            "\u001b[32m[I 2023-04-17 16:08:59,163]\u001b[0m Trial 22 finished with value: 0.9415584415584416 and parameters: {'max_depth': 33, 'max_features': 8, 'method': 'LightGBM'}. Best is trial 5 with value: 0.9415584415584416.\u001b[0m\n"
          ]
        },
        {
          "name": "stdout",
          "output_type": "stream",
          "text": [
            "[LightGBM] [Warning] Unknown parameter: max_features\n"
          ]
        },
        {
          "name": "stderr",
          "output_type": "stream",
          "text": [
            "\u001b[32m[I 2023-04-17 16:08:59,493]\u001b[0m Trial 23 finished with value: 0.9415584415584416 and parameters: {'max_depth': 28, 'max_features': 2, 'method': 'LightGBM'}. Best is trial 5 with value: 0.9415584415584416.\u001b[0m\n"
          ]
        },
        {
          "name": "stdout",
          "output_type": "stream",
          "text": [
            "[LightGBM] [Warning] Unknown parameter: max_features\n"
          ]
        },
        {
          "name": "stderr",
          "output_type": "stream",
          "text": [
            "\u001b[32m[I 2023-04-17 16:08:59,831]\u001b[0m Trial 24 finished with value: 0.9415584415584416 and parameters: {'max_depth': 22, 'max_features': 7, 'method': 'LightGBM'}. Best is trial 5 with value: 0.9415584415584416.\u001b[0m\n"
          ]
        },
        {
          "name": "stdout",
          "output_type": "stream",
          "text": [
            "[LightGBM] [Warning] Unknown parameter: max_features\n"
          ]
        },
        {
          "name": "stderr",
          "output_type": "stream",
          "text": [
            "\u001b[32m[I 2023-04-17 16:09:00,204]\u001b[0m Trial 25 finished with value: 0.9415584415584416 and parameters: {'max_depth': 34, 'max_features': 21, 'method': 'LightGBM'}. Best is trial 5 with value: 0.9415584415584416.\u001b[0m\n",
            "\u001b[32m[I 2023-04-17 16:09:01,932]\u001b[0m Trial 26 finished with value: 0.9195526695526696 and parameters: {'max_depth': 28, 'max_features': 13, 'method': 'RandomForest'}. Best is trial 5 with value: 0.9415584415584416.\u001b[0m\n",
            "\u001b[32m[I 2023-04-17 16:09:06,987]\u001b[0m Trial 27 finished with value: 0.924963924963925 and parameters: {'max_depth': 31, 'max_features': 9, 'method': 'GradientBoostingClassifier'}. Best is trial 5 with value: 0.9415584415584416.\u001b[0m\n"
          ]
        },
        {
          "name": "stdout",
          "output_type": "stream",
          "text": [
            "[16:09:07] WARNING: ../src/learner.cc:767: \n",
            "Parameters: { \"max_features\" } are not used.\n",
            "\n"
          ]
        },
        {
          "name": "stderr",
          "output_type": "stream",
          "text": [
            "\u001b[32m[I 2023-04-17 16:09:12,236]\u001b[0m Trial 28 finished with value: 0.9318181818181818 and parameters: {'max_depth': 22, 'max_features': 5, 'method': 'XGBoost'}. Best is trial 5 with value: 0.9415584415584416.\u001b[0m\n",
            "\u001b[32m[I 2023-04-17 16:09:12,433]\u001b[0m Trial 29 finished with value: 0.9386724386724387 and parameters: {'max_depth': 13, 'max_features': 27, 'method': 'LightGBM'}. Best is trial 5 with value: 0.9415584415584416.\u001b[0m\n"
          ]
        },
        {
          "name": "stdout",
          "output_type": "stream",
          "text": [
            "[LightGBM] [Warning] Unknown parameter: max_features\n",
            "[LightGBM] [Warning] Unknown parameter: max_features\n"
          ]
        },
        {
          "name": "stderr",
          "output_type": "stream",
          "text": [
            "\u001b[32m[I 2023-04-17 16:09:12,634]\u001b[0m Trial 30 finished with value: 0.9415584415584416 and parameters: {'max_depth': 27, 'max_features': 14, 'method': 'LightGBM'}. Best is trial 5 with value: 0.9415584415584416.\u001b[0m\n",
            "\u001b[32m[I 2023-04-17 16:09:12,840]\u001b[0m Trial 31 finished with value: 0.9415584415584416 and parameters: {'max_depth': 29, 'max_features': 12, 'method': 'LightGBM'}. Best is trial 5 with value: 0.9415584415584416.\u001b[0m\n"
          ]
        },
        {
          "name": "stdout",
          "output_type": "stream",
          "text": [
            "[LightGBM] [Warning] Unknown parameter: max_features\n",
            "[LightGBM] [Warning] Unknown parameter: max_features\n"
          ]
        },
        {
          "name": "stderr",
          "output_type": "stream",
          "text": [
            "\u001b[32m[I 2023-04-17 16:09:13,104]\u001b[0m Trial 32 finished with value: 0.9415584415584416 and parameters: {'max_depth': 32, 'max_features': 10, 'method': 'LightGBM'}. Best is trial 5 with value: 0.9415584415584416.\u001b[0m\n",
            "\u001b[32m[I 2023-04-17 16:09:13,305]\u001b[0m Trial 33 finished with value: 0.9415584415584416 and parameters: {'max_depth': 24, 'max_features': 5, 'method': 'LightGBM'}. Best is trial 5 with value: 0.9415584415584416.\u001b[0m\n"
          ]
        },
        {
          "name": "stdout",
          "output_type": "stream",
          "text": [
            "[LightGBM] [Warning] Unknown parameter: max_features\n"
          ]
        },
        {
          "name": "stderr",
          "output_type": "stream",
          "text": [
            "\u001b[32m[I 2023-04-17 16:09:13,520]\u001b[0m Trial 34 finished with value: 0.9415584415584416 and parameters: {'max_depth': 32, 'max_features': 29, 'method': 'LightGBM'}. Best is trial 5 with value: 0.9415584415584416.\u001b[0m\n"
          ]
        },
        {
          "name": "stdout",
          "output_type": "stream",
          "text": [
            "[LightGBM] [Warning] Unknown parameter: max_features\n"
          ]
        },
        {
          "name": "stderr",
          "output_type": "stream",
          "text": [
            "\u001b[32m[I 2023-04-17 16:09:13,744]\u001b[0m Trial 35 finished with value: 0.9415584415584416 and parameters: {'max_depth': 29, 'max_features': 25, 'method': 'LightGBM'}. Best is trial 5 with value: 0.9415584415584416.\u001b[0m\n"
          ]
        },
        {
          "name": "stdout",
          "output_type": "stream",
          "text": [
            "[LightGBM] [Warning] Unknown parameter: max_features\n"
          ]
        },
        {
          "name": "stderr",
          "output_type": "stream",
          "text": [
            "\u001b[32m[I 2023-04-17 16:09:13,957]\u001b[0m Trial 36 finished with value: 0.9415584415584416 and parameters: {'max_depth': 34, 'max_features': 22, 'method': 'LightGBM'}. Best is trial 5 with value: 0.9415584415584416.\u001b[0m\n"
          ]
        },
        {
          "name": "stdout",
          "output_type": "stream",
          "text": [
            "[LightGBM] [Warning] Unknown parameter: max_features\n"
          ]
        },
        {
          "name": "stderr",
          "output_type": "stream",
          "text": [
            "\u001b[32m[I 2023-04-17 16:09:14,181]\u001b[0m Trial 37 finished with value: 0.9415584415584416 and parameters: {'max_depth': 26, 'max_features': 30, 'method': 'LightGBM'}. Best is trial 5 with value: 0.9415584415584416.\u001b[0m\n"
          ]
        },
        {
          "name": "stdout",
          "output_type": "stream",
          "text": [
            "[LightGBM] [Warning] Unknown parameter: max_features\n"
          ]
        },
        {
          "name": "stderr",
          "output_type": "stream",
          "text": [
            "\u001b[32m[I 2023-04-17 16:09:15,624]\u001b[0m Trial 38 finished with value: 0.9321789321789322 and parameters: {'max_depth': 7, 'max_features': 15, 'method': 'GradientBoostingClassifier'}. Best is trial 5 with value: 0.9415584415584416.\u001b[0m\n"
          ]
        },
        {
          "name": "stdout",
          "output_type": "stream",
          "text": [
            "[16:09:15] WARNING: ../src/learner.cc:767: \n",
            "Parameters: { \"max_features\" } are not used.\n",
            "\n"
          ]
        },
        {
          "name": "stderr",
          "output_type": "stream",
          "text": [
            "\u001b[32m[I 2023-04-17 16:09:18,777]\u001b[0m Trial 39 finished with value: 0.9329004329004329 and parameters: {'max_depth': 31, 'max_features': 34, 'method': 'XGBoost'}. Best is trial 5 with value: 0.9415584415584416.\u001b[0m\n",
            "\u001b[32m[I 2023-04-17 16:09:18,973]\u001b[0m Trial 40 finished with value: 0.9415584415584416 and parameters: {'max_depth': 20, 'max_features': 12, 'method': 'LightGBM'}. Best is trial 5 with value: 0.9415584415584416.\u001b[0m\n"
          ]
        },
        {
          "name": "stdout",
          "output_type": "stream",
          "text": [
            "[LightGBM] [Warning] Unknown parameter: max_features\n",
            "[LightGBM] [Warning] Unknown parameter: max_features\n"
          ]
        },
        {
          "name": "stderr",
          "output_type": "stream",
          "text": [
            "\u001b[32m[I 2023-04-17 16:09:19,185]\u001b[0m Trial 41 finished with value: 0.9415584415584416 and parameters: {'max_depth': 30, 'max_features': 14, 'method': 'LightGBM'}. Best is trial 5 with value: 0.9415584415584416.\u001b[0m\n",
            "\u001b[32m[I 2023-04-17 16:09:19,404]\u001b[0m Trial 42 finished with value: 0.9415584415584416 and parameters: {'max_depth': 32, 'max_features': 9, 'method': 'LightGBM'}. Best is trial 5 with value: 0.9415584415584416.\u001b[0m\n"
          ]
        },
        {
          "name": "stdout",
          "output_type": "stream",
          "text": [
            "[LightGBM] [Warning] Unknown parameter: max_features\n"
          ]
        },
        {
          "name": "stderr",
          "output_type": "stream",
          "text": [
            "\u001b[32m[I 2023-04-17 16:09:19,620]\u001b[0m Trial 43 finished with value: 0.9415584415584416 and parameters: {'max_depth': 30, 'max_features': 18, 'method': 'LightGBM'}. Best is trial 5 with value: 0.9415584415584416.\u001b[0m\n"
          ]
        },
        {
          "name": "stdout",
          "output_type": "stream",
          "text": [
            "[LightGBM] [Warning] Unknown parameter: max_features\n"
          ]
        },
        {
          "name": "stderr",
          "output_type": "stream",
          "text": [
            "\u001b[32m[I 2023-04-17 16:09:19,822]\u001b[0m Trial 44 finished with value: 0.9415584415584416 and parameters: {'max_depth': 27, 'max_features': 11, 'method': 'LightGBM'}. Best is trial 5 with value: 0.9415584415584416.\u001b[0m\n"
          ]
        },
        {
          "name": "stdout",
          "output_type": "stream",
          "text": [
            "[LightGBM] [Warning] Unknown parameter: max_features\n"
          ]
        },
        {
          "name": "stderr",
          "output_type": "stream",
          "text": [
            "\u001b[32m[I 2023-04-17 16:09:20,765]\u001b[0m Trial 45 finished with value: 0.920995670995671 and parameters: {'max_depth': 28, 'max_features': 7, 'method': 'RandomForest'}. Best is trial 5 with value: 0.9415584415584416.\u001b[0m\n",
            "\u001b[32m[I 2023-04-17 16:09:20,958]\u001b[0m Trial 46 finished with value: 0.9415584415584416 and parameters: {'max_depth': 24, 'max_features': 16, 'method': 'LightGBM'}. Best is trial 5 with value: 0.9415584415584416.\u001b[0m\n"
          ]
        },
        {
          "name": "stdout",
          "output_type": "stream",
          "text": [
            "[LightGBM] [Warning] Unknown parameter: max_features\n"
          ]
        },
        {
          "name": "stderr",
          "output_type": "stream",
          "text": [
            "\u001b[32m[I 2023-04-17 16:09:26,534]\u001b[0m Trial 47 finished with value: 0.9227994227994228 and parameters: {'max_depth': 34, 'max_features': 20, 'method': 'GradientBoostingClassifier'}. Best is trial 5 with value: 0.9415584415584416.\u001b[0m\n"
          ]
        },
        {
          "name": "stdout",
          "output_type": "stream",
          "text": [
            "[16:09:26] WARNING: ../src/learner.cc:767: \n",
            "Parameters: { \"max_features\" } are not used.\n",
            "\n"
          ]
        },
        {
          "name": "stderr",
          "output_type": "stream",
          "text": [
            "\u001b[32m[I 2023-04-17 16:09:29,362]\u001b[0m Trial 48 finished with value: 0.9347041847041847 and parameters: {'max_depth': 16, 'max_features': 13, 'method': 'XGBoost'}. Best is trial 5 with value: 0.9415584415584416.\u001b[0m\n",
            "\u001b[32m[I 2023-04-17 16:09:29,583]\u001b[0m Trial 49 finished with value: 0.9415584415584416 and parameters: {'max_depth': 30, 'max_features': 24, 'method': 'LightGBM'}. Best is trial 5 with value: 0.9415584415584416.\u001b[0m\n"
          ]
        },
        {
          "name": "stdout",
          "output_type": "stream",
          "text": [
            "[LightGBM] [Warning] Unknown parameter: max_features\n"
          ]
        },
        {
          "name": "stderr",
          "output_type": "stream",
          "text": [
            "\u001b[32m[I 2023-04-17 16:09:30,708]\u001b[0m Trial 50 finished with value: 0.920995670995671 and parameters: {'max_depth': 32, 'max_features': 10, 'method': 'RandomForest'}. Best is trial 5 with value: 0.9415584415584416.\u001b[0m\n",
            "\u001b[32m[I 2023-04-17 16:09:30,912]\u001b[0m Trial 51 finished with value: 0.9415584415584416 and parameters: {'max_depth': 25, 'max_features': 18, 'method': 'LightGBM'}. Best is trial 5 with value: 0.9415584415584416.\u001b[0m\n"
          ]
        },
        {
          "name": "stdout",
          "output_type": "stream",
          "text": [
            "[LightGBM] [Warning] Unknown parameter: max_features\n",
            "[LightGBM] [Warning] Unknown parameter: max_features\n"
          ]
        },
        {
          "name": "stderr",
          "output_type": "stream",
          "text": [
            "\u001b[32m[I 2023-04-17 16:09:31,115]\u001b[0m Trial 52 finished with value: 0.9415584415584416 and parameters: {'max_depth': 26, 'max_features': 20, 'method': 'LightGBM'}. Best is trial 5 with value: 0.9415584415584416.\u001b[0m\n",
            "\u001b[32m[I 2023-04-17 16:09:31,313]\u001b[0m Trial 53 finished with value: 0.9415584415584416 and parameters: {'max_depth': 23, 'max_features': 17, 'method': 'LightGBM'}. Best is trial 5 with value: 0.9415584415584416.\u001b[0m\n"
          ]
        },
        {
          "name": "stdout",
          "output_type": "stream",
          "text": [
            "[LightGBM] [Warning] Unknown parameter: max_features\n",
            "[LightGBM] [Warning] Unknown parameter: max_features\n"
          ]
        },
        {
          "name": "stderr",
          "output_type": "stream",
          "text": [
            "\u001b[32m[I 2023-04-17 16:09:31,517]\u001b[0m Trial 54 finished with value: 0.9415584415584416 and parameters: {'max_depth': 20, 'max_features': 15, 'method': 'LightGBM'}. Best is trial 5 with value: 0.9415584415584416.\u001b[0m\n",
            "\u001b[32m[I 2023-04-17 16:09:31,739]\u001b[0m Trial 55 finished with value: 0.9415584415584416 and parameters: {'max_depth': 29, 'max_features': 6, 'method': 'LightGBM'}. Best is trial 5 with value: 0.9415584415584416.\u001b[0m\n"
          ]
        },
        {
          "name": "stdout",
          "output_type": "stream",
          "text": [
            "[LightGBM] [Warning] Unknown parameter: max_features\n"
          ]
        },
        {
          "name": "stderr",
          "output_type": "stream",
          "text": [
            "\u001b[32m[I 2023-04-17 16:09:31,942]\u001b[0m Trial 56 finished with value: 0.9415584415584416 and parameters: {'max_depth': 33, 'max_features': 23, 'method': 'LightGBM'}. Best is trial 5 with value: 0.9415584415584416.\u001b[0m\n"
          ]
        },
        {
          "name": "stdout",
          "output_type": "stream",
          "text": [
            "[LightGBM] [Warning] Unknown parameter: max_features\n",
            "[LightGBM] [Warning] Unknown parameter: max_features\n"
          ]
        },
        {
          "name": "stderr",
          "output_type": "stream",
          "text": [
            "\u001b[32m[I 2023-04-17 16:09:32,162]\u001b[0m Trial 57 finished with value: 0.9415584415584416 and parameters: {'max_depth': 27, 'max_features': 9, 'method': 'LightGBM'}. Best is trial 5 with value: 0.9415584415584416.\u001b[0m\n",
            "\u001b[32m[I 2023-04-17 16:09:45,061]\u001b[0m Trial 58 finished with value: 0.9166666666666666 and parameters: {'max_depth': 25, 'max_features': 3, 'method': 'GradientBoostingClassifier'}. Best is trial 5 with value: 0.9415584415584416.\u001b[0m\n",
            "\u001b[32m[I 2023-04-17 16:09:45,158]\u001b[0m Trial 59 finished with value: 0.9137806637806638 and parameters: {'max_depth': 2, 'max_features': 26, 'method': 'LightGBM'}. Best is trial 5 with value: 0.9415584415584416.\u001b[0m\n"
          ]
        },
        {
          "name": "stdout",
          "output_type": "stream",
          "text": [
            "[LightGBM] [Warning] Unknown parameter: max_features\n",
            "[16:09:45] WARNING: ../src/learner.cc:767: \n",
            "Parameters: { \"max_features\" } are not used.\n",
            "\n"
          ]
        },
        {
          "name": "stderr",
          "output_type": "stream",
          "text": [
            "\u001b[32m[I 2023-04-17 16:09:50,288]\u001b[0m Trial 60 finished with value: 0.9329004329004329 and parameters: {'max_depth': 31, 'max_features': 14, 'method': 'XGBoost'}. Best is trial 5 with value: 0.9415584415584416.\u001b[0m\n",
            "\u001b[32m[I 2023-04-17 16:09:50,483]\u001b[0m Trial 61 finished with value: 0.9415584415584416 and parameters: {'max_depth': 33, 'max_features': 8, 'method': 'LightGBM'}. Best is trial 5 with value: 0.9415584415584416.\u001b[0m\n"
          ]
        },
        {
          "name": "stdout",
          "output_type": "stream",
          "text": [
            "[LightGBM] [Warning] Unknown parameter: max_features\n",
            "[LightGBM] [Warning] Unknown parameter: max_features"
          ]
        },
        {
          "name": "stderr",
          "output_type": "stream",
          "text": [
            "\u001b[32m[I 2023-04-17 16:09:50,685]\u001b[0m Trial 62 finished with value: 0.9415584415584416 and parameters: {'max_depth': 33, 'max_features': 11, 'method': 'LightGBM'}. Best is trial 5 with value: 0.9415584415584416.\u001b[0m\n"
          ]
        },
        {
          "name": "stdout",
          "output_type": "stream",
          "text": [
            "\n",
            "[LightGBM] [Warning] Unknown parameter: max_features\n"
          ]
        },
        {
          "name": "stderr",
          "output_type": "stream",
          "text": [
            "\u001b[32m[I 2023-04-17 16:09:50,882]\u001b[0m Trial 63 finished with value: 0.9415584415584416 and parameters: {'max_depth': 34, 'max_features': 6, 'method': 'LightGBM'}. Best is trial 5 with value: 0.9415584415584416.\u001b[0m\n",
            "\u001b[32m[I 2023-04-17 16:09:51,078]\u001b[0m Trial 64 finished with value: 0.9415584415584416 and parameters: {'max_depth': 28, 'max_features': 12, 'method': 'LightGBM'}. Best is trial 5 with value: 0.9415584415584416.\u001b[0m\n"
          ]
        },
        {
          "name": "stdout",
          "output_type": "stream",
          "text": [
            "[LightGBM] [Warning] Unknown parameter: max_features\n"
          ]
        },
        {
          "name": "stderr",
          "output_type": "stream",
          "text": [
            "\u001b[32m[I 2023-04-17 16:09:51,892]\u001b[0m Trial 65 finished with value: 0.9170274170274171 and parameters: {'max_depth': 31, 'max_features': 4, 'method': 'RandomForest'}. Best is trial 5 with value: 0.9415584415584416.\u001b[0m\n",
            "\u001b[32m[I 2023-04-17 16:09:52,084]\u001b[0m Trial 66 finished with value: 0.9415584415584416 and parameters: {'max_depth': 29, 'max_features': 8, 'method': 'LightGBM'}. Best is trial 5 with value: 0.9415584415584416.\u001b[0m\n"
          ]
        },
        {
          "name": "stdout",
          "output_type": "stream",
          "text": [
            "[LightGBM] [Warning] Unknown parameter: max_features\n",
            "[LightGBM] [Warning] Unknown parameter: max_features\n"
          ]
        },
        {
          "name": "stderr",
          "output_type": "stream",
          "text": [
            "\u001b[32m[I 2023-04-17 16:09:52,310]\u001b[0m Trial 67 finished with value: 0.9415584415584416 and parameters: {'max_depth': 33, 'max_features': 7, 'method': 'LightGBM'}. Best is trial 5 with value: 0.9415584415584416.\u001b[0m\n",
            "\u001b[32m[I 2023-04-17 16:09:52,505]\u001b[0m Trial 68 finished with value: 0.9415584415584416 and parameters: {'max_depth': 31, 'max_features': 13, 'method': 'LightGBM'}. Best is trial 5 with value: 0.9415584415584416.\u001b[0m\n"
          ]
        },
        {
          "name": "stdout",
          "output_type": "stream",
          "text": [
            "[LightGBM] [Warning] Unknown parameter: max_features\n",
            "[LightGBM] [Warning] Unknown parameter: max_features\n"
          ]
        },
        {
          "name": "stderr",
          "output_type": "stream",
          "text": [
            "\u001b[32m[I 2023-04-17 16:09:52,699]\u001b[0m Trial 69 finished with value: 0.943001443001443 and parameters: {'max_depth': 11, 'max_features': 10, 'method': 'LightGBM'}. Best is trial 69 with value: 0.943001443001443.\u001b[0m\n",
            "\u001b[32m[I 2023-04-17 16:09:52,890]\u001b[0m Trial 70 finished with value: 0.9393939393939394 and parameters: {'max_depth': 14, 'max_features': 11, 'method': 'LightGBM'}. Best is trial 69 with value: 0.943001443001443.\u001b[0m\n"
          ]
        },
        {
          "name": "stdout",
          "output_type": "stream",
          "text": [
            "[LightGBM] [Warning] Unknown parameter: max_features\n",
            "[LightGBM] [Warning] Unknown parameter: max_features\n"
          ]
        },
        {
          "name": "stderr",
          "output_type": "stream",
          "text": [
            "\u001b[32m[I 2023-04-17 16:09:53,073]\u001b[0m Trial 71 finished with value: 0.9422799422799423 and parameters: {'max_depth': 7, 'max_features': 10, 'method': 'LightGBM'}. Best is trial 69 with value: 0.943001443001443.\u001b[0m\n",
            "\u001b[32m[I 2023-04-17 16:09:53,235]\u001b[0m Trial 72 finished with value: 0.9386724386724387 and parameters: {'max_depth': 5, 'max_features': 10, 'method': 'LightGBM'}. Best is trial 69 with value: 0.943001443001443.\u001b[0m\n"
          ]
        },
        {
          "name": "stdout",
          "output_type": "stream",
          "text": [
            "[LightGBM] [Warning] Unknown parameter: max_features\n",
            "[LightGBM] [Warning] Unknown parameter: max_features\n"
          ]
        },
        {
          "name": "stderr",
          "output_type": "stream",
          "text": [
            "\u001b[32m[I 2023-04-17 16:09:53,450]\u001b[0m Trial 73 finished with value: 0.9404761904761905 and parameters: {'max_depth': 10, 'max_features': 9, 'method': 'LightGBM'}. Best is trial 69 with value: 0.943001443001443.\u001b[0m\n",
            "\u001b[32m[I 2023-04-17 16:09:53,636]\u001b[0m Trial 74 finished with value: 0.9397546897546898 and parameters: {'max_depth': 8, 'max_features': 13, 'method': 'LightGBM'}. Best is trial 69 with value: 0.943001443001443.\u001b[0m\n"
          ]
        },
        {
          "name": "stdout",
          "output_type": "stream",
          "text": [
            "[LightGBM] [Warning] Unknown parameter: max_features\n",
            "[LightGBM] [Warning] Unknown parameter: max_features\n"
          ]
        },
        {
          "name": "stderr",
          "output_type": "stream",
          "text": [
            "\u001b[32m[I 2023-04-17 16:09:53,822]\u001b[0m Trial 75 finished with value: 0.9372294372294372 and parameters: {'max_depth': 6, 'max_features': 15, 'method': 'LightGBM'}. Best is trial 69 with value: 0.943001443001443.\u001b[0m\n",
            "\u001b[32m[I 2023-04-17 16:09:56,198]\u001b[0m Trial 76 finished with value: 0.9289321789321789 and parameters: {'max_depth': 10, 'max_features': 10, 'method': 'GradientBoostingClassifier'}. Best is trial 69 with value: 0.943001443001443.\u001b[0m\n"
          ]
        },
        {
          "name": "stdout",
          "output_type": "stream",
          "text": [
            "[LightGBM] [Warning] Unknown parameter: max_features\n"
          ]
        },
        {
          "name": "stderr",
          "output_type": "stream",
          "text": [
            "\u001b[32m[I 2023-04-17 16:09:56,782]\u001b[0m Trial 77 finished with value: 0.9422799422799423 and parameters: {'max_depth': 12, 'max_features': 12, 'method': 'LightGBM'}. Best is trial 69 with value: 0.943001443001443.\u001b[0m\n",
            "\u001b[32m[I 2023-04-17 16:09:56,973]\u001b[0m Trial 78 finished with value: 0.9422799422799423 and parameters: {'max_depth': 12, 'max_features': 12, 'method': 'LightGBM'}. Best is trial 69 with value: 0.943001443001443.\u001b[0m\n"
          ]
        },
        {
          "name": "stdout",
          "output_type": "stream",
          "text": [
            "[LightGBM] [Warning] Unknown parameter: max_features\n",
            "[16:09:57] WARNING: ../src/learner.cc:767: \n",
            "Parameters: { \"max_features\" } are not used.\n",
            "\n"
          ]
        },
        {
          "name": "stderr",
          "output_type": "stream",
          "text": [
            "\u001b[32m[I 2023-04-17 16:09:59,327]\u001b[0m Trial 79 finished with value: 0.933982683982684 and parameters: {'max_depth': 12, 'max_features': 12, 'method': 'XGBoost'}. Best is trial 69 with value: 0.943001443001443.\u001b[0m\n",
            "\u001b[32m[I 2023-04-17 16:09:59,544]\u001b[0m Trial 80 finished with value: 0.9404761904761905 and parameters: {'max_depth': 15, 'max_features': 8, 'method': 'LightGBM'}. Best is trial 69 with value: 0.943001443001443.\u001b[0m\n"
          ]
        },
        {
          "name": "stdout",
          "output_type": "stream",
          "text": [
            "[LightGBM] [Warning] Unknown parameter: max_features\n"
          ]
        },
        {
          "name": "stderr",
          "output_type": "stream",
          "text": [
            "\u001b[32m[I 2023-04-17 16:09:59,762]\u001b[0m Trial 81 finished with value: 0.9422799422799423 and parameters: {'max_depth': 12, 'max_features': 11, 'method': 'LightGBM'}. Best is trial 69 with value: 0.943001443001443.\u001b[0m\n"
          ]
        },
        {
          "name": "stdout",
          "output_type": "stream",
          "text": [
            "[LightGBM] [Warning] Unknown parameter: max_features\n",
            "[LightGBM] [Warning] Unknown parameter: max_features\n"
          ]
        },
        {
          "name": "stderr",
          "output_type": "stream",
          "text": [
            "\u001b[32m[I 2023-04-17 16:10:00,091]\u001b[0m Trial 82 finished with value: 0.9422799422799423 and parameters: {'max_depth': 12, 'max_features': 11, 'method': 'LightGBM'}. Best is trial 69 with value: 0.943001443001443.\u001b[0m\n"
          ]
        },
        {
          "name": "stdout",
          "output_type": "stream",
          "text": [
            "[LightGBM] [Warning] Unknown parameter: max_features\n"
          ]
        },
        {
          "name": "stderr",
          "output_type": "stream",
          "text": [
            "\u001b[32m[I 2023-04-17 16:10:00,577]\u001b[0m Trial 83 finished with value: 0.9422799422799423 and parameters: {'max_depth': 12, 'max_features': 9, 'method': 'LightGBM'}. Best is trial 69 with value: 0.943001443001443.\u001b[0m\n"
          ]
        },
        {
          "name": "stdout",
          "output_type": "stream",
          "text": [
            "[LightGBM] [Warning] Unknown parameter: max_features\n"
          ]
        },
        {
          "name": "stderr",
          "output_type": "stream",
          "text": [
            "\u001b[32m[I 2023-04-17 16:10:02,411]\u001b[0m Trial 84 finished with value: 0.9422799422799423 and parameters: {'max_depth': 12, 'max_features': 11, 'method': 'LightGBM'}. Best is trial 69 with value: 0.943001443001443.\u001b[0m\n"
          ]
        },
        {
          "name": "stdout",
          "output_type": "stream",
          "text": [
            "[LightGBM] [Warning] Unknown parameter: max_features\n"
          ]
        },
        {
          "name": "stderr",
          "output_type": "stream",
          "text": [
            "\u001b[32m[I 2023-04-17 16:10:02,680]\u001b[0m Trial 85 finished with value: 0.9422799422799423 and parameters: {'max_depth': 12, 'max_features': 11, 'method': 'LightGBM'}. Best is trial 69 with value: 0.943001443001443.\u001b[0m\n"
          ]
        },
        {
          "name": "stdout",
          "output_type": "stream",
          "text": [
            "[LightGBM] [Warning] Unknown parameter: max_features\n"
          ]
        },
        {
          "name": "stderr",
          "output_type": "stream",
          "text": [
            "\u001b[32m[I 2023-04-17 16:10:03,822]\u001b[0m Trial 86 finished with value: 0.9422799422799423 and parameters: {'max_depth': 12, 'max_features': 11, 'method': 'LightGBM'}. Best is trial 69 with value: 0.943001443001443.\u001b[0m\n",
            "\u001b[32m[I 2023-04-17 16:10:04,027]\u001b[0m Trial 87 finished with value: 0.943001443001443 and parameters: {'max_depth': 11, 'max_features': 9, 'method': 'LightGBM'}. Best is trial 69 with value: 0.943001443001443.\u001b[0m\n"
          ]
        },
        {
          "name": "stdout",
          "output_type": "stream",
          "text": [
            "[LightGBM] [Warning] Unknown parameter: max_features\n",
            "[LightGBM] [Warning] Unknown parameter: max_features\n"
          ]
        },
        {
          "name": "stderr",
          "output_type": "stream",
          "text": [
            "\u001b[32m[I 2023-04-17 16:10:04,223]\u001b[0m Trial 88 finished with value: 0.943001443001443 and parameters: {'max_depth': 11, 'max_features': 9, 'method': 'LightGBM'}. Best is trial 69 with value: 0.943001443001443.\u001b[0m\n",
            "\u001b[32m[I 2023-04-17 16:10:05,093]\u001b[0m Trial 89 finished with value: 0.9170274170274171 and parameters: {'max_depth': 11, 'max_features': 9, 'method': 'RandomForest'}. Best is trial 69 with value: 0.943001443001443.\u001b[0m\n",
            "\u001b[32m[I 2023-04-17 16:10:05,292]\u001b[0m Trial 90 finished with value: 0.937950937950938 and parameters: {'max_depth': 9, 'max_features': 6, 'method': 'LightGBM'}. Best is trial 69 with value: 0.943001443001443.\u001b[0m\n"
          ]
        },
        {
          "name": "stdout",
          "output_type": "stream",
          "text": [
            "[LightGBM] [Warning] Unknown parameter: max_features\n",
            "[LightGBM] [Warning] Unknown parameter: max_features\n"
          ]
        },
        {
          "name": "stderr",
          "output_type": "stream",
          "text": [
            "\u001b[32m[I 2023-04-17 16:10:05,777]\u001b[0m Trial 91 finished with value: 0.9386724386724387 and parameters: {'max_depth': 13, 'max_features': 10, 'method': 'LightGBM'}. Best is trial 69 with value: 0.943001443001443.\u001b[0m\n",
            "\u001b[32m[I 2023-04-17 16:10:05,984]\u001b[0m Trial 92 finished with value: 0.943001443001443 and parameters: {'max_depth': 11, 'max_features': 9, 'method': 'LightGBM'}. Best is trial 69 with value: 0.943001443001443.\u001b[0m\n"
          ]
        },
        {
          "name": "stdout",
          "output_type": "stream",
          "text": [
            "[LightGBM] [Warning] Unknown parameter: max_features\n"
          ]
        },
        {
          "name": "stderr",
          "output_type": "stream",
          "text": [
            "\u001b[32m[I 2023-04-17 16:10:06,196]\u001b[0m Trial 93 finished with value: 0.9397546897546898 and parameters: {'max_depth': 8, 'max_features': 9, 'method': 'LightGBM'}. Best is trial 69 with value: 0.943001443001443.\u001b[0m\n"
          ]
        },
        {
          "name": "stdout",
          "output_type": "stream",
          "text": [
            "[LightGBM] [Warning] Unknown parameter: max_features\n"
          ]
        },
        {
          "name": "stderr",
          "output_type": "stream",
          "text": [
            "\u001b[32m[I 2023-04-17 16:10:06,403]\u001b[0m Trial 94 finished with value: 0.943001443001443 and parameters: {'max_depth': 11, 'max_features': 8, 'method': 'LightGBM'}. Best is trial 69 with value: 0.943001443001443.\u001b[0m\n"
          ]
        },
        {
          "name": "stdout",
          "output_type": "stream",
          "text": [
            "[LightGBM] [Warning] Unknown parameter: max_features\n"
          ]
        },
        {
          "name": "stderr",
          "output_type": "stream",
          "text": [
            "\u001b[32m[I 2023-04-17 16:10:06,616]\u001b[0m Trial 95 finished with value: 0.943001443001443 and parameters: {'max_depth': 11, 'max_features': 8, 'method': 'LightGBM'}. Best is trial 69 with value: 0.943001443001443.\u001b[0m\n"
          ]
        },
        {
          "name": "stdout",
          "output_type": "stream",
          "text": [
            "[LightGBM] [Warning] Unknown parameter: max_features\n"
          ]
        },
        {
          "name": "stderr",
          "output_type": "stream",
          "text": [
            "\u001b[32m[I 2023-04-17 16:10:06,826]\u001b[0m Trial 96 finished with value: 0.943001443001443 and parameters: {'max_depth': 11, 'max_features': 7, 'method': 'LightGBM'}. Best is trial 69 with value: 0.943001443001443.\u001b[0m\n"
          ]
        },
        {
          "name": "stdout",
          "output_type": "stream",
          "text": [
            "[LightGBM] [Warning] Unknown parameter: max_features\n",
            "[LightGBM] [Warning] Unknown parameter: max_features\n"
          ]
        },
        {
          "name": "stderr",
          "output_type": "stream",
          "text": [
            "\u001b[32m[I 2023-04-17 16:10:07,025]\u001b[0m Trial 97 finished with value: 0.943001443001443 and parameters: {'max_depth': 11, 'max_features': 7, 'method': 'LightGBM'}. Best is trial 69 with value: 0.943001443001443.\u001b[0m\n",
            "\u001b[32m[I 2023-04-17 16:10:07,220]\u001b[0m Trial 98 finished with value: 0.9397546897546898 and parameters: {'max_depth': 8, 'max_features': 4, 'method': 'LightGBM'}. Best is trial 69 with value: 0.943001443001443.\u001b[0m\n"
          ]
        },
        {
          "name": "stdout",
          "output_type": "stream",
          "text": [
            "[LightGBM] [Warning] Unknown parameter: max_features\n",
            "[LightGBM] [Warning] Unknown parameter: max_features\n"
          ]
        },
        {
          "name": "stderr",
          "output_type": "stream",
          "text": [
            "\u001b[32m[I 2023-04-17 16:10:07,431]\u001b[0m Trial 99 finished with value: 0.9404761904761905 and parameters: {'max_depth': 10, 'max_features': 7, 'method': 'LightGBM'}. Best is trial 69 with value: 0.943001443001443.\u001b[0m\n"
          ]
        },
        {
          "name": "stdout",
          "output_type": "stream",
          "text": [
            "[LightGBM] [Warning] Unknown parameter: max_features\n",
            "Accuracy: 0.943001443001443\n"
          ]
        }
      ],
      "source": [
        "import optuna\n",
        "from sklearn.ensemble import RandomForestClassifier, GradientBoostingClassifier\n",
        "from xgboost import XGBClassifier\n",
        "from lightgbm import LGBMClassifier\n",
        "from sklearn import metrics\n",
        "\n",
        "# Define X_train, y_train, X_test, and y_test here\n",
        "\n",
        "def objective(trial):\n",
        "    max_depth = trial.suggest_int(\"max_depth\", 2, X_train.shape[1])\n",
        "    max_features = trial.suggest_int(\"max_features\", 2, X_train.shape[1])\n",
        "    method = trial.suggest_categorical(\"method\", [\"RandomForest\", \"XGBoost\", \"LightGBM\", \"GradientBoostingClassifier\"])\n",
        "\n",
        "    if method == \"RandomForest\":\n",
        "        model = RandomForestClassifier(max_depth=max_depth, max_features=max_features)\n",
        "    elif method == \"XGBoost\":\n",
        "        model = XGBClassifier(max_depth=max_depth, max_features=max_features)\n",
        "    elif method == \"LightGBM\":\n",
        "        model = LGBMClassifier(max_depth=max_depth, max_features=max_features)\n",
        "    elif method == \"GradientBoostingClassifier\":\n",
        "        model = GradientBoostingClassifier(max_depth=max_depth, max_features=max_features)\n",
        "\n",
        "    model.fit(X_train, y_train)\n",
        "    y_pred = model.predict(X_test)\n",
        "    accuracy = metrics.accuracy_score(y_test, y_pred)\n",
        "    return accuracy\n",
        "\n",
        "study = optuna.create_study(direction=\"maximize\")\n",
        "study.optimize(objective, n_trials=100)\n",
        "\n",
        "best_params = study.best_params\n",
        "best_method = best_params[\"method\"]\n",
        "\n",
        "if best_method == \"RandomForest\":\n",
        "    best_model = RandomForestClassifier(max_depth=best_params[\"max_depth\"], max_features=best_params[\"max_features\"])\n",
        "elif best_method == \"XGBoost\":\n",
        "    best_model = XGBClassifier(max_depth=best_params[\"max_depth\"], max_features=best_params[\"max_features\"])\n",
        "elif best_method == \"LightGBM\":\n",
        "    best_model = LGBMClassifier(max_depth=best_params[\"max_depth\"], max_features=best_params[\"max_features\"])\n",
        "elif best_method == \"GradientBoostingClassifier\":\n",
        "    best_model = GradientBoostingClassifier(max_depth=best_params[\"max_depth\"], max_features=best_params[\"max_features\"])\n",
        "\n",
        "best_model.fit(X_train, y_train)\n",
        "y_pred = best_model.predict(X_test)\n",
        "\n",
        "accuracy = metrics.accuracy_score(y_test, y_pred)\n",
        "print(f\"Accuracy: {accuracy}\")\n"
      ]
    },
    {
      "cell_type": "code",
      "execution_count": 16,
      "metadata": {
        "colab": {
          "base_uri": "https://localhost:8080/"
        },
        "id": "11tnoWEG_SeI",
        "outputId": "c9abfbb8-afef-48af-ffa7-af8d1936ee8f"
      },
      "outputs": [
        {
          "name": "stdout",
          "output_type": "stream",
          "text": [
            "Looking in indexes: https://pypi.org/simple, https://us-python.pkg.dev/colab-wheels/public/simple/\n",
            "Collecting pycaret\n",
            "  Downloading pycaret-3.0.0-py3-none-any.whl (481 kB)\n",
            "\u001b[2K     \u001b[90m━━━━━━━━━━━━━━━━━━━━━━━━━━━━━━━━━━━━━━━\u001b[0m \u001b[32m481.8/481.8 kB\u001b[0m \u001b[31m7.1 MB/s\u001b[0m eta \u001b[36m0:00:00\u001b[0m\n",
            "\u001b[?25hRequirement already satisfied: psutil>=5.9.0 in /usr/local/lib/python3.9/dist-packages (from pycaret) (5.9.4)\n",
            "Requirement already satisfied: requests>=2.27.1 in /usr/local/lib/python3.9/dist-packages (from pycaret) (2.27.1)\n",
            "Requirement already satisfied: plotly>=5.0.0 in /usr/local/lib/python3.9/dist-packages (from pycaret) (5.13.1)\n",
            "Collecting kaleido>=0.2.1\n",
            "  Downloading kaleido-0.2.1-py2.py3-none-manylinux1_x86_64.whl (79.9 MB)\n",
            "\u001b[2K     \u001b[90m━━━━━━━━━━━━━━━━━━━━━━━━━━━━━━━━━━━━━━━━\u001b[0m \u001b[32m79.9/79.9 MB\u001b[0m \u001b[31m9.1 MB/s\u001b[0m eta \u001b[36m0:00:00\u001b[0m\n",
            "\u001b[?25hRequirement already satisfied: jinja2>=1.2 in /usr/local/lib/python3.9/dist-packages (from pycaret) (3.1.2)\n",
            "Requirement already satisfied: numpy<1.25,>=1.21 in /usr/local/lib/python3.9/dist-packages (from pycaret) (1.22.4)\n",
            "Requirement already satisfied: markupsafe>=2.0.1 in /usr/local/lib/python3.9/dist-packages (from pycaret) (2.1.2)\n",
            "Requirement already satisfied: cloudpickle in /usr/local/lib/python3.9/dist-packages (from pycaret) (2.2.1)\n",
            "Collecting schemdraw>=0.14\n",
            "  Downloading schemdraw-0.16-py3-none-any.whl (105 kB)\n",
            "\u001b[2K     \u001b[90m━━━━━━━━━━━━━━━━━━━━━━━━━━━━━━━━━━━━━━\u001b[0m \u001b[32m105.8/105.8 kB\u001b[0m \u001b[31m11.9 MB/s\u001b[0m eta \u001b[36m0:00:00\u001b[0m\n",
            "\u001b[?25hCollecting pyod>=1.0.8\n",
            "  Downloading pyod-1.0.9.tar.gz (149 kB)\n",
            "\u001b[2K     \u001b[90m━━━━━━━━━━━━━━━━━━━━━━━━━━━━━━━━━━━━━━\u001b[0m \u001b[32m150.0/150.0 kB\u001b[0m \u001b[31m16.6 MB/s\u001b[0m eta \u001b[36m0:00:00\u001b[0m\n",
            "\u001b[?25h  Preparing metadata (setup.py) ... \u001b[?25l\u001b[?25hdone\n",
            "Collecting plotly-resampler>=0.8.3.1\n",
            "  Downloading plotly_resampler-0.8.3.2.tar.gz (46 kB)\n",
            "\u001b[2K     \u001b[90m━━━━━━━━━━━━━━━━━━━━━━━━━━━━━━━━━━━━━━━━\u001b[0m \u001b[32m46.4/46.4 kB\u001b[0m \u001b[31m5.0 MB/s\u001b[0m eta \u001b[36m0:00:00\u001b[0m\n",
            "\u001b[?25h  Installing build dependencies ... \u001b[?25l\u001b[?25hdone\n",
            "  Getting requirements to build wheel ... \u001b[?25l\u001b[?25hdone\n",
            "  Preparing metadata (pyproject.toml) ... \u001b[?25l\u001b[?25hdone\n",
            "Collecting sktime>=0.16.1\n",
            "\u001b[33m  WARNING: Retrying (Retry(total=4, connect=None, read=None, redirect=None, status=None)) after connection broken by 'ProtocolError('Connection aborted.', ConnectionResetError(104, 'Connection reset by peer'))': /packages/55/e5/7533ceb7c0962684c89227b46dc56d0f8058fd0327d071aa918df2438a55/sktime-0.17.1-py3-none-any.whl\u001b[0m\u001b[33m\n",
            "\u001b[0m  Downloading sktime-0.17.1-py3-none-any.whl (16.1 MB)\n",
            "\u001b[2K     \u001b[90m━━━━━━━━━━━━━━━━━━━━━━━━━━━━━━━━━━━━━━━━\u001b[0m \u001b[32m16.1/16.1 MB\u001b[0m \u001b[31m27.8 MB/s\u001b[0m eta \u001b[36m0:00:00\u001b[0m\n",
            "\u001b[?25hRequirement already satisfied: ipywidgets>=7.6.5 in /usr/local/lib/python3.9/dist-packages (from pycaret) (7.7.1)\n",
            "Collecting deprecation>=2.1.0\n",
            "  Downloading deprecation-2.1.0-py2.py3-none-any.whl (11 kB)\n",
            "Collecting xxhash\n",
            "  Downloading xxhash-3.2.0-cp39-cp39-manylinux_2_17_x86_64.manylinux2014_x86_64.whl (212 kB)\n",
            "\u001b[2K     \u001b[90m━━━━━━━━━━━━━━━━━━━━━━━━━━━━━━━━━━━━━━\u001b[0m \u001b[32m212.2/212.2 kB\u001b[0m \u001b[31m22.3 MB/s\u001b[0m eta \u001b[36m0:00:00\u001b[0m\n",
            "\u001b[?25hCollecting category-encoders>=2.4.0\n",
            "  Downloading category_encoders-2.6.0-py2.py3-none-any.whl (81 kB)\n",
            "\u001b[2K     \u001b[90m━━━━━━━━━━━━━━━━━━━━━━━━━━━━━━━━━━━━━━━━\u001b[0m \u001b[32m81.2/81.2 kB\u001b[0m \u001b[31m8.3 MB/s\u001b[0m eta \u001b[36m0:00:00\u001b[0m\n",
            "\u001b[?25hRequirement already satisfied: imbalanced-learn>=0.8.1 in /usr/local/lib/python3.9/dist-packages (from pycaret) (0.10.1)\n",
            "Requirement already satisfied: lightgbm>=3.0.0 in /usr/local/lib/python3.9/dist-packages (from pycaret) (3.3.5)\n",
            "Requirement already satisfied: matplotlib>=3.3.0 in /usr/local/lib/python3.9/dist-packages (from pycaret) (3.7.1)\n",
            "Requirement already satisfied: joblib>=1.2.0 in /usr/local/lib/python3.9/dist-packages (from pycaret) (1.2.0)\n",
            "Collecting wurlitzer\n",
            "  Downloading wurlitzer-3.0.3-py3-none-any.whl (7.3 kB)\n",
            "Requirement already satisfied: statsmodels>=0.12.1 in /usr/local/lib/python3.9/dist-packages (from pycaret) (0.13.5)\n",
            "Collecting scikit-plot>=0.3.7\n",
            "  Downloading scikit_plot-0.3.7-py3-none-any.whl (33 kB)\n",
            "Requirement already satisfied: numba>=0.55.0 in /usr/local/lib/python3.9/dist-packages (from pycaret) (0.56.4)\n",
            "Requirement already satisfied: ipython>=5.5.0 in /usr/local/lib/python3.9/dist-packages (from pycaret) (7.34.0)\n",
            "Collecting pmdarima!=1.8.1,<3.0.0,>=1.8.0\n",
            "  Downloading pmdarima-2.0.3-cp39-cp39-manylinux_2_17_x86_64.manylinux2014_x86_64.manylinux_2_28_x86_64.whl (1.9 MB)\n",
            "\u001b[2K     \u001b[90m━━━━━━━━━━━━━━━━━━━━━━━━━━━━━━━━━━━━━━━━\u001b[0m \u001b[32m1.9/1.9 MB\u001b[0m \u001b[31m56.4 MB/s\u001b[0m eta \u001b[36m0:00:00\u001b[0m\n",
            "\u001b[?25hRequirement already satisfied: tqdm>=4.62.0 in /usr/local/lib/python3.9/dist-packages (from pycaret) (4.65.0)\n",
            "Requirement already satisfied: scikit-learn>=1.0 in /usr/local/lib/python3.9/dist-packages (from pycaret) (1.2.2)\n",
            "Requirement already satisfied: nbformat>=4.2.0 in /usr/local/lib/python3.9/dist-packages (from pycaret) (5.8.0)\n",
            "Requirement already satisfied: scipy<2.0.0 in /usr/local/lib/python3.9/dist-packages (from pycaret) (1.10.1)\n",
            "Requirement already satisfied: importlib-metadata>=4.12.0 in /usr/local/lib/python3.9/dist-packages (from pycaret) (6.3.0)\n",
            "Requirement already satisfied: yellowbrick>=1.4 in /usr/local/lib/python3.9/dist-packages (from pycaret) (1.5)\n",
            "Collecting tbats>=1.1.0\n",
            "  Downloading tbats-1.1.3-py3-none-any.whl (44 kB)\n",
            "\u001b[2K     \u001b[90m━━━━━━━━━━━━━━━━━━━━━━━━━━━━━━━━━━━━━━━━\u001b[0m \u001b[32m44.0/44.0 kB\u001b[0m \u001b[31m3.8 MB/s\u001b[0m eta \u001b[36m0:00:00\u001b[0m\n",
            "\u001b[?25hRequirement already satisfied: pandas<1.6.0,>=1.3.0 in /usr/local/lib/python3.9/dist-packages (from pycaret) (1.5.3)\n",
            "Requirement already satisfied: patsy>=0.5.1 in /usr/local/lib/python3.9/dist-packages (from category-encoders>=2.4.0->pycaret) (0.5.3)\n",
            "Requirement already satisfied: packaging in /usr/local/lib/python3.9/dist-packages (from deprecation>=2.1.0->pycaret) (23.0)\n",
            "Requirement already satisfied: threadpoolctl>=2.0.0 in /usr/local/lib/python3.9/dist-packages (from imbalanced-learn>=0.8.1->pycaret) (3.1.0)\n",
            "Requirement already satisfied: zipp>=0.5 in /usr/local/lib/python3.9/dist-packages (from importlib-metadata>=4.12.0->pycaret) (3.15.0)\n",
            "Requirement already satisfied: pygments in /usr/local/lib/python3.9/dist-packages (from ipython>=5.5.0->pycaret) (2.14.0)\n",
            "Requirement already satisfied: traitlets>=4.2 in /usr/local/lib/python3.9/dist-packages (from ipython>=5.5.0->pycaret) (5.7.1)\n",
            "Requirement already satisfied: setuptools>=18.5 in /usr/local/lib/python3.9/dist-packages (from ipython>=5.5.0->pycaret) (67.6.1)\n",
            "Requirement already satisfied: decorator in /usr/local/lib/python3.9/dist-packages (from ipython>=5.5.0->pycaret) (4.4.2)\n",
            "Requirement already satisfied: prompt-toolkit!=3.0.0,!=3.0.1,<3.1.0,>=2.0.0 in /usr/local/lib/python3.9/dist-packages (from ipython>=5.5.0->pycaret) (3.0.38)\n",
            "Requirement already satisfied: backcall in /usr/local/lib/python3.9/dist-packages (from ipython>=5.5.0->pycaret) (0.2.0)\n",
            "Requirement already satisfied: matplotlib-inline in /usr/local/lib/python3.9/dist-packages (from ipython>=5.5.0->pycaret) (0.1.6)\n",
            "Requirement already satisfied: pexpect>4.3 in /usr/local/lib/python3.9/dist-packages (from ipython>=5.5.0->pycaret) (4.8.0)\n",
            "Collecting jedi>=0.16\n",
            "  Downloading jedi-0.18.2-py2.py3-none-any.whl (1.6 MB)\n",
            "\u001b[2K     \u001b[90m━━━━━━━━━━━━━━━━━━━━━━━━━━━━━━━━━━━━━━━━\u001b[0m \u001b[32m1.6/1.6 MB\u001b[0m \u001b[31m72.7 MB/s\u001b[0m eta \u001b[36m0:00:00\u001b[0m\n",
            "\u001b[?25hRequirement already satisfied: pickleshare in /usr/local/lib/python3.9/dist-packages (from ipython>=5.5.0->pycaret) (0.7.5)\n",
            "Requirement already satisfied: widgetsnbextension~=3.6.0 in /usr/local/lib/python3.9/dist-packages (from ipywidgets>=7.6.5->pycaret) (3.6.4)\n",
            "Requirement already satisfied: jupyterlab-widgets>=1.0.0 in /usr/local/lib/python3.9/dist-packages (from ipywidgets>=7.6.5->pycaret) (3.0.7)\n",
            "Requirement already satisfied: ipython-genutils~=0.2.0 in /usr/local/lib/python3.9/dist-packages (from ipywidgets>=7.6.5->pycaret) (0.2.0)\n",
            "Requirement already satisfied: ipykernel>=4.5.1 in /usr/local/lib/python3.9/dist-packages (from ipywidgets>=7.6.5->pycaret) (5.5.6)\n",
            "Requirement already satisfied: wheel in /usr/local/lib/python3.9/dist-packages (from lightgbm>=3.0.0->pycaret) (0.40.0)\n",
            "Requirement already satisfied: pyparsing>=2.3.1 in /usr/local/lib/python3.9/dist-packages (from matplotlib>=3.3.0->pycaret) (3.0.9)\n",
            "Requirement already satisfied: contourpy>=1.0.1 in /usr/local/lib/python3.9/dist-packages (from matplotlib>=3.3.0->pycaret) (1.0.7)\n",
            "Requirement already satisfied: pillow>=6.2.0 in /usr/local/lib/python3.9/dist-packages (from matplotlib>=3.3.0->pycaret) (8.4.0)\n",
            "Requirement already satisfied: python-dateutil>=2.7 in /usr/local/lib/python3.9/dist-packages (from matplotlib>=3.3.0->pycaret) (2.8.2)\n",
            "Requirement already satisfied: cycler>=0.10 in /usr/local/lib/python3.9/dist-packages (from matplotlib>=3.3.0->pycaret) (0.11.0)\n",
            "Requirement already satisfied: fonttools>=4.22.0 in /usr/local/lib/python3.9/dist-packages (from matplotlib>=3.3.0->pycaret) (4.39.3)\n",
            "Requirement already satisfied: importlib-resources>=3.2.0 in /usr/local/lib/python3.9/dist-packages (from matplotlib>=3.3.0->pycaret) (5.12.0)\n",
            "Requirement already satisfied: kiwisolver>=1.0.1 in /usr/local/lib/python3.9/dist-packages (from matplotlib>=3.3.0->pycaret) (1.4.4)\n",
            "Requirement already satisfied: fastjsonschema in /usr/local/lib/python3.9/dist-packages (from nbformat>=4.2.0->pycaret) (2.16.3)\n",
            "Requirement already satisfied: jsonschema>=2.6 in /usr/local/lib/python3.9/dist-packages (from nbformat>=4.2.0->pycaret) (4.3.3)\n",
            "Requirement already satisfied: jupyter-core in /usr/local/lib/python3.9/dist-packages (from nbformat>=4.2.0->pycaret) (5.3.0)\n",
            "Requirement already satisfied: llvmlite<0.40,>=0.39.0dev0 in /usr/local/lib/python3.9/dist-packages (from numba>=0.55.0->pycaret) (0.39.1)\n",
            "Requirement already satisfied: pytz>=2020.1 in /usr/local/lib/python3.9/dist-packages (from pandas<1.6.0,>=1.3.0->pycaret) (2022.7.1)\n",
            "Requirement already satisfied: tenacity>=6.2.0 in /usr/local/lib/python3.9/dist-packages (from plotly>=5.0.0->pycaret) (8.2.2)\n",
            "Collecting orjson<4.0.0,>=3.8.0\n",
            "  Downloading orjson-3.8.10-cp39-cp39-manylinux_2_28_x86_64.whl (140 kB)\n",
            "\u001b[2K     \u001b[90m━━━━━━━━━━━━━━━━━━━━━━━━━━━━━━━━━━━━━━\u001b[0m \u001b[32m140.5/140.5 kB\u001b[0m \u001b[31m14.8 MB/s\u001b[0m eta \u001b[36m0:00:00\u001b[0m\n",
            "\u001b[?25hCollecting trace-updater>=0.0.8\n",
            "  Downloading trace_updater-0.0.9.1-py3-none-any.whl (185 kB)\n",
            "\u001b[2K     \u001b[90m━━━━━━━━━━━━━━━━━━━━━━━━━━━━━━━━━━━━━━\u001b[0m \u001b[32m185.2/185.2 kB\u001b[0m \u001b[31m18.0 MB/s\u001b[0m eta \u001b[36m0:00:00\u001b[0m\n",
            "\u001b[?25hCollecting dash<3.0.0,>=2.2.0\n",
            "  Downloading dash-2.9.3-py3-none-any.whl (10.2 MB)\n",
            "\u001b[2K     \u001b[90m━━━━━━━━━━━━━━━━━━━━━━━━━━━━━━━━━━━━━━━━\u001b[0m \u001b[32m10.2/10.2 MB\u001b[0m \u001b[31m61.5 MB/s\u001b[0m eta \u001b[36m0:00:00\u001b[0m\n",
            "\u001b[?25hCollecting jupyter-dash>=0.4.2\n",
            "  Downloading jupyter_dash-0.4.2-py3-none-any.whl (23 kB)\n",
            "Requirement already satisfied: urllib3 in /usr/local/lib/python3.9/dist-packages (from pmdarima!=1.8.1,<3.0.0,>=1.8.0->pycaret) (1.26.15)\n",
            "Requirement already satisfied: Cython!=0.29.18,!=0.29.31,>=0.29 in /usr/local/lib/python3.9/dist-packages (from pmdarima!=1.8.1,<3.0.0,>=1.8.0->pycaret) (0.29.34)\n",
            "Requirement already satisfied: six in /usr/local/lib/python3.9/dist-packages (from pyod>=1.0.8->pycaret) (1.16.0)\n",
            "Requirement already satisfied: certifi>=2017.4.17 in /usr/local/lib/python3.9/dist-packages (from requests>=2.27.1->pycaret) (2022.12.7)\n",
            "Requirement already satisfied: idna<4,>=2.5 in /usr/local/lib/python3.9/dist-packages (from requests>=2.27.1->pycaret) (3.4)\n",
            "Requirement already satisfied: charset-normalizer~=2.0.0 in /usr/local/lib/python3.9/dist-packages (from requests>=2.27.1->pycaret) (2.0.12)\n",
            "Collecting deprecated>=1.2.13\n",
            "  Downloading Deprecated-1.2.13-py2.py3-none-any.whl (9.6 kB)\n",
            "Collecting dash-table==5.0.0\n",
            "  Downloading dash_table-5.0.0-py3-none-any.whl (3.9 kB)\n",
            "Requirement already satisfied: Flask>=1.0.4 in /usr/local/lib/python3.9/dist-packages (from dash<3.0.0,>=2.2.0->plotly-resampler>=0.8.3.1->pycaret) (2.2.3)\n",
            "Collecting dash-core-components==2.0.0\n",
            "  Downloading dash_core_components-2.0.0-py3-none-any.whl (3.8 kB)\n",
            "Collecting dash-html-components==2.0.0\n",
            "  Downloading dash_html_components-2.0.0-py3-none-any.whl (4.1 kB)\n",
            "Requirement already satisfied: wrapt<2,>=1.10 in /usr/local/lib/python3.9/dist-packages (from deprecated>=1.2.13->sktime>=0.16.1->pycaret) (1.14.1)\n",
            "Requirement already satisfied: tornado>=4.2 in /usr/local/lib/python3.9/dist-packages (from ipykernel>=4.5.1->ipywidgets>=7.6.5->pycaret) (6.2)\n",
            "Requirement already satisfied: jupyter-client in /usr/local/lib/python3.9/dist-packages (from ipykernel>=4.5.1->ipywidgets>=7.6.5->pycaret) (6.1.12)\n",
            "Requirement already satisfied: parso<0.9.0,>=0.8.0 in /usr/local/lib/python3.9/dist-packages (from jedi>=0.16->ipython>=5.5.0->pycaret) (0.8.3)\n",
            "Requirement already satisfied: attrs>=17.4.0 in /usr/local/lib/python3.9/dist-packages (from jsonschema>=2.6->nbformat>=4.2.0->pycaret) (22.2.0)\n",
            "Requirement already satisfied: pyrsistent!=0.17.0,!=0.17.1,!=0.17.2,>=0.14.0 in /usr/local/lib/python3.9/dist-packages (from jsonschema>=2.6->nbformat>=4.2.0->pycaret) (0.19.3)\n",
            "Collecting retrying\n",
            "  Downloading retrying-1.3.4-py3-none-any.whl (11 kB)\n",
            "Requirement already satisfied: nest-asyncio in /usr/local/lib/python3.9/dist-packages (from jupyter-dash>=0.4.2->plotly-resampler>=0.8.3.1->pycaret) (1.5.6)\n",
            "Collecting ansi2html\n",
            "  Downloading ansi2html-1.8.0-py3-none-any.whl (16 kB)\n",
            "Requirement already satisfied: ptyprocess>=0.5 in /usr/local/lib/python3.9/dist-packages (from pexpect>4.3->ipython>=5.5.0->pycaret) (0.7.0)\n",
            "Requirement already satisfied: wcwidth in /usr/local/lib/python3.9/dist-packages (from prompt-toolkit!=3.0.0,!=3.0.1,<3.1.0,>=2.0.0->ipython>=5.5.0->pycaret) (0.2.6)\n",
            "Requirement already satisfied: notebook>=4.4.1 in /usr/local/lib/python3.9/dist-packages (from widgetsnbextension~=3.6.0->ipywidgets>=7.6.5->pycaret) (6.4.8)\n",
            "Requirement already satisfied: platformdirs>=2.5 in /usr/local/lib/python3.9/dist-packages (from jupyter-core->nbformat>=4.2.0->pycaret) (3.2.0)\n",
            "Requirement already satisfied: itsdangerous>=2.0 in /usr/local/lib/python3.9/dist-packages (from Flask>=1.0.4->dash<3.0.0,>=2.2.0->plotly-resampler>=0.8.3.1->pycaret) (2.1.2)\n",
            "Requirement already satisfied: click>=8.0 in /usr/local/lib/python3.9/dist-packages (from Flask>=1.0.4->dash<3.0.0,>=2.2.0->plotly-resampler>=0.8.3.1->pycaret) (8.1.3)\n",
            "Requirement already satisfied: Werkzeug>=2.2.2 in /usr/local/lib/python3.9/dist-packages (from Flask>=1.0.4->dash<3.0.0,>=2.2.0->plotly-resampler>=0.8.3.1->pycaret) (2.2.3)\n",
            "Requirement already satisfied: nbconvert in /usr/local/lib/python3.9/dist-packages (from notebook>=4.4.1->widgetsnbextension~=3.6.0->ipywidgets>=7.6.5->pycaret) (6.5.4)\n",
            "Requirement already satisfied: Send2Trash>=1.8.0 in /usr/local/lib/python3.9/dist-packages (from notebook>=4.4.1->widgetsnbextension~=3.6.0->ipywidgets>=7.6.5->pycaret) (1.8.0)\n",
            "Requirement already satisfied: terminado>=0.8.3 in /usr/local/lib/python3.9/dist-packages (from notebook>=4.4.1->widgetsnbextension~=3.6.0->ipywidgets>=7.6.5->pycaret) (0.17.1)\n",
            "Requirement already satisfied: pyzmq>=17 in /usr/local/lib/python3.9/dist-packages (from notebook>=4.4.1->widgetsnbextension~=3.6.0->ipywidgets>=7.6.5->pycaret) (23.2.1)\n",
            "Requirement already satisfied: argon2-cffi in /usr/local/lib/python3.9/dist-packages (from notebook>=4.4.1->widgetsnbextension~=3.6.0->ipywidgets>=7.6.5->pycaret) (21.3.0)\n",
            "Requirement already satisfied: prometheus-client in /usr/local/lib/python3.9/dist-packages (from notebook>=4.4.1->widgetsnbextension~=3.6.0->ipywidgets>=7.6.5->pycaret) (0.16.0)\n",
            "Requirement already satisfied: argon2-cffi-bindings in /usr/local/lib/python3.9/dist-packages (from argon2-cffi->notebook>=4.4.1->widgetsnbextension~=3.6.0->ipywidgets>=7.6.5->pycaret) (21.2.0)\n",
            "Requirement already satisfied: defusedxml in /usr/local/lib/python3.9/dist-packages (from nbconvert->notebook>=4.4.1->widgetsnbextension~=3.6.0->ipywidgets>=7.6.5->pycaret) (0.7.1)\n",
            "Requirement already satisfied: mistune<2,>=0.8.1 in /usr/local/lib/python3.9/dist-packages (from nbconvert->notebook>=4.4.1->widgetsnbextension~=3.6.0->ipywidgets>=7.6.5->pycaret) (0.8.4)\n",
            "Requirement already satisfied: beautifulsoup4 in /usr/local/lib/python3.9/dist-packages (from nbconvert->notebook>=4.4.1->widgetsnbextension~=3.6.0->ipywidgets>=7.6.5->pycaret) (4.11.2)\n",
            "Requirement already satisfied: jupyterlab-pygments in /usr/local/lib/python3.9/dist-packages (from nbconvert->notebook>=4.4.1->widgetsnbextension~=3.6.0->ipywidgets>=7.6.5->pycaret) (0.2.2)\n",
            "Requirement already satisfied: nbclient>=0.5.0 in /usr/local/lib/python3.9/dist-packages (from nbconvert->notebook>=4.4.1->widgetsnbextension~=3.6.0->ipywidgets>=7.6.5->pycaret) (0.7.3)\n",
            "Requirement already satisfied: pandocfilters>=1.4.1 in /usr/local/lib/python3.9/dist-packages (from nbconvert->notebook>=4.4.1->widgetsnbextension~=3.6.0->ipywidgets>=7.6.5->pycaret) (1.5.0)\n",
            "Requirement already satisfied: tinycss2 in /usr/local/lib/python3.9/dist-packages (from nbconvert->notebook>=4.4.1->widgetsnbextension~=3.6.0->ipywidgets>=7.6.5->pycaret) (1.2.1)\n",
            "Requirement already satisfied: bleach in /usr/local/lib/python3.9/dist-packages (from nbconvert->notebook>=4.4.1->widgetsnbextension~=3.6.0->ipywidgets>=7.6.5->pycaret) (6.0.0)\n",
            "Requirement already satisfied: lxml in /usr/local/lib/python3.9/dist-packages (from nbconvert->notebook>=4.4.1->widgetsnbextension~=3.6.0->ipywidgets>=7.6.5->pycaret) (4.9.2)\n",
            "Requirement already satisfied: entrypoints>=0.2.2 in /usr/local/lib/python3.9/dist-packages (from nbconvert->notebook>=4.4.1->widgetsnbextension~=3.6.0->ipywidgets>=7.6.5->pycaret) (0.4)\n",
            "Requirement already satisfied: cffi>=1.0.1 in /usr/local/lib/python3.9/dist-packages (from argon2-cffi-bindings->argon2-cffi->notebook>=4.4.1->widgetsnbextension~=3.6.0->ipywidgets>=7.6.5->pycaret) (1.15.1)\n",
            "Requirement already satisfied: soupsieve>1.2 in /usr/local/lib/python3.9/dist-packages (from beautifulsoup4->nbconvert->notebook>=4.4.1->widgetsnbextension~=3.6.0->ipywidgets>=7.6.5->pycaret) (2.4)\n",
            "Requirement already satisfied: webencodings in /usr/local/lib/python3.9/dist-packages (from bleach->nbconvert->notebook>=4.4.1->widgetsnbextension~=3.6.0->ipywidgets>=7.6.5->pycaret) (0.5.1)\n",
            "Requirement already satisfied: pycparser in /usr/local/lib/python3.9/dist-packages (from cffi>=1.0.1->argon2-cffi-bindings->argon2-cffi->notebook>=4.4.1->widgetsnbextension~=3.6.0->ipywidgets>=7.6.5->pycaret) (2.21)\n",
            "Building wheels for collected packages: plotly-resampler, pyod\n",
            "  Building wheel for plotly-resampler (pyproject.toml) ... \u001b[?25l\u001b[?25hdone\n",
            "  Created wheel for plotly-resampler: filename=plotly_resampler-0.8.3.2-cp39-cp39-manylinux_2_31_x86_64.whl size=75060 sha256=62efa82025340508dcf71cbc346655ecf46f1e3866491b3405a9e3f035c5e766\n",
            "  Stored in directory: /root/.cache/pip/wheels/9e/36/06/4c11e300918011376af149098621ec7ebe06d8256566d43d51\n",
            "  Building wheel for pyod (setup.py) ... \u001b[?25l\u001b[?25hdone\n",
            "  Created wheel for pyod: filename=pyod-1.0.9-py3-none-any.whl size=184112 sha256=085a36341bd2e0e45a6ec304bc624102a8217d19c5f45b1275f697e0437c2150\n",
            "  Stored in directory: /root/.cache/pip/wheels/1b/9c/b8/9759d7cc64a1e01bb9872ade80cb7db445ccf506e083325106\n",
            "Successfully built plotly-resampler pyod\n",
            "Installing collected packages: trace-updater, kaleido, dash-table, dash-html-components, dash-core-components, xxhash, wurlitzer, schemdraw, retrying, orjson, jedi, deprecation, deprecated, ansi2html, sktime, scikit-plot, pyod, dash, pmdarima, jupyter-dash, category-encoders, tbats, plotly-resampler, pycaret\n",
            "Successfully installed ansi2html-1.8.0 category-encoders-2.6.0 dash-2.9.3 dash-core-components-2.0.0 dash-html-components-2.0.0 dash-table-5.0.0 deprecated-1.2.13 deprecation-2.1.0 jedi-0.18.2 jupyter-dash-0.4.2 kaleido-0.2.1 orjson-3.8.10 plotly-resampler-0.8.3.2 pmdarima-2.0.3 pycaret-3.0.0 pyod-1.0.9 retrying-1.3.4 schemdraw-0.16 scikit-plot-0.3.7 sktime-0.17.1 tbats-1.1.3 trace-updater-0.0.9.1 wurlitzer-3.0.3 xxhash-3.2.0\n"
          ]
        }
      ],
      "source": [
        "!pip install pycaret"
      ]
    },
    {
      "cell_type": "code",
      "execution_count": 17,
      "metadata": {
        "colab": {
          "base_uri": "https://localhost:8080/",
          "height": 1000,
          "referenced_widgets": [
            "6b03ec986f86478189f46d928b99039b",
            "3517578fdd3940799b062f3d37cef6ae",
            "59c0cb244e024bf68b3c47a3f1e15511",
            "30a0e9190cdf4a94ac4aa7e951205cb6",
            "3b9dfb79fa99422aaac34873730d0fef",
            "8480242c4b2c4ca4879a4682a3727741",
            "cb2817e9e99a4a3d99650133eaae0e33",
            "c536df1e75214320a67ef68d0b37cf9d",
            "d0781187da7c4e078f3cdf9a9d3bcf4e",
            "9f82ea5ee542410389a09418e5328087",
            "b614c7a255154e989b13e224d333c3a2"
          ]
        },
        "id": "vTf67JtDK-dP",
        "outputId": "4b2b339b-d94c-47b0-ff1d-ba57ca60ea6a"
      },
      "outputs": [
        {
          "data": {
            "text/html": [
              "<style type=\"text/css\">\n",
              "#T_09fb5_row8_col1 {\n",
              "  background-color: lightgreen;\n",
              "}\n",
              "</style>\n",
              "<table id=\"T_09fb5\" class=\"dataframe\">\n",
              "  <thead>\n",
              "    <tr>\n",
              "      <th class=\"blank level0\" >&nbsp;</th>\n",
              "      <th id=\"T_09fb5_level0_col0\" class=\"col_heading level0 col0\" >Description</th>\n",
              "      <th id=\"T_09fb5_level0_col1\" class=\"col_heading level0 col1\" >Value</th>\n",
              "    </tr>\n",
              "  </thead>\n",
              "  <tbody>\n",
              "    <tr>\n",
              "      <th id=\"T_09fb5_level0_row0\" class=\"row_heading level0 row0\" >0</th>\n",
              "      <td id=\"T_09fb5_row0_col0\" class=\"data row0 col0\" >Session id</td>\n",
              "      <td id=\"T_09fb5_row0_col1\" class=\"data row0 col1\" >1659</td>\n",
              "    </tr>\n",
              "    <tr>\n",
              "      <th id=\"T_09fb5_level0_row1\" class=\"row_heading level0 row1\" >1</th>\n",
              "      <td id=\"T_09fb5_row1_col0\" class=\"data row1 col0\" >Target</td>\n",
              "      <td id=\"T_09fb5_row1_col1\" class=\"data row1 col1\" >Converted</td>\n",
              "    </tr>\n",
              "    <tr>\n",
              "      <th id=\"T_09fb5_level0_row2\" class=\"row_heading level0 row2\" >2</th>\n",
              "      <td id=\"T_09fb5_row2_col0\" class=\"data row2 col0\" >Target type</td>\n",
              "      <td id=\"T_09fb5_row2_col1\" class=\"data row2 col1\" >Binary</td>\n",
              "    </tr>\n",
              "    <tr>\n",
              "      <th id=\"T_09fb5_level0_row3\" class=\"row_heading level0 row3\" >3</th>\n",
              "      <td id=\"T_09fb5_row3_col0\" class=\"data row3 col0\" >Original data shape</td>\n",
              "      <td id=\"T_09fb5_row3_col1\" class=\"data row3 col1\" >(9240, 35)</td>\n",
              "    </tr>\n",
              "    <tr>\n",
              "      <th id=\"T_09fb5_level0_row4\" class=\"row_heading level0 row4\" >4</th>\n",
              "      <td id=\"T_09fb5_row4_col0\" class=\"data row4 col0\" >Transformed data shape</td>\n",
              "      <td id=\"T_09fb5_row4_col1\" class=\"data row4 col1\" >(9240, 35)</td>\n",
              "    </tr>\n",
              "    <tr>\n",
              "      <th id=\"T_09fb5_level0_row5\" class=\"row_heading level0 row5\" >5</th>\n",
              "      <td id=\"T_09fb5_row5_col0\" class=\"data row5 col0\" >Transformed train set shape</td>\n",
              "      <td id=\"T_09fb5_row5_col1\" class=\"data row5 col1\" >(6468, 35)</td>\n",
              "    </tr>\n",
              "    <tr>\n",
              "      <th id=\"T_09fb5_level0_row6\" class=\"row_heading level0 row6\" >6</th>\n",
              "      <td id=\"T_09fb5_row6_col0\" class=\"data row6 col0\" >Transformed test set shape</td>\n",
              "      <td id=\"T_09fb5_row6_col1\" class=\"data row6 col1\" >(2772, 35)</td>\n",
              "    </tr>\n",
              "    <tr>\n",
              "      <th id=\"T_09fb5_level0_row7\" class=\"row_heading level0 row7\" >7</th>\n",
              "      <td id=\"T_09fb5_row7_col0\" class=\"data row7 col0\" >Numeric features</td>\n",
              "      <td id=\"T_09fb5_row7_col1\" class=\"data row7 col1\" >34</td>\n",
              "    </tr>\n",
              "    <tr>\n",
              "      <th id=\"T_09fb5_level0_row8\" class=\"row_heading level0 row8\" >8</th>\n",
              "      <td id=\"T_09fb5_row8_col0\" class=\"data row8 col0\" >Preprocess</td>\n",
              "      <td id=\"T_09fb5_row8_col1\" class=\"data row8 col1\" >True</td>\n",
              "    </tr>\n",
              "    <tr>\n",
              "      <th id=\"T_09fb5_level0_row9\" class=\"row_heading level0 row9\" >9</th>\n",
              "      <td id=\"T_09fb5_row9_col0\" class=\"data row9 col0\" >Imputation type</td>\n",
              "      <td id=\"T_09fb5_row9_col1\" class=\"data row9 col1\" >simple</td>\n",
              "    </tr>\n",
              "    <tr>\n",
              "      <th id=\"T_09fb5_level0_row10\" class=\"row_heading level0 row10\" >10</th>\n",
              "      <td id=\"T_09fb5_row10_col0\" class=\"data row10 col0\" >Numeric imputation</td>\n",
              "      <td id=\"T_09fb5_row10_col1\" class=\"data row10 col1\" >mean</td>\n",
              "    </tr>\n",
              "    <tr>\n",
              "      <th id=\"T_09fb5_level0_row11\" class=\"row_heading level0 row11\" >11</th>\n",
              "      <td id=\"T_09fb5_row11_col0\" class=\"data row11 col0\" >Categorical imputation</td>\n",
              "      <td id=\"T_09fb5_row11_col1\" class=\"data row11 col1\" >mode</td>\n",
              "    </tr>\n",
              "    <tr>\n",
              "      <th id=\"T_09fb5_level0_row12\" class=\"row_heading level0 row12\" >12</th>\n",
              "      <td id=\"T_09fb5_row12_col0\" class=\"data row12 col0\" >Fold Generator</td>\n",
              "      <td id=\"T_09fb5_row12_col1\" class=\"data row12 col1\" >StratifiedKFold</td>\n",
              "    </tr>\n",
              "    <tr>\n",
              "      <th id=\"T_09fb5_level0_row13\" class=\"row_heading level0 row13\" >13</th>\n",
              "      <td id=\"T_09fb5_row13_col0\" class=\"data row13 col0\" >Fold Number</td>\n",
              "      <td id=\"T_09fb5_row13_col1\" class=\"data row13 col1\" >10</td>\n",
              "    </tr>\n",
              "    <tr>\n",
              "      <th id=\"T_09fb5_level0_row14\" class=\"row_heading level0 row14\" >14</th>\n",
              "      <td id=\"T_09fb5_row14_col0\" class=\"data row14 col0\" >CPU Jobs</td>\n",
              "      <td id=\"T_09fb5_row14_col1\" class=\"data row14 col1\" >-1</td>\n",
              "    </tr>\n",
              "    <tr>\n",
              "      <th id=\"T_09fb5_level0_row15\" class=\"row_heading level0 row15\" >15</th>\n",
              "      <td id=\"T_09fb5_row15_col0\" class=\"data row15 col0\" >Use GPU</td>\n",
              "      <td id=\"T_09fb5_row15_col1\" class=\"data row15 col1\" >False</td>\n",
              "    </tr>\n",
              "    <tr>\n",
              "      <th id=\"T_09fb5_level0_row16\" class=\"row_heading level0 row16\" >16</th>\n",
              "      <td id=\"T_09fb5_row16_col0\" class=\"data row16 col0\" >Log Experiment</td>\n",
              "      <td id=\"T_09fb5_row16_col1\" class=\"data row16 col1\" >False</td>\n",
              "    </tr>\n",
              "    <tr>\n",
              "      <th id=\"T_09fb5_level0_row17\" class=\"row_heading level0 row17\" >17</th>\n",
              "      <td id=\"T_09fb5_row17_col0\" class=\"data row17 col0\" >Experiment Name</td>\n",
              "      <td id=\"T_09fb5_row17_col1\" class=\"data row17 col1\" >clf-default-name</td>\n",
              "    </tr>\n",
              "    <tr>\n",
              "      <th id=\"T_09fb5_level0_row18\" class=\"row_heading level0 row18\" >18</th>\n",
              "      <td id=\"T_09fb5_row18_col0\" class=\"data row18 col0\" >USI</td>\n",
              "      <td id=\"T_09fb5_row18_col1\" class=\"data row18 col1\" >6360</td>\n",
              "    </tr>\n",
              "  </tbody>\n",
              "</table>\n"
            ],
            "text/plain": [
              "<pandas.io.formats.style.Styler at 0x7f9d0bc16a00>"
            ]
          },
          "metadata": {},
          "output_type": "display_data"
        },
        {
          "data": {
            "text/html": [],
            "text/plain": [
              "<IPython.core.display.HTML object>"
            ]
          },
          "metadata": {},
          "output_type": "display_data"
        },
        {
          "data": {
            "text/html": [
              "<style type=\"text/css\">\n",
              "#T_7f9bf th {\n",
              "  text-align: left;\n",
              "}\n",
              "#T_7f9bf_row0_col0, #T_7f9bf_row0_col3, #T_7f9bf_row0_col4, #T_7f9bf_row1_col0, #T_7f9bf_row1_col1, #T_7f9bf_row1_col2, #T_7f9bf_row1_col3, #T_7f9bf_row1_col5, #T_7f9bf_row1_col6, #T_7f9bf_row1_col7, #T_7f9bf_row2_col0, #T_7f9bf_row2_col1, #T_7f9bf_row2_col2, #T_7f9bf_row2_col3, #T_7f9bf_row2_col4, #T_7f9bf_row2_col5, #T_7f9bf_row2_col6, #T_7f9bf_row2_col7, #T_7f9bf_row3_col0, #T_7f9bf_row3_col1, #T_7f9bf_row3_col2, #T_7f9bf_row3_col3, #T_7f9bf_row3_col4, #T_7f9bf_row3_col5, #T_7f9bf_row3_col6, #T_7f9bf_row3_col7, #T_7f9bf_row4_col0, #T_7f9bf_row4_col1, #T_7f9bf_row4_col2, #T_7f9bf_row4_col3, #T_7f9bf_row4_col4, #T_7f9bf_row4_col5, #T_7f9bf_row4_col6, #T_7f9bf_row4_col7, #T_7f9bf_row5_col0, #T_7f9bf_row5_col1, #T_7f9bf_row5_col2, #T_7f9bf_row5_col3, #T_7f9bf_row5_col4, #T_7f9bf_row5_col5, #T_7f9bf_row5_col6, #T_7f9bf_row5_col7, #T_7f9bf_row6_col0, #T_7f9bf_row6_col1, #T_7f9bf_row6_col2, #T_7f9bf_row6_col3, #T_7f9bf_row6_col4, #T_7f9bf_row6_col5, #T_7f9bf_row6_col6, #T_7f9bf_row6_col7, #T_7f9bf_row7_col0, #T_7f9bf_row7_col1, #T_7f9bf_row7_col2, #T_7f9bf_row7_col3, #T_7f9bf_row7_col4, #T_7f9bf_row7_col5, #T_7f9bf_row7_col6, #T_7f9bf_row7_col7, #T_7f9bf_row8_col0, #T_7f9bf_row8_col1, #T_7f9bf_row8_col2, #T_7f9bf_row8_col3, #T_7f9bf_row8_col4, #T_7f9bf_row8_col5, #T_7f9bf_row8_col6, #T_7f9bf_row8_col7, #T_7f9bf_row9_col0, #T_7f9bf_row9_col1, #T_7f9bf_row9_col2, #T_7f9bf_row9_col3, #T_7f9bf_row9_col4, #T_7f9bf_row9_col5, #T_7f9bf_row9_col6, #T_7f9bf_row9_col7, #T_7f9bf_row10_col0, #T_7f9bf_row10_col1, #T_7f9bf_row10_col2, #T_7f9bf_row10_col3, #T_7f9bf_row10_col4, #T_7f9bf_row10_col5, #T_7f9bf_row10_col6, #T_7f9bf_row10_col7, #T_7f9bf_row11_col0, #T_7f9bf_row11_col1, #T_7f9bf_row11_col2, #T_7f9bf_row11_col3, #T_7f9bf_row11_col4, #T_7f9bf_row11_col5, #T_7f9bf_row11_col6, #T_7f9bf_row11_col7, #T_7f9bf_row12_col0, #T_7f9bf_row12_col1, #T_7f9bf_row12_col2, #T_7f9bf_row12_col3, #T_7f9bf_row12_col4, #T_7f9bf_row12_col5, #T_7f9bf_row12_col6, #T_7f9bf_row12_col7, #T_7f9bf_row13_col0, #T_7f9bf_row13_col1, #T_7f9bf_row13_col2, #T_7f9bf_row13_col3, #T_7f9bf_row13_col4, #T_7f9bf_row13_col5, #T_7f9bf_row13_col6, #T_7f9bf_row13_col7, #T_7f9bf_row14_col0, #T_7f9bf_row14_col1, #T_7f9bf_row14_col2, #T_7f9bf_row14_col4, #T_7f9bf_row14_col5, #T_7f9bf_row14_col6, #T_7f9bf_row14_col7 {\n",
              "  text-align: left;\n",
              "}\n",
              "#T_7f9bf_row0_col1, #T_7f9bf_row0_col2, #T_7f9bf_row0_col5, #T_7f9bf_row0_col6, #T_7f9bf_row0_col7, #T_7f9bf_row1_col4, #T_7f9bf_row14_col3 {\n",
              "  text-align: left;\n",
              "  background-color: yellow;\n",
              "}\n",
              "#T_7f9bf_row0_col8, #T_7f9bf_row1_col8, #T_7f9bf_row2_col8, #T_7f9bf_row3_col8, #T_7f9bf_row4_col8, #T_7f9bf_row5_col8, #T_7f9bf_row6_col8, #T_7f9bf_row7_col8, #T_7f9bf_row8_col8, #T_7f9bf_row9_col8, #T_7f9bf_row10_col8, #T_7f9bf_row11_col8, #T_7f9bf_row12_col8, #T_7f9bf_row14_col8 {\n",
              "  text-align: left;\n",
              "  background-color: lightgrey;\n",
              "}\n",
              "#T_7f9bf_row13_col8 {\n",
              "  text-align: left;\n",
              "  background-color: yellow;\n",
              "  background-color: lightgrey;\n",
              "}\n",
              "</style>\n",
              "<table id=\"T_7f9bf\" class=\"dataframe\">\n",
              "  <thead>\n",
              "    <tr>\n",
              "      <th class=\"blank level0\" >&nbsp;</th>\n",
              "      <th id=\"T_7f9bf_level0_col0\" class=\"col_heading level0 col0\" >Model</th>\n",
              "      <th id=\"T_7f9bf_level0_col1\" class=\"col_heading level0 col1\" >Accuracy</th>\n",
              "      <th id=\"T_7f9bf_level0_col2\" class=\"col_heading level0 col2\" >AUC</th>\n",
              "      <th id=\"T_7f9bf_level0_col3\" class=\"col_heading level0 col3\" >Recall</th>\n",
              "      <th id=\"T_7f9bf_level0_col4\" class=\"col_heading level0 col4\" >Prec.</th>\n",
              "      <th id=\"T_7f9bf_level0_col5\" class=\"col_heading level0 col5\" >F1</th>\n",
              "      <th id=\"T_7f9bf_level0_col6\" class=\"col_heading level0 col6\" >Kappa</th>\n",
              "      <th id=\"T_7f9bf_level0_col7\" class=\"col_heading level0 col7\" >MCC</th>\n",
              "      <th id=\"T_7f9bf_level0_col8\" class=\"col_heading level0 col8\" >TT (Sec)</th>\n",
              "    </tr>\n",
              "  </thead>\n",
              "  <tbody>\n",
              "    <tr>\n",
              "      <th id=\"T_7f9bf_level0_row0\" class=\"row_heading level0 row0\" >lightgbm</th>\n",
              "      <td id=\"T_7f9bf_row0_col0\" class=\"data row0 col0\" >Light Gradient Boosting Machine</td>\n",
              "      <td id=\"T_7f9bf_row0_col1\" class=\"data row0 col1\" >0.9354</td>\n",
              "      <td id=\"T_7f9bf_row0_col2\" class=\"data row0 col2\" >0.9788</td>\n",
              "      <td id=\"T_7f9bf_row0_col3\" class=\"data row0 col3\" >0.9106</td>\n",
              "      <td id=\"T_7f9bf_row0_col4\" class=\"data row0 col4\" >0.9211</td>\n",
              "      <td id=\"T_7f9bf_row0_col5\" class=\"data row0 col5\" >0.9157</td>\n",
              "      <td id=\"T_7f9bf_row0_col6\" class=\"data row0 col6\" >0.8633</td>\n",
              "      <td id=\"T_7f9bf_row0_col7\" class=\"data row0 col7\" >0.8635</td>\n",
              "      <td id=\"T_7f9bf_row0_col8\" class=\"data row0 col8\" >0.4700</td>\n",
              "    </tr>\n",
              "    <tr>\n",
              "      <th id=\"T_7f9bf_level0_row1\" class=\"row_heading level0 row1\" >xgboost</th>\n",
              "      <td id=\"T_7f9bf_row1_col0\" class=\"data row1 col0\" >Extreme Gradient Boosting</td>\n",
              "      <td id=\"T_7f9bf_row1_col1\" class=\"data row1 col1\" >0.9331</td>\n",
              "      <td id=\"T_7f9bf_row1_col2\" class=\"data row1 col2\" >0.9779</td>\n",
              "      <td id=\"T_7f9bf_row1_col3\" class=\"data row1 col3\" >0.9025</td>\n",
              "      <td id=\"T_7f9bf_row1_col4\" class=\"data row1 col4\" >0.9224</td>\n",
              "      <td id=\"T_7f9bf_row1_col5\" class=\"data row1 col5\" >0.9123</td>\n",
              "      <td id=\"T_7f9bf_row1_col6\" class=\"data row1 col6\" >0.8582</td>\n",
              "      <td id=\"T_7f9bf_row1_col7\" class=\"data row1 col7\" >0.8584</td>\n",
              "      <td id=\"T_7f9bf_row1_col8\" class=\"data row1 col8\" >1.2840</td>\n",
              "    </tr>\n",
              "    <tr>\n",
              "      <th id=\"T_7f9bf_level0_row2\" class=\"row_heading level0 row2\" >gbc</th>\n",
              "      <td id=\"T_7f9bf_row2_col0\" class=\"data row2 col0\" >Gradient Boosting Classifier</td>\n",
              "      <td id=\"T_7f9bf_row2_col1\" class=\"data row2 col1\" >0.9252</td>\n",
              "      <td id=\"T_7f9bf_row2_col2\" class=\"data row2 col2\" >0.9766</td>\n",
              "      <td id=\"T_7f9bf_row2_col3\" class=\"data row2 col3\" >0.8813</td>\n",
              "      <td id=\"T_7f9bf_row2_col4\" class=\"data row2 col4\" >0.9213</td>\n",
              "      <td id=\"T_7f9bf_row2_col5\" class=\"data row2 col5\" >0.9007</td>\n",
              "      <td id=\"T_7f9bf_row2_col6\" class=\"data row2 col6\" >0.8407</td>\n",
              "      <td id=\"T_7f9bf_row2_col7\" class=\"data row2 col7\" >0.8414</td>\n",
              "      <td id=\"T_7f9bf_row2_col8\" class=\"data row2 col8\" >1.1550</td>\n",
              "    </tr>\n",
              "    <tr>\n",
              "      <th id=\"T_7f9bf_level0_row3\" class=\"row_heading level0 row3\" >rf</th>\n",
              "      <td id=\"T_7f9bf_row3_col0\" class=\"data row3 col0\" >Random Forest Classifier</td>\n",
              "      <td id=\"T_7f9bf_row3_col1\" class=\"data row3 col1\" >0.9157</td>\n",
              "      <td id=\"T_7f9bf_row3_col2\" class=\"data row3 col2\" >0.9674</td>\n",
              "      <td id=\"T_7f9bf_row3_col3\" class=\"data row3 col3\" >0.8644</td>\n",
              "      <td id=\"T_7f9bf_row3_col4\" class=\"data row3 col4\" >0.9126</td>\n",
              "      <td id=\"T_7f9bf_row3_col5\" class=\"data row3 col5\" >0.8877</td>\n",
              "      <td id=\"T_7f9bf_row3_col6\" class=\"data row3 col6\" >0.8204</td>\n",
              "      <td id=\"T_7f9bf_row3_col7\" class=\"data row3 col7\" >0.8213</td>\n",
              "      <td id=\"T_7f9bf_row3_col8\" class=\"data row3 col8\" >1.9400</td>\n",
              "    </tr>\n",
              "    <tr>\n",
              "      <th id=\"T_7f9bf_level0_row4\" class=\"row_heading level0 row4\" >ada</th>\n",
              "      <td id=\"T_7f9bf_row4_col0\" class=\"data row4 col0\" >Ada Boost Classifier</td>\n",
              "      <td id=\"T_7f9bf_row4_col1\" class=\"data row4 col1\" >0.9126</td>\n",
              "      <td id=\"T_7f9bf_row4_col2\" class=\"data row4 col2\" >0.9707</td>\n",
              "      <td id=\"T_7f9bf_row4_col3\" class=\"data row4 col3\" >0.8708</td>\n",
              "      <td id=\"T_7f9bf_row4_col4\" class=\"data row4 col4\" >0.8999</td>\n",
              "      <td id=\"T_7f9bf_row4_col5\" class=\"data row4 col5\" >0.8848</td>\n",
              "      <td id=\"T_7f9bf_row4_col6\" class=\"data row4 col6\" >0.8145</td>\n",
              "      <td id=\"T_7f9bf_row4_col7\" class=\"data row4 col7\" >0.8151</td>\n",
              "      <td id=\"T_7f9bf_row4_col8\" class=\"data row4 col8\" >0.5890</td>\n",
              "    </tr>\n",
              "    <tr>\n",
              "      <th id=\"T_7f9bf_level0_row5\" class=\"row_heading level0 row5\" >et</th>\n",
              "      <td id=\"T_7f9bf_row5_col0\" class=\"data row5 col0\" >Extra Trees Classifier</td>\n",
              "      <td id=\"T_7f9bf_row5_col1\" class=\"data row5 col1\" >0.9114</td>\n",
              "      <td id=\"T_7f9bf_row5_col2\" class=\"data row5 col2\" >0.9623</td>\n",
              "      <td id=\"T_7f9bf_row5_col3\" class=\"data row5 col3\" >0.8524</td>\n",
              "      <td id=\"T_7f9bf_row5_col4\" class=\"data row5 col4\" >0.9125</td>\n",
              "      <td id=\"T_7f9bf_row5_col5\" class=\"data row5 col5\" >0.8813</td>\n",
              "      <td id=\"T_7f9bf_row5_col6\" class=\"data row5 col6\" >0.8107</td>\n",
              "      <td id=\"T_7f9bf_row5_col7\" class=\"data row5 col7\" >0.8121</td>\n",
              "      <td id=\"T_7f9bf_row5_col8\" class=\"data row5 col8\" >1.1820</td>\n",
              "    </tr>\n",
              "    <tr>\n",
              "      <th id=\"T_7f9bf_level0_row6\" class=\"row_heading level0 row6\" >dt</th>\n",
              "      <td id=\"T_7f9bf_row6_col0\" class=\"data row6 col0\" >Decision Tree Classifier</td>\n",
              "      <td id=\"T_7f9bf_row6_col1\" class=\"data row6 col1\" >0.8898</td>\n",
              "      <td id=\"T_7f9bf_row6_col2\" class=\"data row6 col2\" >0.8856</td>\n",
              "      <td id=\"T_7f9bf_row6_col3\" class=\"data row6 col3\" >0.8636</td>\n",
              "      <td id=\"T_7f9bf_row6_col4\" class=\"data row6 col4\" >0.8526</td>\n",
              "      <td id=\"T_7f9bf_row6_col5\" class=\"data row6 col5\" >0.8579</td>\n",
              "      <td id=\"T_7f9bf_row6_col6\" class=\"data row6 col6\" >0.7679</td>\n",
              "      <td id=\"T_7f9bf_row6_col7\" class=\"data row6 col7\" >0.7681</td>\n",
              "      <td id=\"T_7f9bf_row6_col8\" class=\"data row6 col8\" >0.4560</td>\n",
              "    </tr>\n",
              "    <tr>\n",
              "      <th id=\"T_7f9bf_level0_row7\" class=\"row_heading level0 row7\" >lda</th>\n",
              "      <td id=\"T_7f9bf_row7_col0\" class=\"data row7 col0\" >Linear Discriminant Analysis</td>\n",
              "      <td id=\"T_7f9bf_row7_col1\" class=\"data row7 col1\" >0.8305</td>\n",
              "      <td id=\"T_7f9bf_row7_col2\" class=\"data row7 col2\" >0.9008</td>\n",
              "      <td id=\"T_7f9bf_row7_col3\" class=\"data row7 col3\" >0.7192</td>\n",
              "      <td id=\"T_7f9bf_row7_col4\" class=\"data row7 col4\" >0.8201</td>\n",
              "      <td id=\"T_7f9bf_row7_col5\" class=\"data row7 col5\" >0.7660</td>\n",
              "      <td id=\"T_7f9bf_row7_col6\" class=\"data row7 col6\" >0.6341</td>\n",
              "      <td id=\"T_7f9bf_row7_col7\" class=\"data row7 col7\" >0.6377</td>\n",
              "      <td id=\"T_7f9bf_row7_col8\" class=\"data row7 col8\" >0.1260</td>\n",
              "    </tr>\n",
              "    <tr>\n",
              "      <th id=\"T_7f9bf_level0_row8\" class=\"row_heading level0 row8\" >ridge</th>\n",
              "      <td id=\"T_7f9bf_row8_col0\" class=\"data row8 col0\" >Ridge Classifier</td>\n",
              "      <td id=\"T_7f9bf_row8_col1\" class=\"data row8 col1\" >0.8301</td>\n",
              "      <td id=\"T_7f9bf_row8_col2\" class=\"data row8 col2\" >0.0000</td>\n",
              "      <td id=\"T_7f9bf_row8_col3\" class=\"data row8 col3\" >0.7160</td>\n",
              "      <td id=\"T_7f9bf_row8_col4\" class=\"data row8 col4\" >0.8213</td>\n",
              "      <td id=\"T_7f9bf_row8_col5\" class=\"data row8 col5\" >0.7647</td>\n",
              "      <td id=\"T_7f9bf_row8_col6\" class=\"data row8 col6\" >0.6327</td>\n",
              "      <td id=\"T_7f9bf_row8_col7\" class=\"data row8 col7\" >0.6367</td>\n",
              "      <td id=\"T_7f9bf_row8_col8\" class=\"data row8 col8\" >0.1830</td>\n",
              "    </tr>\n",
              "    <tr>\n",
              "      <th id=\"T_7f9bf_level0_row9\" class=\"row_heading level0 row9\" >lr</th>\n",
              "      <td id=\"T_7f9bf_row9_col0\" class=\"data row9 col0\" >Logistic Regression</td>\n",
              "      <td id=\"T_7f9bf_row9_col1\" class=\"data row9 col1\" >0.8292</td>\n",
              "      <td id=\"T_7f9bf_row9_col2\" class=\"data row9 col2\" >0.8957</td>\n",
              "      <td id=\"T_7f9bf_row9_col3\" class=\"data row9 col3\" >0.7204</td>\n",
              "      <td id=\"T_7f9bf_row9_col4\" class=\"data row9 col4\" >0.8157</td>\n",
              "      <td id=\"T_7f9bf_row9_col5\" class=\"data row9 col5\" >0.7647</td>\n",
              "      <td id=\"T_7f9bf_row9_col6\" class=\"data row9 col6\" >0.6314</td>\n",
              "      <td id=\"T_7f9bf_row9_col7\" class=\"data row9 col7\" >0.6348</td>\n",
              "      <td id=\"T_7f9bf_row9_col8\" class=\"data row9 col8\" >2.0050</td>\n",
              "    </tr>\n",
              "    <tr>\n",
              "      <th id=\"T_7f9bf_level0_row10\" class=\"row_heading level0 row10\" >knn</th>\n",
              "      <td id=\"T_7f9bf_row10_col0\" class=\"data row10 col0\" >K Neighbors Classifier</td>\n",
              "      <td id=\"T_7f9bf_row10_col1\" class=\"data row10 col1\" >0.7947</td>\n",
              "      <td id=\"T_7f9bf_row10_col2\" class=\"data row10 col2\" >0.8510</td>\n",
              "      <td id=\"T_7f9bf_row10_col3\" class=\"data row10 col3\" >0.7361</td>\n",
              "      <td id=\"T_7f9bf_row10_col4\" class=\"data row10 col4\" >0.7331</td>\n",
              "      <td id=\"T_7f9bf_row10_col5\" class=\"data row10 col5\" >0.7342</td>\n",
              "      <td id=\"T_7f9bf_row10_col6\" class=\"data row10 col6\" >0.5670</td>\n",
              "      <td id=\"T_7f9bf_row10_col7\" class=\"data row10 col7\" >0.5674</td>\n",
              "      <td id=\"T_7f9bf_row10_col8\" class=\"data row10 col8\" >0.3180</td>\n",
              "    </tr>\n",
              "    <tr>\n",
              "      <th id=\"T_7f9bf_level0_row11\" class=\"row_heading level0 row11\" >nb</th>\n",
              "      <td id=\"T_7f9bf_row11_col0\" class=\"data row11 col0\" >Naive Bayes</td>\n",
              "      <td id=\"T_7f9bf_row11_col1\" class=\"data row11 col1\" >0.7458</td>\n",
              "      <td id=\"T_7f9bf_row11_col2\" class=\"data row11 col2\" >0.8388</td>\n",
              "      <td id=\"T_7f9bf_row11_col3\" class=\"data row11 col3\" >0.8227</td>\n",
              "      <td id=\"T_7f9bf_row11_col4\" class=\"data row11 col4\" >0.6331</td>\n",
              "      <td id=\"T_7f9bf_row11_col5\" class=\"data row11 col5\" >0.7140</td>\n",
              "      <td id=\"T_7f9bf_row11_col6\" class=\"data row11 col6\" >0.4927</td>\n",
              "      <td id=\"T_7f9bf_row11_col7\" class=\"data row11 col7\" >0.5085</td>\n",
              "      <td id=\"T_7f9bf_row11_col8\" class=\"data row11 col8\" >0.2580</td>\n",
              "    </tr>\n",
              "    <tr>\n",
              "      <th id=\"T_7f9bf_level0_row12\" class=\"row_heading level0 row12\" >svm</th>\n",
              "      <td id=\"T_7f9bf_row12_col0\" class=\"data row12 col0\" >SVM - Linear Kernel</td>\n",
              "      <td id=\"T_7f9bf_row12_col1\" class=\"data row12 col1\" >0.6826</td>\n",
              "      <td id=\"T_7f9bf_row12_col2\" class=\"data row12 col2\" >0.0000</td>\n",
              "      <td id=\"T_7f9bf_row12_col3\" class=\"data row12 col3\" >0.5783</td>\n",
              "      <td id=\"T_7f9bf_row12_col4\" class=\"data row12 col4\" >0.7165</td>\n",
              "      <td id=\"T_7f9bf_row12_col5\" class=\"data row12 col5\" >0.5317</td>\n",
              "      <td id=\"T_7f9bf_row12_col6\" class=\"data row12 col6\" >0.3217</td>\n",
              "      <td id=\"T_7f9bf_row12_col7\" class=\"data row12 col7\" >0.3895</td>\n",
              "      <td id=\"T_7f9bf_row12_col8\" class=\"data row12 col8\" >0.3750</td>\n",
              "    </tr>\n",
              "    <tr>\n",
              "      <th id=\"T_7f9bf_level0_row13\" class=\"row_heading level0 row13\" >dummy</th>\n",
              "      <td id=\"T_7f9bf_row13_col0\" class=\"data row13 col0\" >Dummy Classifier</td>\n",
              "      <td id=\"T_7f9bf_row13_col1\" class=\"data row13 col1\" >0.6146</td>\n",
              "      <td id=\"T_7f9bf_row13_col2\" class=\"data row13 col2\" >0.5000</td>\n",
              "      <td id=\"T_7f9bf_row13_col3\" class=\"data row13 col3\" >0.0000</td>\n",
              "      <td id=\"T_7f9bf_row13_col4\" class=\"data row13 col4\" >0.0000</td>\n",
              "      <td id=\"T_7f9bf_row13_col5\" class=\"data row13 col5\" >0.0000</td>\n",
              "      <td id=\"T_7f9bf_row13_col6\" class=\"data row13 col6\" >0.0000</td>\n",
              "      <td id=\"T_7f9bf_row13_col7\" class=\"data row13 col7\" >0.0000</td>\n",
              "      <td id=\"T_7f9bf_row13_col8\" class=\"data row13 col8\" >0.0920</td>\n",
              "    </tr>\n",
              "    <tr>\n",
              "      <th id=\"T_7f9bf_level0_row14\" class=\"row_heading level0 row14\" >qda</th>\n",
              "      <td id=\"T_7f9bf_row14_col0\" class=\"data row14 col0\" >Quadratic Discriminant Analysis</td>\n",
              "      <td id=\"T_7f9bf_row14_col1\" class=\"data row14 col1\" >0.4248</td>\n",
              "      <td id=\"T_7f9bf_row14_col2\" class=\"data row14 col2\" >0.5740</td>\n",
              "      <td id=\"T_7f9bf_row14_col3\" class=\"data row14 col3\" >0.9486</td>\n",
              "      <td id=\"T_7f9bf_row14_col4\" class=\"data row14 col4\" >0.4342</td>\n",
              "      <td id=\"T_7f9bf_row14_col5\" class=\"data row14 col5\" >0.5641</td>\n",
              "      <td id=\"T_7f9bf_row14_col6\" class=\"data row14 col6\" >0.0490</td>\n",
              "      <td id=\"T_7f9bf_row14_col7\" class=\"data row14 col7\" >0.0488</td>\n",
              "      <td id=\"T_7f9bf_row14_col8\" class=\"data row14 col8\" >0.3220</td>\n",
              "    </tr>\n",
              "  </tbody>\n",
              "</table>\n"
            ],
            "text/plain": [
              "<pandas.io.formats.style.Styler at 0x7f9d0bac06a0>"
            ]
          },
          "metadata": {},
          "output_type": "display_data"
        },
        {
          "data": {
            "application/vnd.jupyter.widget-view+json": {
              "model_id": "6b03ec986f86478189f46d928b99039b",
              "version_major": 2,
              "version_minor": 0
            },
            "text/plain": [
              "Processing:   0%|          | 0/65 [00:00<?, ?it/s]"
            ]
          },
          "metadata": {
            "application/vnd.jupyter.widget-view+json": {
              "colab": {
                "custom_widget_manager": {
                  "url": "https://ssl.gstatic.com/colaboratory-static/widgets/colab-cdn-widget-manager/b3e629b1971e1542/manager.min.js"
                }
              }
            }
          },
          "output_type": "display_data"
        },
        {
          "data": {
            "text/html": [],
            "text/plain": [
              "<IPython.core.display.HTML object>"
            ]
          },
          "metadata": {},
          "output_type": "display_data"
        },
        {
          "ename": "AttributeError",
          "evalue": "ignored",
          "output_type": "error",
          "traceback": [
            "\u001b[0;31m---------------------------------------------------------------------------\u001b[0m",
            "\u001b[0;31mAttributeError\u001b[0m                            Traceback (most recent call last)",
            "\u001b[0;32m<ipython-input-17-822f3798d965>\u001b[0m in \u001b[0;36m<cell line: 9>\u001b[0;34m()\u001b[0m\n\u001b[1;32m      7\u001b[0m \u001b[0;34m\u001b[0m\u001b[0m\n\u001b[1;32m      8\u001b[0m \u001b[0;31m# preprocess test set\u001b[0m\u001b[0;34m\u001b[0m\u001b[0;34m\u001b[0m\u001b[0m\n\u001b[0;32m----> 9\u001b[0;31m \u001b[0mX_test_preprocessed\u001b[0m \u001b[0;34m=\u001b[0m \u001b[0mclf\u001b[0m\u001b[0;34m.\u001b[0m\u001b[0mtransform\u001b[0m\u001b[0;34m(\u001b[0m\u001b[0mX_test\u001b[0m\u001b[0;34m)\u001b[0m\u001b[0;34m\u001b[0m\u001b[0;34m\u001b[0m\u001b[0m\n\u001b[0m\u001b[1;32m     10\u001b[0m \u001b[0;34m\u001b[0m\u001b[0m\n\u001b[1;32m     11\u001b[0m \u001b[0mpreds\u001b[0m \u001b[0;34m=\u001b[0m \u001b[0mpredict_model\u001b[0m\u001b[0;34m(\u001b[0m\u001b[0mbest_model\u001b[0m\u001b[0;34m,\u001b[0m \u001b[0mdata\u001b[0m\u001b[0;34m=\u001b[0m\u001b[0mX_test_preprocessed\u001b[0m\u001b[0;34m)\u001b[0m\u001b[0;34m\u001b[0m\u001b[0;34m\u001b[0m\u001b[0m\n",
            "\u001b[0;31mAttributeError\u001b[0m: 'ClassificationExperiment' object has no attribute 'transform'"
          ]
        }
      ],
      "source": [
        "#2)Using pycaret AutoML tools,make prediction on test data and evaluate performance of prediction using eval function defined above.\n",
        "from pycaret.classification import *\n",
        "\n",
        "clf = setup(data=df, target='Converted', train_size=0.7)\n",
        "\n",
        "best_model = compare_models()\n",
        "\n",
        "# preprocess test set\n",
        "X_test_preprocessed = clf.transform(X_test)\n",
        "\n",
        "preds = predict_model(best_model, data=X_test_preprocessed)\n",
        "\n",
        "print(preds.columns)\n",
        "\n",
        "eval(y_test, preds['prediction_label'])\n",
        "\n"
      ]
    },
    {
      "cell_type": "code",
      "execution_count": 21,
      "metadata": {
        "colab": {
          "base_uri": "https://localhost:8080/"
        },
        "id": "jvmhBCe2AKka",
        "outputId": "3b741a2d-d15d-44d5-d305-906ac8243ec2"
      },
      "outputs": [
        {
          "name": "stdout",
          "output_type": "stream",
          "text": [
            "Looking in indexes: https://pypi.org/simple, https://us-python.pkg.dev/colab-wheels/public/simple/\n",
            "Collecting autogluon\n",
            "  Downloading autogluon-0.7.0-py3-none-any.whl (9.7 kB)\n",
            "Collecting autogluon.multimodal==0.7.0\n",
            "  Downloading autogluon.multimodal-0.7.0-py3-none-any.whl (331 kB)\n",
            "\u001b[2K     \u001b[90m━━━━━━━━━━━━━━━━━━━━━━━━━━━━━━━━━━━━━━━\u001b[0m \u001b[32m331.1/331.1 kB\u001b[0m \u001b[31m6.0 MB/s\u001b[0m eta \u001b[36m0:00:00\u001b[0m\n",
            "\u001b[?25hCollecting autogluon.tabular[all]==0.7.0\n",
            "  Downloading autogluon.tabular-0.7.0-py3-none-any.whl (292 kB)\n",
            "\u001b[2K     \u001b[90m━━━━━━━━━━━━━━━━━━━━━━━━━━━━━━━━━━━━━━\u001b[0m \u001b[32m292.2/292.2 kB\u001b[0m \u001b[31m25.3 MB/s\u001b[0m eta \u001b[36m0:00:00\u001b[0m\n",
            "\u001b[?25hCollecting autogluon.core[all]==0.7.0\n",
            "  Downloading autogluon.core-0.7.0-py3-none-any.whl (218 kB)\n",
            "\u001b[2K     \u001b[90m━━━━━━━━━━━━━━━━━━━━━━━━━━━━━━━━━━━━━━\u001b[0m \u001b[32m218.3/218.3 kB\u001b[0m \u001b[31m23.4 MB/s\u001b[0m eta \u001b[36m0:00:00\u001b[0m\n",
            "\u001b[?25hCollecting autogluon.timeseries[all]==0.7.0\n",
            "  Downloading autogluon.timeseries-0.7.0-py3-none-any.whl (108 kB)\n",
            "\u001b[2K     \u001b[90m━━━━━━━━━━━━━━━━━━━━━━━━━━━━━━━━━━━━━━\u001b[0m \u001b[32m108.7/108.7 kB\u001b[0m \u001b[31m12.7 MB/s\u001b[0m eta \u001b[36m0:00:00\u001b[0m\n",
            "\u001b[?25hCollecting autogluon.features==0.7.0\n",
            "  Downloading autogluon.features-0.7.0-py3-none-any.whl (60 kB)\n",
            "\u001b[2K     \u001b[90m━━━━━━━━━━━━━━━━━━━━━━━━━━━━━━━━━━━━━━━━\u001b[0m \u001b[32m60.1/60.1 kB\u001b[0m \u001b[31m6.8 MB/s\u001b[0m eta \u001b[36m0:00:00\u001b[0m\n",
            "\u001b[?25hCollecting autogluon.common==0.7.0\n",
            "  Downloading autogluon.common-0.7.0-py3-none-any.whl (45 kB)\n",
            "\u001b[2K     \u001b[90m━━━━━━━━━━━━━━━━━━━━━━━━━━━━━━━━━━━━━━━━\u001b[0m \u001b[32m45.0/45.0 kB\u001b[0m \u001b[31m4.6 MB/s\u001b[0m eta \u001b[36m0:00:00\u001b[0m\n",
            "\u001b[?25hRequirement already satisfied: requests in /usr/local/lib/python3.9/dist-packages (from autogluon.core[all]==0.7.0->autogluon) (2.27.1)\n",
            "Collecting networkx<3.0,>=2.3\n",
            "  Downloading networkx-2.8.8-py3-none-any.whl (2.0 MB)\n",
            "\u001b[2K     \u001b[90m━━━━━━━━━━━━━━━━━━━━━━━━━━━━━━━━━━━━━━━━\u001b[0m \u001b[32m2.0/2.0 MB\u001b[0m \u001b[31m46.6 MB/s\u001b[0m eta \u001b[36m0:00:00\u001b[0m\n",
            "\u001b[?25hRequirement already satisfied: scipy<1.12,>=1.5.4 in /usr/local/lib/python3.9/dist-packages (from autogluon.core[all]==0.7.0->autogluon) (1.10.1)\n",
            "Requirement already satisfied: pandas<1.6,>=1.4.1 in /usr/local/lib/python3.9/dist-packages (from autogluon.core[all]==0.7.0->autogluon) (1.5.3)\n",
            "Collecting boto3<2,>=1.10\n",
            "  Downloading boto3-1.26.114-py3-none-any.whl (135 kB)\n",
            "\u001b[2K     \u001b[90m━━━━━━━━━━━━━━━━━━━━━━━━━━━━━━━━━━━━━━━\u001b[0m \u001b[32m135.6/135.6 kB\u001b[0m \u001b[31m7.7 MB/s\u001b[0m eta \u001b[36m0:00:00\u001b[0m\n",
            "\u001b[?25hRequirement already satisfied: scikit-learn<1.3,>=1.0 in /usr/local/lib/python3.9/dist-packages (from autogluon.core[all]==0.7.0->autogluon) (1.2.2)\n",
            "Requirement already satisfied: numpy<1.27,>=1.21 in /usr/local/lib/python3.9/dist-packages (from autogluon.core[all]==0.7.0->autogluon) (1.22.4)\n",
            "Requirement already satisfied: matplotlib in /usr/local/lib/python3.9/dist-packages (from autogluon.core[all]==0.7.0->autogluon) (3.7.1)\n",
            "Requirement already satisfied: tqdm<5,>=4.38 in /usr/local/lib/python3.9/dist-packages (from autogluon.core[all]==0.7.0->autogluon) (4.65.0)\n",
            "Collecting ray[tune]<2.3,>=2.2\n",
            "  Downloading ray-2.2.0-cp39-cp39-manylinux2014_x86_64.whl (57.4 MB)\n",
            "\u001b[2K     \u001b[90m━━━━━━━━━━━━━━━━━━━━━━━━━━━━━━━━━━━━━━━━\u001b[0m \u001b[32m57.4/57.4 MB\u001b[0m \u001b[31m9.6 MB/s\u001b[0m eta \u001b[36m0:00:00\u001b[0m\n",
            "\u001b[?25hRequirement already satisfied: hyperopt<0.2.8,>=0.2.7 in /usr/local/lib/python3.9/dist-packages (from autogluon.core[all]==0.7.0->autogluon) (0.2.7)\n",
            "Collecting accelerate<0.17,>=0.9\n",
            "  Downloading accelerate-0.16.0-py3-none-any.whl (199 kB)\n",
            "\u001b[2K     \u001b[90m━━━━━━━━━━━━━━━━━━━━━━━━━━━━━━━━━━━━━━\u001b[0m \u001b[32m199.7/199.7 kB\u001b[0m \u001b[31m13.2 MB/s\u001b[0m eta \u001b[36m0:00:00\u001b[0m\n",
            "\u001b[?25hCollecting pytorch-metric-learning<2.0,>=1.3.0\n",
            "  Downloading pytorch_metric_learning-1.7.3-py3-none-any.whl (112 kB)\n",
            "\u001b[2K     \u001b[90m━━━━━━━━━━━━━━━━━━━━━━━━━━━━━━━━━━━━━━\u001b[0m \u001b[32m112.2/112.2 kB\u001b[0m \u001b[31m10.8 MB/s\u001b[0m eta \u001b[36m0:00:00\u001b[0m\n",
            "\u001b[?25hCollecting sentencepiece<0.2.0,>=0.1.95\n",
            "  Downloading sentencepiece-0.1.98-cp39-cp39-manylinux_2_17_x86_64.manylinux2014_x86_64.whl (1.3 MB)\n",
            "\u001b[2K     \u001b[90m━━━━━━━━━━━━━━━━━━━━━━━━━━━━━━━━━━━━━━━━\u001b[0m \u001b[32m1.3/1.3 MB\u001b[0m \u001b[31m50.4 MB/s\u001b[0m eta \u001b[36m0:00:00\u001b[0m\n",
            "\u001b[?25hCollecting evaluate<0.4.0,>=0.2.2\n",
            "  Downloading evaluate-0.3.0-py3-none-any.whl (72 kB)\n",
            "\u001b[2K     \u001b[90m━━━━━━━━━━━━━━━━━━━━━━━━━━━━━━━━━━━━━━━━\u001b[0m \u001b[32m72.9/72.9 kB\u001b[0m \u001b[31m7.7 MB/s\u001b[0m eta \u001b[36m0:00:00\u001b[0m\n",
            "\u001b[?25hRequirement already satisfied: tensorboard<3,>=2.9 in /usr/local/lib/python3.9/dist-packages (from autogluon.multimodal==0.7.0->autogluon) (2.12.1)\n",
            "Collecting jsonschema<4.18,>=4.14\n",
            "  Downloading jsonschema-4.17.3-py3-none-any.whl (90 kB)\n",
            "\u001b[2K     \u001b[90m━━━━━━━━━━━━━━━━━━━━━━━━━━━━━━━━━━━━━━━━\u001b[0m \u001b[32m90.4/90.4 kB\u001b[0m \u001b[31m9.0 MB/s\u001b[0m eta \u001b[36m0:00:00\u001b[0m\n",
            "\u001b[?25hCollecting pytorch-lightning<1.10.0,>=1.9.0\n",
            "  Downloading pytorch_lightning-1.9.5-py3-none-any.whl (829 kB)\n",
            "\u001b[2K     \u001b[90m━━━━━━━━━━━━━━━━━━━━━━━━━━━━━━━━━━━━━━\u001b[0m \u001b[32m829.5/829.5 kB\u001b[0m \u001b[31m37.7 MB/s\u001b[0m eta \u001b[36m0:00:00\u001b[0m\n",
            "\u001b[?25hRequirement already satisfied: defusedxml<0.7.2,>=0.7.1 in /usr/local/lib/python3.9/dist-packages (from autogluon.multimodal==0.7.0->autogluon) (0.7.1)\n",
            "Collecting nptyping<2.5.0,>=1.4.4\n",
            "  Downloading nptyping-2.4.1-py3-none-any.whl (36 kB)\n",
            "Collecting pytesseract<0.3.11,>=0.3.9\n",
            "  Downloading pytesseract-0.3.10-py3-none-any.whl (14 kB)\n",
            "Collecting torchmetrics<0.9.0,>=0.8.0\n",
            "  Downloading torchmetrics-0.8.2-py3-none-any.whl (409 kB)\n",
            "\u001b[2K     \u001b[90m━━━━━━━━━━━━━━━━━━━━━━━━━━━━━━━━━━━━━━\u001b[0m \u001b[32m409.8/409.8 kB\u001b[0m \u001b[31m32.3 MB/s\u001b[0m eta \u001b[36m0:00:00\u001b[0m\n",
            "\u001b[?25hCollecting seqeval<1.3.0,>=1.2.2\n",
            "  Downloading seqeval-1.2.2.tar.gz (43 kB)\n",
            "\u001b[2K     \u001b[90m━━━━━━━━━━━━━━━━━━━━━━━━━━━━━━━━━━━━━━━━\u001b[0m \u001b[32m43.6/43.6 kB\u001b[0m \u001b[31m4.5 MB/s\u001b[0m eta \u001b[36m0:00:00\u001b[0m\n",
            "\u001b[?25h  Preparing metadata (setup.py) ... \u001b[?25l\u001b[?25hdone\n",
            "Collecting omegaconf<2.3.0,>=2.1.1\n",
            "  Downloading omegaconf-2.2.3-py3-none-any.whl (79 kB)\n",
            "\u001b[2K     \u001b[90m━━━━━━━━━━━━━━━━━━━━━━━━━━━━━━━━━━━━━━━━\u001b[0m \u001b[32m79.3/79.3 kB\u001b[0m \u001b[31m9.6 MB/s\u001b[0m eta \u001b[36m0:00:00\u001b[0m\n",
            "\u001b[?25hRequirement already satisfied: jinja2<3.2,>=3.0.3 in /usr/local/lib/python3.9/dist-packages (from autogluon.multimodal==0.7.0->autogluon) (3.1.2)\n",
            "Collecting timm<0.7.0,>=0.6.12\n",
            "  Downloading timm-0.6.13-py3-none-any.whl (549 kB)\n",
            "\u001b[2K     \u001b[90m━━━━━━━━━━━━━━━━━━━━━━━━━━━━━━━━━━━━━━\u001b[0m \u001b[32m549.1/549.1 kB\u001b[0m \u001b[31m48.7 MB/s\u001b[0m eta \u001b[36m0:00:00\u001b[0m\n",
            "\u001b[?25hCollecting Pillow<9.6,>=9.3\n",
            "  Downloading Pillow-9.5.0-cp39-cp39-manylinux_2_28_x86_64.whl (3.4 MB)\n",
            "\u001b[2K     \u001b[90m━━━━━━━━━━━━━━━━━━━━━━━━━━━━━━━━━━━━━━━━\u001b[0m \u001b[32m3.4/3.4 MB\u001b[0m \u001b[31m88.2 MB/s\u001b[0m eta \u001b[36m0:00:00\u001b[0m\n",
            "\u001b[?25hCollecting openmim<0.4.0,>0.1.5\n",
            "  Downloading openmim-0.3.7-py2.py3-none-any.whl (51 kB)\n",
            "\u001b[2K     \u001b[90m━━━━━━━━━━━━━━━━━━━━━━━━━━━━━━━━━━━━━━━━\u001b[0m \u001b[32m51.3/51.3 kB\u001b[0m \u001b[31m4.9 MB/s\u001b[0m eta \u001b[36m0:00:00\u001b[0m\n",
            "\u001b[?25hRequirement already satisfied: scikit-image<0.20.0,>=0.19.1 in /usr/local/lib/python3.9/dist-packages (from autogluon.multimodal==0.7.0->autogluon) (0.19.3)\n",
            "Requirement already satisfied: nltk<4.0.0,>=3.4.5 in /usr/local/lib/python3.9/dist-packages (from autogluon.multimodal==0.7.0->autogluon) (3.8.1)\n",
            "Collecting torch<1.14,>=1.9\n",
            "  Downloading torch-1.13.1-cp39-cp39-manylinux1_x86_64.whl (887.4 MB)\n",
            "\u001b[2K     \u001b[90m━━━━━━━━━━━━━━━━━━━━━━━━━━━━━━━━━━━━━━━\u001b[0m \u001b[32m887.4/887.4 MB\u001b[0m \u001b[31m1.7 MB/s\u001b[0m eta \u001b[36m0:00:00\u001b[0m\n",
            "\u001b[?25hCollecting torchvision<0.15.0\n",
            "  Downloading torchvision-0.14.1-cp39-cp39-manylinux1_x86_64.whl (24.2 MB)\n",
            "\u001b[2K     \u001b[90m━━━━━━━━━━━━━━━━━━━━━━━━━━━━━━━━━━━━━━━━\u001b[0m \u001b[32m24.2/24.2 MB\u001b[0m \u001b[31m54.7 MB/s\u001b[0m eta \u001b[36m0:00:00\u001b[0m\n",
            "\u001b[?25hCollecting transformers<4.27.0,>=4.23.0\n",
            "  Downloading transformers-4.26.1-py3-none-any.whl (6.3 MB)\n",
            "\u001b[2K     \u001b[90m━━━━━━━━━━━━━━━━━━━━━━━━━━━━━━━━━━━━━━━━\u001b[0m \u001b[32m6.3/6.3 MB\u001b[0m \u001b[31m88.9 MB/s\u001b[0m eta \u001b[36m0:00:00\u001b[0m\n",
            "\u001b[?25hCollecting fairscale<0.4.14,>=0.4.5\n",
            "  Downloading fairscale-0.4.13.tar.gz (266 kB)\n",
            "\u001b[2K     \u001b[90m━━━━━━━━━━━━━━━━━━━━━━━━━━━━━━━━━━━━━━\u001b[0m \u001b[32m266.3/266.3 kB\u001b[0m \u001b[31m24.7 MB/s\u001b[0m eta \u001b[36m0:00:00\u001b[0m\n",
            "\u001b[?25h  Installing build dependencies ... \u001b[?25l\u001b[?25hdone\n",
            "  Getting requirements to build wheel ... \u001b[?25l\u001b[?25hdone\n",
            "  Installing backend dependencies ... \u001b[?25l\u001b[?25hdone\n",
            "  Preparing metadata (pyproject.toml) ... \u001b[?25l\u001b[?25hdone\n",
            "Collecting nlpaug<1.2.0,>=1.1.10\n",
            "  Downloading nlpaug-1.1.11-py3-none-any.whl (410 kB)\n",
            "\u001b[2K     \u001b[90m━━━━━━━━━━━━━━━━━━━━━━━━━━━━━━━━━━━━━━\u001b[0m \u001b[32m410.5/410.5 kB\u001b[0m \u001b[31m34.7 MB/s\u001b[0m eta \u001b[36m0:00:00\u001b[0m\n",
            "\u001b[?25hRequirement already satisfied: text-unidecode<1.4,>=1.3 in /usr/local/lib/python3.9/dist-packages (from autogluon.multimodal==0.7.0->autogluon) (1.3)\n",
            "Requirement already satisfied: lightgbm<3.4,>=3.3 in /usr/local/lib/python3.9/dist-packages (from autogluon.tabular[all]==0.7.0->autogluon) (3.3.5)\n",
            "Collecting catboost<1.2,>=1.0\n",
            "  Downloading catboost-1.1.1-cp39-none-manylinux1_x86_64.whl (76.6 MB)\n",
            "\u001b[2K     \u001b[90m━━━━━━━━━━━━━━━━━━━━━━━━━━━━━━━━━━━━━━━━\u001b[0m \u001b[32m76.6/76.6 MB\u001b[0m \u001b[31m13.3 MB/s\u001b[0m eta \u001b[36m0:00:00\u001b[0m\n",
            "\u001b[?25hRequirement already satisfied: xgboost<1.8,>=1.6 in /usr/local/lib/python3.9/dist-packages (from autogluon.tabular[all]==0.7.0->autogluon) (1.7.5)\n",
            "Requirement already satisfied: fastai<2.8,>=2.3.1 in /usr/local/lib/python3.9/dist-packages (from autogluon.tabular[all]==0.7.0->autogluon) (2.7.12)\n",
            "Collecting ujson<6,>=5\n",
            "  Downloading ujson-5.7.0-cp39-cp39-manylinux_2_17_x86_64.manylinux2014_x86_64.whl (52 kB)\n",
            "\u001b[2K     \u001b[90m━━━━━━━━━━━━━━━━━━━━━━━━━━━━━━━━━━━━━━━━\u001b[0m \u001b[32m52.8/52.8 kB\u001b[0m \u001b[31m5.8 MB/s\u001b[0m eta \u001b[36m0:00:00\u001b[0m\n",
            "\u001b[?25hRequirement already satisfied: statsmodels<0.14,>=0.13.0 in /usr/local/lib/python3.9/dist-packages (from autogluon.timeseries[all]==0.7.0->autogluon) (0.13.5)\n",
            "Requirement already satisfied: joblib<2,>=1.1 in /usr/local/lib/python3.9/dist-packages (from autogluon.timeseries[all]==0.7.0->autogluon) (1.2.0)\n",
            "Collecting gluonts<0.13,>=0.12.0\n",
            "  Downloading gluonts-0.12.6-py3-none-any.whl (1.2 MB)\n",
            "\u001b[2K     \u001b[90m━━━━━━━━━━━━━━━━━━━━━━━━━━━━━━━━━━━━━━━━\u001b[0m \u001b[32m1.2/1.2 MB\u001b[0m \u001b[31m49.9 MB/s\u001b[0m eta \u001b[36m0:00:00\u001b[0m\n",
            "\u001b[?25hCollecting statsforecast<1.5,>=1.4.0\n",
            "  Downloading statsforecast-1.4.0-py3-none-any.whl (91 kB)\n",
            "\u001b[2K     \u001b[90m━━━━━━━━━━━━━━━━━━━━━━━━━━━━━━━━━━━━━━━━\u001b[0m \u001b[32m92.0/92.0 kB\u001b[0m \u001b[31m10.8 MB/s\u001b[0m eta \u001b[36m0:00:00\u001b[0m\n",
            "\u001b[?25hCollecting pmdarima<1.9,>=1.8.2\n",
            "  Downloading pmdarima-1.8.5-cp39-cp39-manylinux_2_17_x86_64.manylinux2014_x86_64.manylinux_2_24_x86_64.whl (1.4 MB)\n",
            "\u001b[2K     \u001b[90m━━━━━━━━━━━━━━━━━━━━━━━━━━━━━━━━━━━━━━━━\u001b[0m \u001b[32m1.4/1.4 MB\u001b[0m \u001b[31m49.1 MB/s\u001b[0m eta \u001b[36m0:00:00\u001b[0m\n",
            "\u001b[?25hRequirement already satisfied: tbats<2,>=1.1 in /usr/local/lib/python3.9/dist-packages (from autogluon.timeseries[all]==0.7.0->autogluon) (1.1.3)\n",
            "Collecting sktime<0.16,>=0.14\n",
            "  Downloading sktime-0.15.1-py3-none-any.whl (16.0 MB)\n",
            "\u001b[2K     \u001b[90m━━━━━━━━━━━━━━━━━━━━━━━━━━━━━━━━━━━━━━━━\u001b[0m \u001b[32m16.0/16.0 MB\u001b[0m \u001b[31m52.6 MB/s\u001b[0m eta \u001b[36m0:00:00\u001b[0m\n",
            "\u001b[?25hRequirement already satisfied: psutil<6,>=5.7.3 in /usr/local/lib/python3.9/dist-packages (from autogluon.common==0.7.0->autogluon.core[all]==0.7.0->autogluon) (5.9.4)\n",
            "Requirement already satisfied: setuptools in /usr/local/lib/python3.9/dist-packages (from autogluon.common==0.7.0->autogluon.core[all]==0.7.0->autogluon) (67.6.1)\n",
            "Requirement already satisfied: packaging>=20.0 in /usr/local/lib/python3.9/dist-packages (from accelerate<0.17,>=0.9->autogluon.multimodal==0.7.0->autogluon) (23.0)\n",
            "Requirement already satisfied: pyyaml in /usr/local/lib/python3.9/dist-packages (from accelerate<0.17,>=0.9->autogluon.multimodal==0.7.0->autogluon) (6.0)\n",
            "Collecting s3transfer<0.7.0,>=0.6.0\n",
            "  Downloading s3transfer-0.6.0-py3-none-any.whl (79 kB)\n",
            "\u001b[2K     \u001b[90m━━━━━━━━━━━━━━━━━━━━━━━━━━━━━━━━━━━━━━━━\u001b[0m \u001b[32m79.6/79.6 kB\u001b[0m \u001b[31m8.6 MB/s\u001b[0m eta \u001b[36m0:00:00\u001b[0m\n",
            "\u001b[?25hCollecting botocore<1.30.0,>=1.29.114\n",
            "  Downloading botocore-1.29.114-py3-none-any.whl (10.6 MB)\n",
            "\u001b[2K     \u001b[90m━━━━━━━━━━━━━━━━━━━━━━━━━━━━━━━━━━━━━━━━\u001b[0m \u001b[32m10.6/10.6 MB\u001b[0m \u001b[31m20.2 MB/s\u001b[0m eta \u001b[36m0:00:00\u001b[0m\n",
            "\u001b[?25hCollecting jmespath<2.0.0,>=0.7.1\n",
            "  Downloading jmespath-1.0.1-py3-none-any.whl (20 kB)\n",
            "Requirement already satisfied: plotly in /usr/local/lib/python3.9/dist-packages (from catboost<1.2,>=1.0->autogluon.tabular[all]==0.7.0->autogluon) (5.13.1)\n",
            "Requirement already satisfied: six in /usr/local/lib/python3.9/dist-packages (from catboost<1.2,>=1.0->autogluon.tabular[all]==0.7.0->autogluon) (1.16.0)\n",
            "Requirement already satisfied: graphviz in /usr/local/lib/python3.9/dist-packages (from catboost<1.2,>=1.0->autogluon.tabular[all]==0.7.0->autogluon) (0.20.1)\n",
            "Collecting multiprocess\n",
            "  Downloading multiprocess-0.70.14-py39-none-any.whl (132 kB)\n",
            "\u001b[2K     \u001b[90m━━━━━━━━━━━━━━━━━━━━━━━━━━━━━━━━━━━━━━\u001b[0m \u001b[32m132.9/132.9 kB\u001b[0m \u001b[31m13.8 MB/s\u001b[0m eta \u001b[36m0:00:00\u001b[0m\n",
            "\u001b[?25hCollecting huggingface-hub>=0.7.0\n",
            "  Downloading huggingface_hub-0.13.4-py3-none-any.whl (200 kB)\n",
            "\u001b[2K     \u001b[90m━━━━━━━━━━━━━━━━━━━━━━━━━━━━━━━━━━━━━━\u001b[0m \u001b[32m200.1/200.1 kB\u001b[0m \u001b[31m16.5 MB/s\u001b[0m eta \u001b[36m0:00:00\u001b[0m\n",
            "\u001b[?25hCollecting responses<0.19\n",
            "  Downloading responses-0.18.0-py3-none-any.whl (38 kB)\n",
            "Requirement already satisfied: xxhash in /usr/local/lib/python3.9/dist-packages (from evaluate<0.4.0,>=0.2.2->autogluon.multimodal==0.7.0->autogluon) (3.2.0)\n",
            "Requirement already satisfied: fsspec[http]>=2021.05.0 in /usr/local/lib/python3.9/dist-packages (from evaluate<0.4.0,>=0.2.2->autogluon.multimodal==0.7.0->autogluon) (2023.4.0)\n",
            "Collecting datasets>=2.0.0\n",
            "  Downloading datasets-2.11.0-py3-none-any.whl (468 kB)\n",
            "\u001b[2K     \u001b[90m━━━━━━━━━━━━━━━━━━━━━━━━━━━━━━━━━━━━━━\u001b[0m \u001b[32m468.7/468.7 kB\u001b[0m \u001b[31m32.1 MB/s\u001b[0m eta \u001b[36m0:00:00\u001b[0m\n",
            "\u001b[?25hCollecting dill\n",
            "  Downloading dill-0.3.6-py3-none-any.whl (110 kB)\n",
            "\u001b[2K     \u001b[90m━━━━━━━━━━━━━━━━━━━━━━━━━━━━━━━━━━━━━━\u001b[0m \u001b[32m110.5/110.5 kB\u001b[0m \u001b[31m11.6 MB/s\u001b[0m eta \u001b[36m0:00:00\u001b[0m\n",
            "\u001b[?25hRequirement already satisfied: fastdownload<2,>=0.0.5 in /usr/local/lib/python3.9/dist-packages (from fastai<2.8,>=2.3.1->autogluon.tabular[all]==0.7.0->autogluon) (0.0.7)\n",
            "Requirement already satisfied: pip in /usr/local/lib/python3.9/dist-packages (from fastai<2.8,>=2.3.1->autogluon.tabular[all]==0.7.0->autogluon) (23.0.1)\n",
            "Requirement already satisfied: fastcore<1.6,>=1.5.29 in /usr/local/lib/python3.9/dist-packages (from fastai<2.8,>=2.3.1->autogluon.tabular[all]==0.7.0->autogluon) (1.5.29)\n",
            "Requirement already satisfied: spacy<4 in /usr/local/lib/python3.9/dist-packages (from fastai<2.8,>=2.3.1->autogluon.tabular[all]==0.7.0->autogluon) (3.5.1)\n",
            "Requirement already satisfied: fastprogress>=0.2.4 in /usr/local/lib/python3.9/dist-packages (from fastai<2.8,>=2.3.1->autogluon.tabular[all]==0.7.0->autogluon) (1.0.3)\n",
            "Requirement already satisfied: toolz~=0.10 in /usr/local/lib/python3.9/dist-packages (from gluonts<0.13,>=0.12.0->autogluon.timeseries[all]==0.7.0->autogluon) (0.12.0)\n",
            "Requirement already satisfied: pydantic~=1.7 in /usr/local/lib/python3.9/dist-packages (from gluonts<0.13,>=0.12.0->autogluon.timeseries[all]==0.7.0->autogluon) (1.10.7)\n",
            "Requirement already satisfied: typing-extensions~=4.0 in /usr/local/lib/python3.9/dist-packages (from gluonts<0.13,>=0.12.0->autogluon.timeseries[all]==0.7.0->autogluon) (4.5.0)\n",
            "Requirement already satisfied: cloudpickle in /usr/local/lib/python3.9/dist-packages (from hyperopt<0.2.8,>=0.2.7->autogluon.core[all]==0.7.0->autogluon) (2.2.1)\n",
            "Requirement already satisfied: py4j in /usr/local/lib/python3.9/dist-packages (from hyperopt<0.2.8,>=0.2.7->autogluon.core[all]==0.7.0->autogluon) (0.10.9.7)\n",
            "Requirement already satisfied: future in /usr/local/lib/python3.9/dist-packages (from hyperopt<0.2.8,>=0.2.7->autogluon.core[all]==0.7.0->autogluon) (0.18.3)\n",
            "Requirement already satisfied: MarkupSafe>=2.0 in /usr/local/lib/python3.9/dist-packages (from jinja2<3.2,>=3.0.3->autogluon.multimodal==0.7.0->autogluon) (2.1.2)\n",
            "Requirement already satisfied: pyrsistent!=0.17.0,!=0.17.1,!=0.17.2,>=0.14.0 in /usr/local/lib/python3.9/dist-packages (from jsonschema<4.18,>=4.14->autogluon.multimodal==0.7.0->autogluon) (0.19.3)\n",
            "Requirement already satisfied: attrs>=17.4.0 in /usr/local/lib/python3.9/dist-packages (from jsonschema<4.18,>=4.14->autogluon.multimodal==0.7.0->autogluon) (22.2.0)\n",
            "Requirement already satisfied: wheel in /usr/local/lib/python3.9/dist-packages (from lightgbm<3.4,>=3.3->autogluon.tabular[all]==0.7.0->autogluon) (0.40.0)\n",
            "Requirement already satisfied: gdown>=4.0.0 in /usr/local/lib/python3.9/dist-packages (from nlpaug<1.2.0,>=1.1.10->autogluon.multimodal==0.7.0->autogluon) (4.6.6)\n",
            "Requirement already satisfied: regex>=2021.8.3 in /usr/local/lib/python3.9/dist-packages (from nltk<4.0.0,>=3.4.5->autogluon.multimodal==0.7.0->autogluon) (2022.10.31)\n",
            "Requirement already satisfied: click in /usr/local/lib/python3.9/dist-packages (from nltk<4.0.0,>=3.4.5->autogluon.multimodal==0.7.0->autogluon) (8.1.3)\n",
            "Collecting antlr4-python3-runtime==4.9.*\n",
            "  Downloading antlr4-python3-runtime-4.9.3.tar.gz (117 kB)\n",
            "\u001b[2K     \u001b[90m━━━━━━━━━━━━━━━━━━━━━━━━━━━━━━━━━━━━━━\u001b[0m \u001b[32m117.0/117.0 kB\u001b[0m \u001b[31m12.7 MB/s\u001b[0m eta \u001b[36m0:00:00\u001b[0m\n",
            "\u001b[?25h  Preparing metadata (setup.py) ... \u001b[?25l\u001b[?25hdone\n",
            "Requirement already satisfied: tabulate in /usr/local/lib/python3.9/dist-packages (from openmim<0.4.0,>0.1.5->autogluon.multimodal==0.7.0->autogluon) (0.8.10)\n",
            "Requirement already satisfied: rich in /usr/local/lib/python3.9/dist-packages (from openmim<0.4.0,>0.1.5->autogluon.multimodal==0.7.0->autogluon) (13.3.3)\n",
            "Collecting model-index\n",
            "  Downloading model_index-0.1.11-py3-none-any.whl (34 kB)\n",
            "Collecting colorama\n",
            "  Downloading colorama-0.4.6-py2.py3-none-any.whl (25 kB)\n",
            "Requirement already satisfied: python-dateutil>=2.8.1 in /usr/local/lib/python3.9/dist-packages (from pandas<1.6,>=1.4.1->autogluon.core[all]==0.7.0->autogluon) (2.8.2)\n",
            "Requirement already satisfied: pytz>=2020.1 in /usr/local/lib/python3.9/dist-packages (from pandas<1.6,>=1.4.1->autogluon.core[all]==0.7.0->autogluon) (2022.7.1)\n",
            "Requirement already satisfied: urllib3 in /usr/local/lib/python3.9/dist-packages (from pmdarima<1.9,>=1.8.2->autogluon.timeseries[all]==0.7.0->autogluon) (1.26.15)\n",
            "Requirement already satisfied: Cython!=0.29.18,>=0.29 in /usr/local/lib/python3.9/dist-packages (from pmdarima<1.9,>=1.8.2->autogluon.timeseries[all]==0.7.0->autogluon) (0.29.34)\n",
            "Collecting lightning-utilities>=0.6.0.post0\n",
            "  Downloading lightning_utilities-0.8.0-py3-none-any.whl (20 kB)\n",
            "Requirement already satisfied: msgpack<2.0.0,>=1.0.0 in /usr/local/lib/python3.9/dist-packages (from ray[tune]<2.3,>=2.2->autogluon.core[all]==0.7.0->autogluon) (1.0.5)\n",
            "Collecting frozenlist\n",
            "  Downloading frozenlist-1.3.3-cp39-cp39-manylinux_2_5_x86_64.manylinux1_x86_64.manylinux_2_17_x86_64.manylinux2014_x86_64.whl (158 kB)\n",
            "\u001b[2K     \u001b[90m━━━━━━━━━━━━━━━━━━━━━━━━━━━━━━━━━━━━━━\u001b[0m \u001b[32m158.8/158.8 kB\u001b[0m \u001b[31m16.8 MB/s\u001b[0m eta \u001b[36m0:00:00\u001b[0m\n",
            "\u001b[?25hRequirement already satisfied: grpcio>=1.32.0 in /usr/local/lib/python3.9/dist-packages (from ray[tune]<2.3,>=2.2->autogluon.core[all]==0.7.0->autogluon) (1.53.0)\n",
            "Requirement already satisfied: filelock in /usr/local/lib/python3.9/dist-packages (from ray[tune]<2.3,>=2.2->autogluon.core[all]==0.7.0->autogluon) (3.11.0)\n",
            "Collecting virtualenv>=20.0.24\n",
            "  Downloading virtualenv-20.21.0-py3-none-any.whl (8.7 MB)\n",
            "\u001b[2K     \u001b[90m━━━━━━━━━━━━━━━━━━━━━━━━━━━━━━━━━━━━━━━━\u001b[0m \u001b[32m8.7/8.7 MB\u001b[0m \u001b[31m65.1 MB/s\u001b[0m eta \u001b[36m0:00:00\u001b[0m\n",
            "\u001b[?25hRequirement already satisfied: protobuf!=3.19.5,>=3.15.3 in /usr/local/lib/python3.9/dist-packages (from ray[tune]<2.3,>=2.2->autogluon.core[all]==0.7.0->autogluon) (3.20.3)\n",
            "Collecting aiosignal\n",
            "  Downloading aiosignal-1.3.1-py3-none-any.whl (7.6 kB)\n",
            "Collecting tensorboardX>=1.9\n",
            "  Downloading tensorboardX-2.6-py2.py3-none-any.whl (114 kB)\n",
            "\u001b[2K     \u001b[90m━━━━━━━━━━━━━━━━━━━━━━━━━━━━━━━━━━━━━━\u001b[0m \u001b[32m114.5/114.5 kB\u001b[0m \u001b[31m12.6 MB/s\u001b[0m eta \u001b[36m0:00:00\u001b[0m\n",
            "\u001b[?25hRequirement already satisfied: idna<4,>=2.5 in /usr/local/lib/python3.9/dist-packages (from requests->autogluon.core[all]==0.7.0->autogluon) (3.4)\n",
            "Requirement already satisfied: certifi>=2017.4.17 in /usr/local/lib/python3.9/dist-packages (from requests->autogluon.core[all]==0.7.0->autogluon) (2022.12.7)\n",
            "Requirement already satisfied: charset-normalizer~=2.0.0 in /usr/local/lib/python3.9/dist-packages (from requests->autogluon.core[all]==0.7.0->autogluon) (2.0.12)\n",
            "Requirement already satisfied: imageio>=2.4.1 in /usr/local/lib/python3.9/dist-packages (from scikit-image<0.20.0,>=0.19.1->autogluon.multimodal==0.7.0->autogluon) (2.25.1)\n",
            "Requirement already satisfied: PyWavelets>=1.1.1 in /usr/local/lib/python3.9/dist-packages (from scikit-image<0.20.0,>=0.19.1->autogluon.multimodal==0.7.0->autogluon) (1.4.1)\n",
            "Requirement already satisfied: tifffile>=2019.7.26 in /usr/local/lib/python3.9/dist-packages (from scikit-image<0.20.0,>=0.19.1->autogluon.multimodal==0.7.0->autogluon) (2023.3.21)\n",
            "Requirement already satisfied: threadpoolctl>=2.0.0 in /usr/local/lib/python3.9/dist-packages (from scikit-learn<1.3,>=1.0->autogluon.core[all]==0.7.0->autogluon) (3.1.0)\n",
            "Requirement already satisfied: numba>=0.55 in /usr/local/lib/python3.9/dist-packages (from sktime<0.16,>=0.14->autogluon.timeseries[all]==0.7.0->autogluon) (0.56.4)\n",
            "Requirement already satisfied: deprecated>=1.2.13 in /usr/local/lib/python3.9/dist-packages (from sktime<0.16,>=0.14->autogluon.timeseries[all]==0.7.0->autogluon) (1.2.13)\n",
            "Requirement already satisfied: patsy>=0.5.2 in /usr/local/lib/python3.9/dist-packages (from statsmodels<0.14,>=0.13.0->autogluon.timeseries[all]==0.7.0->autogluon) (0.5.3)\n",
            "Requirement already satisfied: google-auth<3,>=1.6.3 in /usr/local/lib/python3.9/dist-packages (from tensorboard<3,>=2.9->autogluon.multimodal==0.7.0->autogluon) (2.17.2)\n",
            "Requirement already satisfied: google-auth-oauthlib<1.1,>=0.5 in /usr/local/lib/python3.9/dist-packages (from tensorboard<3,>=2.9->autogluon.multimodal==0.7.0->autogluon) (1.0.0)\n",
            "Requirement already satisfied: tensorboard-data-server<0.8.0,>=0.7.0 in /usr/local/lib/python3.9/dist-packages (from tensorboard<3,>=2.9->autogluon.multimodal==0.7.0->autogluon) (0.7.0)\n",
            "Requirement already satisfied: tensorboard-plugin-wit>=1.6.0 in /usr/local/lib/python3.9/dist-packages (from tensorboard<3,>=2.9->autogluon.multimodal==0.7.0->autogluon) (1.8.1)\n",
            "Requirement already satisfied: werkzeug>=1.0.1 in /usr/local/lib/python3.9/dist-packages (from tensorboard<3,>=2.9->autogluon.multimodal==0.7.0->autogluon) (2.2.3)\n",
            "Requirement already satisfied: absl-py>=0.4 in /usr/local/lib/python3.9/dist-packages (from tensorboard<3,>=2.9->autogluon.multimodal==0.7.0->autogluon) (1.4.0)\n",
            "Requirement already satisfied: markdown>=2.6.8 in /usr/local/lib/python3.9/dist-packages (from tensorboard<3,>=2.9->autogluon.multimodal==0.7.0->autogluon) (3.4.3)\n",
            "Collecting nvidia-cuda-nvrtc-cu11==11.7.99\n",
            "  Downloading nvidia_cuda_nvrtc_cu11-11.7.99-2-py3-none-manylinux1_x86_64.whl (21.0 MB)\n",
            "\u001b[2K     \u001b[90m━━━━━━━━━━━━━━━━━━━━━━━━━━━━━━━━━━━━━━━━\u001b[0m \u001b[32m21.0/21.0 MB\u001b[0m \u001b[31m37.0 MB/s\u001b[0m eta \u001b[36m0:00:00\u001b[0m\n",
            "\u001b[?25hCollecting nvidia-cublas-cu11==11.10.3.66\n",
            "  Downloading nvidia_cublas_cu11-11.10.3.66-py3-none-manylinux1_x86_64.whl (317.1 MB)\n",
            "\u001b[2K     \u001b[90m━━━━━━━━━━━━━━━━━━━━━━━━━━━━━━━━━━━━━━━\u001b[0m \u001b[32m317.1/317.1 MB\u001b[0m \u001b[31m3.1 MB/s\u001b[0m eta \u001b[36m0:00:00\u001b[0m\n",
            "\u001b[?25hCollecting nvidia-cudnn-cu11==8.5.0.96\n",
            "  Downloading nvidia_cudnn_cu11-8.5.0.96-2-py3-none-manylinux1_x86_64.whl (557.1 MB)\n",
            "\u001b[2K     \u001b[90m━━━━━━━━━━━━━━━━━━━━━━━━━━━━━━━━━━━━━━━\u001b[0m \u001b[32m557.1/557.1 MB\u001b[0m \u001b[31m2.4 MB/s\u001b[0m eta \u001b[36m0:00:00\u001b[0m\n",
            "\u001b[?25hCollecting nvidia-cuda-runtime-cu11==11.7.99\n",
            "  Downloading nvidia_cuda_runtime_cu11-11.7.99-py3-none-manylinux1_x86_64.whl (849 kB)\n",
            "\u001b[2K     \u001b[90m━━━━━━━━━━━━━━━━━━━━━━━━━━━━━━━━━━━━━━\u001b[0m \u001b[32m849.3/849.3 kB\u001b[0m \u001b[31m37.4 MB/s\u001b[0m eta \u001b[36m0:00:00\u001b[0m\n",
            "\u001b[?25hCollecting pyDeprecate==0.3.*\n",
            "  Downloading pyDeprecate-0.3.2-py3-none-any.whl (10 kB)\n",
            "Collecting tokenizers!=0.11.3,<0.14,>=0.11.1\n",
            "  Downloading tokenizers-0.13.3-cp39-cp39-manylinux_2_17_x86_64.manylinux2014_x86_64.whl (7.8 MB)\n",
            "\u001b[2K     \u001b[90m━━━━━━━━━━━━━━━━━━━━━━━━━━━━━━━━━━━━━━━━\u001b[0m \u001b[32m7.8/7.8 MB\u001b[0m \u001b[31m58.7 MB/s\u001b[0m eta \u001b[36m0:00:00\u001b[0m\n",
            "\u001b[?25hRequirement already satisfied: contourpy>=1.0.1 in /usr/local/lib/python3.9/dist-packages (from matplotlib->autogluon.core[all]==0.7.0->autogluon) (1.0.7)\n",
            "Requirement already satisfied: cycler>=0.10 in /usr/local/lib/python3.9/dist-packages (from matplotlib->autogluon.core[all]==0.7.0->autogluon) (0.11.0)\n",
            "Requirement already satisfied: importlib-resources>=3.2.0 in /usr/local/lib/python3.9/dist-packages (from matplotlib->autogluon.core[all]==0.7.0->autogluon) (5.12.0)\n",
            "Requirement already satisfied: pyparsing>=2.3.1 in /usr/local/lib/python3.9/dist-packages (from matplotlib->autogluon.core[all]==0.7.0->autogluon) (3.0.9)\n",
            "Requirement already satisfied: kiwisolver>=1.0.1 in /usr/local/lib/python3.9/dist-packages (from matplotlib->autogluon.core[all]==0.7.0->autogluon) (1.4.4)\n",
            "Requirement already satisfied: fonttools>=4.22.0 in /usr/local/lib/python3.9/dist-packages (from matplotlib->autogluon.core[all]==0.7.0->autogluon) (4.39.3)\n",
            "Requirement already satisfied: pyarrow>=8.0.0 in /usr/local/lib/python3.9/dist-packages (from datasets>=2.0.0->evaluate<0.4.0,>=0.2.2->autogluon.multimodal==0.7.0->autogluon) (9.0.0)\n",
            "Collecting aiohttp\n",
            "  Downloading aiohttp-3.8.4-cp39-cp39-manylinux_2_17_x86_64.manylinux2014_x86_64.whl (1.0 MB)\n",
            "\u001b[2K     \u001b[90m━━━━━━━━━━━━━━━━━━━━━━━━━━━━━━━━━━━━━━━━\u001b[0m \u001b[32m1.0/1.0 MB\u001b[0m \u001b[31m52.7 MB/s\u001b[0m eta \u001b[36m0:00:00\u001b[0m\n",
            "\u001b[?25hRequirement already satisfied: wrapt<2,>=1.10 in /usr/local/lib/python3.9/dist-packages (from deprecated>=1.2.13->sktime<0.16,>=0.14->autogluon.timeseries[all]==0.7.0->autogluon) (1.14.1)\n",
            "Requirement already satisfied: beautifulsoup4 in /usr/local/lib/python3.9/dist-packages (from gdown>=4.0.0->nlpaug<1.2.0,>=1.1.10->autogluon.multimodal==0.7.0->autogluon) (4.11.2)\n",
            "Requirement already satisfied: pyasn1-modules>=0.2.1 in /usr/local/lib/python3.9/dist-packages (from google-auth<3,>=1.6.3->tensorboard<3,>=2.9->autogluon.multimodal==0.7.0->autogluon) (0.2.8)\n",
            "Requirement already satisfied: rsa<5,>=3.1.4 in /usr/local/lib/python3.9/dist-packages (from google-auth<3,>=1.6.3->tensorboard<3,>=2.9->autogluon.multimodal==0.7.0->autogluon) (4.9)\n",
            "Requirement already satisfied: cachetools<6.0,>=2.0.0 in /usr/local/lib/python3.9/dist-packages (from google-auth<3,>=1.6.3->tensorboard<3,>=2.9->autogluon.multimodal==0.7.0->autogluon) (5.3.0)\n",
            "Requirement already satisfied: requests-oauthlib>=0.7.0 in /usr/local/lib/python3.9/dist-packages (from google-auth-oauthlib<1.1,>=0.5->tensorboard<3,>=2.9->autogluon.multimodal==0.7.0->autogluon) (1.3.1)\n",
            "Requirement already satisfied: zipp>=3.1.0 in /usr/local/lib/python3.9/dist-packages (from importlib-resources>=3.2.0->matplotlib->autogluon.core[all]==0.7.0->autogluon) (3.15.0)\n",
            "Requirement already satisfied: importlib-metadata>=4.4 in /usr/local/lib/python3.9/dist-packages (from markdown>=2.6.8->tensorboard<3,>=2.9->autogluon.multimodal==0.7.0->autogluon) (6.3.0)\n",
            "Requirement already satisfied: llvmlite<0.40,>=0.39.0dev0 in /usr/local/lib/python3.9/dist-packages (from numba>=0.55->sktime<0.16,>=0.14->autogluon.timeseries[all]==0.7.0->autogluon) (0.39.1)\n",
            "Requirement already satisfied: preshed<3.1.0,>=3.0.2 in /usr/local/lib/python3.9/dist-packages (from spacy<4->fastai<2.8,>=2.3.1->autogluon.tabular[all]==0.7.0->autogluon) (3.0.8)\n",
            "Requirement already satisfied: spacy-loggers<2.0.0,>=1.0.0 in /usr/local/lib/python3.9/dist-packages (from spacy<4->fastai<2.8,>=2.3.1->autogluon.tabular[all]==0.7.0->autogluon) (1.0.4)\n",
            "Requirement already satisfied: cymem<2.1.0,>=2.0.2 in /usr/local/lib/python3.9/dist-packages (from spacy<4->fastai<2.8,>=2.3.1->autogluon.tabular[all]==0.7.0->autogluon) (2.0.7)\n",
            "Requirement already satisfied: wasabi<1.2.0,>=0.9.1 in /usr/local/lib/python3.9/dist-packages (from spacy<4->fastai<2.8,>=2.3.1->autogluon.tabular[all]==0.7.0->autogluon) (1.1.1)\n",
            "Requirement already satisfied: murmurhash<1.1.0,>=0.28.0 in /usr/local/lib/python3.9/dist-packages (from spacy<4->fastai<2.8,>=2.3.1->autogluon.tabular[all]==0.7.0->autogluon) (1.0.9)\n",
            "Requirement already satisfied: smart-open<7.0.0,>=5.2.1 in /usr/local/lib/python3.9/dist-packages (from spacy<4->fastai<2.8,>=2.3.1->autogluon.tabular[all]==0.7.0->autogluon) (6.3.0)\n",
            "Requirement already satisfied: spacy-legacy<3.1.0,>=3.0.11 in /usr/local/lib/python3.9/dist-packages (from spacy<4->fastai<2.8,>=2.3.1->autogluon.tabular[all]==0.7.0->autogluon) (3.0.12)\n",
            "Requirement already satisfied: typer<0.8.0,>=0.3.0 in /usr/local/lib/python3.9/dist-packages (from spacy<4->fastai<2.8,>=2.3.1->autogluon.tabular[all]==0.7.0->autogluon) (0.7.0)\n",
            "Requirement already satisfied: catalogue<2.1.0,>=2.0.6 in /usr/local/lib/python3.9/dist-packages (from spacy<4->fastai<2.8,>=2.3.1->autogluon.tabular[all]==0.7.0->autogluon) (2.0.8)\n",
            "Requirement already satisfied: srsly<3.0.0,>=2.4.3 in /usr/local/lib/python3.9/dist-packages (from spacy<4->fastai<2.8,>=2.3.1->autogluon.tabular[all]==0.7.0->autogluon) (2.4.6)\n",
            "Requirement already satisfied: langcodes<4.0.0,>=3.2.0 in /usr/local/lib/python3.9/dist-packages (from spacy<4->fastai<2.8,>=2.3.1->autogluon.tabular[all]==0.7.0->autogluon) (3.3.0)\n",
            "Requirement already satisfied: pathy>=0.10.0 in /usr/local/lib/python3.9/dist-packages (from spacy<4->fastai<2.8,>=2.3.1->autogluon.tabular[all]==0.7.0->autogluon) (0.10.1)\n",
            "Requirement already satisfied: thinc<8.2.0,>=8.1.8 in /usr/local/lib/python3.9/dist-packages (from spacy<4->fastai<2.8,>=2.3.1->autogluon.tabular[all]==0.7.0->autogluon) (8.1.9)\n",
            "Collecting distlib<1,>=0.3.6\n",
            "  Downloading distlib-0.3.6-py2.py3-none-any.whl (468 kB)\n",
            "\u001b[2K     \u001b[90m━━━━━━━━━━━━━━━━━━━━━━━━━━━━━━━━━━━━━━\u001b[0m \u001b[32m468.5/468.5 kB\u001b[0m \u001b[31m37.9 MB/s\u001b[0m eta \u001b[36m0:00:00\u001b[0m\n",
            "\u001b[?25hRequirement already satisfied: platformdirs<4,>=2.4 in /usr/local/lib/python3.9/dist-packages (from virtualenv>=20.0.24->ray[tune]<2.3,>=2.2->autogluon.core[all]==0.7.0->autogluon) (3.2.0)\n",
            "Collecting ordered-set\n",
            "  Downloading ordered_set-4.1.0-py3-none-any.whl (7.6 kB)\n",
            "Requirement already satisfied: tenacity>=6.2.0 in /usr/local/lib/python3.9/dist-packages (from plotly->catboost<1.2,>=1.0->autogluon.tabular[all]==0.7.0->autogluon) (8.2.2)\n",
            "Requirement already satisfied: markdown-it-py<3.0.0,>=2.2.0 in /usr/local/lib/python3.9/dist-packages (from rich->openmim<0.4.0,>0.1.5->autogluon.multimodal==0.7.0->autogluon) (2.2.0)\n",
            "Requirement already satisfied: pygments<3.0.0,>=2.13.0 in /usr/local/lib/python3.9/dist-packages (from rich->openmim<0.4.0,>0.1.5->autogluon.multimodal==0.7.0->autogluon) (2.14.0)\n",
            "Collecting multidict<7.0,>=4.5\n",
            "  Downloading multidict-6.0.4-cp39-cp39-manylinux_2_17_x86_64.manylinux2014_x86_64.whl (114 kB)\n",
            "\u001b[2K     \u001b[90m━━━━━━━━━━━━━━━━━━━━━━━━━━━━━━━━━━━━━━\u001b[0m \u001b[32m114.2/114.2 kB\u001b[0m \u001b[31m11.9 MB/s\u001b[0m eta \u001b[36m0:00:00\u001b[0m\n",
            "\u001b[?25hCollecting async-timeout<5.0,>=4.0.0a3\n",
            "  Downloading async_timeout-4.0.2-py3-none-any.whl (5.8 kB)\n",
            "Collecting yarl<2.0,>=1.0\n",
            "  Downloading yarl-1.8.2-cp39-cp39-manylinux_2_17_x86_64.manylinux2014_x86_64.whl (264 kB)\n",
            "\u001b[2K     \u001b[90m━━━━━━━━━━━━━━━━━━━━━━━━━━━━━━━━━━━━━━\u001b[0m \u001b[32m264.6/264.6 kB\u001b[0m \u001b[31m23.0 MB/s\u001b[0m eta \u001b[36m0:00:00\u001b[0m\n",
            "\u001b[?25hRequirement already satisfied: mdurl~=0.1 in /usr/local/lib/python3.9/dist-packages (from markdown-it-py<3.0.0,>=2.2.0->rich->openmim<0.4.0,>0.1.5->autogluon.multimodal==0.7.0->autogluon) (0.1.2)\n",
            "Requirement already satisfied: pyasn1<0.5.0,>=0.4.6 in /usr/local/lib/python3.9/dist-packages (from pyasn1-modules>=0.2.1->google-auth<3,>=1.6.3->tensorboard<3,>=2.9->autogluon.multimodal==0.7.0->autogluon) (0.4.8)\n",
            "Requirement already satisfied: oauthlib>=3.0.0 in /usr/local/lib/python3.9/dist-packages (from requests-oauthlib>=0.7.0->google-auth-oauthlib<1.1,>=0.5->tensorboard<3,>=2.9->autogluon.multimodal==0.7.0->autogluon) (3.2.2)\n",
            "Requirement already satisfied: blis<0.8.0,>=0.7.8 in /usr/local/lib/python3.9/dist-packages (from thinc<8.2.0,>=8.1.8->spacy<4->fastai<2.8,>=2.3.1->autogluon.tabular[all]==0.7.0->autogluon) (0.7.9)\n",
            "Requirement already satisfied: confection<1.0.0,>=0.0.1 in /usr/local/lib/python3.9/dist-packages (from thinc<8.2.0,>=8.1.8->spacy<4->fastai<2.8,>=2.3.1->autogluon.tabular[all]==0.7.0->autogluon) (0.0.4)\n",
            "Requirement already satisfied: soupsieve>1.2 in /usr/local/lib/python3.9/dist-packages (from beautifulsoup4->gdown>=4.0.0->nlpaug<1.2.0,>=1.1.10->autogluon.multimodal==0.7.0->autogluon) (2.4)\n",
            "Requirement already satisfied: PySocks!=1.5.7,>=1.5.6 in /usr/local/lib/python3.9/dist-packages (from requests->autogluon.core[all]==0.7.0->autogluon) (1.7.1)\n",
            "Building wheels for collected packages: fairscale, antlr4-python3-runtime, seqeval\n",
            "  Building wheel for fairscale (pyproject.toml) ... \u001b[?25l\u001b[?25hdone\n",
            "  Created wheel for fairscale: filename=fairscale-0.4.13-py3-none-any.whl size=332130 sha256=e3ad5a1447dd70bc7171fdcf0495df9d92415278ff4ad6c5fe946487e00c7027\n",
            "  Stored in directory: /root/.cache/pip/wheels/10/ea/7f/8f35af83599829bb4790bdc16949dd99aeeb62e9a1faf47d47\n",
            "  Building wheel for antlr4-python3-runtime (setup.py) ... \u001b[?25l\u001b[?25hdone\n",
            "  Created wheel for antlr4-python3-runtime: filename=antlr4_python3_runtime-4.9.3-py3-none-any.whl size=144573 sha256=4592c57e4612a60ae80c5f44579665768afc51e9b31ace0a2159dc063f049c18\n",
            "  Stored in directory: /root/.cache/pip/wheels/23/cf/80/f3efa822e6ab23277902ee9165fe772eeb1dfb8014f359020a\n",
            "  Building wheel for seqeval (setup.py) ... \u001b[?25l\u001b[?25hdone\n",
            "  Created wheel for seqeval: filename=seqeval-1.2.2-py3-none-any.whl size=16180 sha256=ee49af5a9f8d093989dd48960fbf856ed45384f8d3e80f997f22c66c468e8a7c\n",
            "  Stored in directory: /root/.cache/pip/wheels/e2/a5/92/2c80d1928733611c2747a9820e1324a6835524d9411510c142\n",
            "Successfully built fairscale antlr4-python3-runtime seqeval\n",
            "Installing collected packages: tokenizers, sentencepiece, distlib, antlr4-python3-runtime, virtualenv, ujson, tensorboardX, pyDeprecate, Pillow, ordered-set, omegaconf, nvidia-cuda-runtime-cu11, nvidia-cuda-nvrtc-cu11, nvidia-cublas-cu11, nptyping, networkx, multidict, lightning-utilities, jsonschema, jmespath, frozenlist, dill, colorama, async-timeout, yarl, responses, pytesseract, nvidia-cudnn-cu11, multiprocess, huggingface-hub, botocore, aiosignal, transformers, torch, seqeval, s3transfer, ray, model-index, gluonts, catboost, aiohttp, torchvision, torchmetrics, statsforecast, sktime, pytorch-metric-learning, pmdarima, openmim, nlpaug, fairscale, boto3, accelerate, timm, pytorch-lightning, datasets, autogluon.common, evaluate, autogluon.features, autogluon.core, autogluon.tabular, autogluon.multimodal, autogluon.timeseries, autogluon\n",
            "  Attempting uninstall: Pillow\n",
            "    Found existing installation: Pillow 8.4.0\n",
            "    Uninstalling Pillow-8.4.0:\n",
            "      Successfully uninstalled Pillow-8.4.0\n",
            "  Attempting uninstall: networkx\n",
            "    Found existing installation: networkx 3.1\n",
            "    Uninstalling networkx-3.1:\n",
            "      Successfully uninstalled networkx-3.1\n",
            "  Attempting uninstall: jsonschema\n",
            "    Found existing installation: jsonschema 4.3.3\n",
            "    Uninstalling jsonschema-4.3.3:\n",
            "      Successfully uninstalled jsonschema-4.3.3\n",
            "  Attempting uninstall: torch\n",
            "    Found existing installation: torch 2.0.0+cu118\n",
            "    Uninstalling torch-2.0.0+cu118:\n",
            "      Successfully uninstalled torch-2.0.0+cu118\n",
            "  Attempting uninstall: torchvision\n",
            "    Found existing installation: torchvision 0.15.1+cu118\n",
            "    Uninstalling torchvision-0.15.1+cu118:\n",
            "      Successfully uninstalled torchvision-0.15.1+cu118\n",
            "  Attempting uninstall: sktime\n",
            "    Found existing installation: sktime 0.17.1\n",
            "    Uninstalling sktime-0.17.1:\n",
            "      Successfully uninstalled sktime-0.17.1\n",
            "  Attempting uninstall: pmdarima\n",
            "    Found existing installation: pmdarima 2.0.3\n",
            "    Uninstalling pmdarima-2.0.3:\n",
            "      Successfully uninstalled pmdarima-2.0.3\n",
            "\u001b[31mERROR: pip's dependency resolver does not currently take into account all the packages that are installed. This behaviour is the source of the following dependency conflicts.\n",
            "torchtext 0.15.1 requires torch==2.0.0, but you have torch 1.13.1 which is incompatible.\n",
            "torchdata 0.6.0 requires torch==2.0.0, but you have torch 1.13.1 which is incompatible.\n",
            "torchaudio 2.0.1+cu118 requires torch==2.0.0, but you have torch 1.13.1 which is incompatible.\n",
            "pycaret 3.0.0 requires sktime>=0.16.1, but you have sktime 0.15.1 which is incompatible.\u001b[0m\u001b[31m\n",
            "\u001b[0mSuccessfully installed Pillow-9.5.0 accelerate-0.16.0 aiohttp-3.8.4 aiosignal-1.3.1 antlr4-python3-runtime-4.9.3 async-timeout-4.0.2 autogluon-0.7.0 autogluon.common-0.7.0 autogluon.core-0.7.0 autogluon.features-0.7.0 autogluon.multimodal-0.7.0 autogluon.tabular-0.7.0 autogluon.timeseries-0.7.0 boto3-1.26.114 botocore-1.29.114 catboost-1.1.1 colorama-0.4.6 datasets-2.11.0 dill-0.3.6 distlib-0.3.6 evaluate-0.3.0 fairscale-0.4.13 frozenlist-1.3.3 gluonts-0.12.6 huggingface-hub-0.13.4 jmespath-1.0.1 jsonschema-4.17.3 lightning-utilities-0.8.0 model-index-0.1.11 multidict-6.0.4 multiprocess-0.70.14 networkx-2.8.8 nlpaug-1.1.11 nptyping-2.4.1 nvidia-cublas-cu11-11.10.3.66 nvidia-cuda-nvrtc-cu11-11.7.99 nvidia-cuda-runtime-cu11-11.7.99 nvidia-cudnn-cu11-8.5.0.96 omegaconf-2.2.3 openmim-0.3.7 ordered-set-4.1.0 pmdarima-1.8.5 pyDeprecate-0.3.2 pytesseract-0.3.10 pytorch-lightning-1.9.5 pytorch-metric-learning-1.7.3 ray-2.2.0 responses-0.18.0 s3transfer-0.6.0 sentencepiece-0.1.98 seqeval-1.2.2 sktime-0.15.1 statsforecast-1.4.0 tensorboardX-2.6 timm-0.6.13 tokenizers-0.13.3 torch-1.13.1 torchmetrics-0.8.2 torchvision-0.14.1 transformers-4.26.1 ujson-5.7.0 virtualenv-20.21.0 yarl-1.8.2\n"
          ]
        }
      ],
      "source": [
        "!pip install autogluon\n"
      ]
    },
    {
      "cell_type": "code",
      "execution_count": null,
      "metadata": {
        "id": "4AGfCye3CXVS"
      },
      "outputs": [],
      "source": []
    },
    {
      "cell_type": "code",
      "execution_count": 23,
      "metadata": {
        "colab": {
          "base_uri": "https://localhost:8080/",
          "height": 1000
        },
        "id": "R1SvLYWmL8AM",
        "outputId": "573acb4d-6a35-42e0-a676-96a81cdb2d01"
      },
      "outputs": [
        {
          "name": "stderr",
          "output_type": "stream",
          "text": [
            "No path specified. Models will be saved in: \"AutogluonModels/ag-20230417_162346/\"\n",
            "Beginning AutoGluon training ...\n",
            "AutoGluon will save models to \"AutogluonModels/ag-20230417_162346/\"\n",
            "AutoGluon Version:  0.7.0\n",
            "Python Version:     3.9.16\n",
            "Operating System:   Linux\n",
            "Platform Machine:   x86_64\n",
            "Platform Version:   #1 SMP Sat Dec 10 16:00:40 UTC 2022\n",
            "Train Data Rows:    9240\n",
            "Train Data Columns: 34\n",
            "Label Column: Converted\n",
            "Preprocessing data ...\n",
            "AutoGluon infers your prediction problem is: 'binary' (because only two unique label-values observed).\n",
            "\t2 unique label values:  [0, 1]\n",
            "\tIf 'binary' is not the correct problem_type, please manually specify the problem_type parameter during predictor init (You may specify problem_type as one of: ['binary', 'multiclass', 'regression'])\n",
            "Selected class <--> label mapping:  class 1 = 1, class 0 = 0\n",
            "Using Feature Generators to preprocess the data ...\n",
            "Fitting AutoMLPipelineFeatureGenerator...\n",
            "\tAvailable Memory:                    11961.69 MB\n",
            "\tTrain Data (Original)  Memory Usage: 2.51 MB (0.0% of available memory)\n",
            "\tInferring data type of each feature based on column values. Set feature_metadata_in to manually specify special dtypes of the features.\n",
            "\tStage 1 Generators:\n",
            "\t\tFitting AsTypeFeatureGenerator...\n",
            "\t\t\tNote: Converting 9 features to boolean dtype as they only contain 2 unique values.\n",
            "\tStage 2 Generators:\n",
            "\t\tFitting FillNaFeatureGenerator...\n",
            "\tStage 3 Generators:\n",
            "\t\tFitting IdentityFeatureGenerator...\n",
            "\tStage 4 Generators:\n",
            "\t\tFitting DropUniqueFeatureGenerator...\n",
            "\tUseless Original Features (Count: 5): ['Magazine', 'Receive More Updates About Our Courses', 'Update me on Supply Chain Content', 'Get updates on DM Content', 'I agree to pay the amount through cheque']\n",
            "\t\tThese features carry no predictive signal and should be manually investigated.\n",
            "\t\tThis is typically a feature which has the same value for all rows.\n",
            "\t\tThese features do not need to be present at inference time.\n",
            "\tTypes of features in original data (raw dtype, special dtypes):\n",
            "\t\t('float', []) :  4 | ['TotalVisits', 'Page Views Per Visit', 'Asymmetrique Activity Score', 'Asymmetrique Profile Score']\n",
            "\t\t('int', [])   : 25 | ['Lead Origin', 'Lead Source', 'Do Not Email', 'Do Not Call', 'Total Time Spent on Website', ...]\n",
            "\tTypes of features in processed data (raw dtype, special dtypes):\n",
            "\t\t('float', [])     :  4 | ['TotalVisits', 'Page Views Per Visit', 'Asymmetrique Activity Score', 'Asymmetrique Profile Score']\n",
            "\t\t('int', [])       : 16 | ['Lead Origin', 'Lead Source', 'Total Time Spent on Website', 'Last Activity', 'Country', ...]\n",
            "\t\t('int', ['bool']) :  9 | ['Do Not Email', 'Do Not Call', 'Search', 'Newspaper Article', 'X Education Forums', ...]\n",
            "\t0.2s = Fit runtime\n",
            "\t29 features in original data used to generate 29 features in processed data.\n",
            "\tTrain Data (Processed) Memory Usage: 1.56 MB (0.0% of available memory)\n",
            "Data preprocessing and feature engineering runtime = 0.39s ...\n",
            "AutoGluon will gauge predictive performance using evaluation metric: 'accuracy'\n",
            "\tTo change this, specify the eval_metric parameter of Predictor()\n",
            "Automatically generating train/validation split with holdout_frac=0.1, Train Rows: 8316, Val Rows: 924\n",
            "Fitting 13 L1 models ...\n",
            "Fitting model: KNeighborsUnif ...\n",
            "\t0.7955\t = Validation score   (accuracy)\n",
            "\t4.33s\t = Training   runtime\n",
            "\t0.41s\t = Validation runtime\n",
            "Fitting model: KNeighborsDist ...\n",
            "\t0.8009\t = Validation score   (accuracy)\n",
            "\t0.05s\t = Training   runtime\n",
            "\t0.3s\t = Validation runtime\n",
            "Fitting model: LightGBMXT ...\n",
            "\t0.9448\t = Validation score   (accuracy)\n",
            "\t8.31s\t = Training   runtime\n",
            "\t0.21s\t = Validation runtime\n",
            "Fitting model: LightGBM ...\n",
            "\t0.947\t = Validation score   (accuracy)\n",
            "\t5.55s\t = Training   runtime\n",
            "\t0.05s\t = Validation runtime\n",
            "Fitting model: RandomForestGini ...\n",
            "\t0.9264\t = Validation score   (accuracy)\n",
            "\t6.42s\t = Training   runtime\n",
            "\t0.24s\t = Validation runtime\n",
            "Fitting model: RandomForestEntr ...\n",
            "\t0.921\t = Validation score   (accuracy)\n",
            "\t8.75s\t = Training   runtime\n",
            "\t0.22s\t = Validation runtime\n",
            "Fitting model: CatBoost ...\n",
            "\t0.9383\t = Validation score   (accuracy)\n",
            "\t8.9s\t = Training   runtime\n",
            "\t0.02s\t = Validation runtime\n",
            "Fitting model: ExtraTreesGini ...\n",
            "\t0.9177\t = Validation score   (accuracy)\n",
            "\t4.77s\t = Training   runtime\n",
            "\t0.31s\t = Validation runtime\n",
            "Fitting model: ExtraTreesEntr ...\n",
            "\t0.9134\t = Validation score   (accuracy)\n",
            "\t5.34s\t = Training   runtime\n",
            "\t0.31s\t = Validation runtime\n",
            "Fitting model: NeuralNetFastAI ...\n",
            "\t0.9232\t = Validation score   (accuracy)\n",
            "\t19.27s\t = Training   runtime\n",
            "\t0.02s\t = Validation runtime\n",
            "Fitting model: XGBoost ...\n",
            "\t0.9426\t = Validation score   (accuracy)\n",
            "\t3.24s\t = Training   runtime\n",
            "\t0.06s\t = Validation runtime\n",
            "Fitting model: NeuralNetTorch ...\n",
            "\t0.9242\t = Validation score   (accuracy)\n",
            "\t24.49s\t = Training   runtime\n",
            "\t0.03s\t = Validation runtime\n",
            "Fitting model: LightGBMLarge ...\n",
            "\t0.9394\t = Validation score   (accuracy)\n",
            "\t3.14s\t = Training   runtime\n",
            "\t0.03s\t = Validation runtime\n",
            "Fitting model: WeightedEnsemble_L2 ...\n",
            "\t0.9491\t = Validation score   (accuracy)\n",
            "\t2.13s\t = Training   runtime\n",
            "\t0.01s\t = Validation runtime\n",
            "AutoGluon training complete, total runtime = 109.95s ... Best model: \"WeightedEnsemble_L2\"\n",
            "TabularPredictor saved. To load, use: predictor = TabularPredictor.load(\"AutogluonModels/ag-20230417_162346/\")\n"
          ]
        },
        {
          "name": "stdout",
          "output_type": "stream",
          "text": [
            "Accuracy: 0.974025974025974\n",
            "Precision: 0.958958958958959\n",
            "Recall: 0.9686552072800809\n"
          ]
        },
        {
          "data": {
            "image/png": "[encoded data removed]",
            "text/plain": [
              "<Figure size 800x550 with 2 Axes>"
            ]
          },
          "metadata": {},
          "output_type": "display_data"
        }
      ],
      "source": [
        "#3) Using Autogluon  AutoML tools,make prediction on test data and evaluate performance of prediction using eval function defined above.\n",
        "\n",
        "import autogluon.tabular as ag_tabular\n",
        "\n",
        "predictor = ag_tabular.TabularPredictor(label='Converted')\n",
        "predictor.fit(train_data=df, hyperparameters='default')\n",
        "\n",
        "predictions = predictor.predict(data=X_test)\n",
        "\n",
        "eval(y_test, predictions)\n"
      ]
    }
  ],
  "metadata": {
    "colab": {
      "provenance": []
    },
    "kernelspec": {
      "display_name": "Python 3",
      "name": "python3"
    },
    "language_info": {
      "name": "python",
      "version": "3.10.6"
    },
    "widgets": {
      "application/vnd.jupyter.widget-state+json": {
        "30a0e9190cdf4a94ac4aa7e951205cb6": {
          "model_module": "@jupyter-widgets/controls",
          "model_module_version": "1.5.0",
          "model_name": "HTMLModel",
          "state": {
            "_dom_classes": [],
            "_model_module": "@jupyter-widgets/controls",
            "_model_module_version": "1.5.0",
            "_model_name": "HTMLModel",
            "_view_count": null,
            "_view_module": "@jupyter-widgets/controls",
            "_view_module_version": "1.5.0",
            "_view_name": "HTMLView",
            "description": "",
            "description_tooltip": null,
            "layout": "IPY_MODEL_9f82ea5ee542410389a09418e5328087",
            "placeholder": "​",
            "style": "IPY_MODEL_b614c7a255154e989b13e224d333c3a2",
            "value": " 65/65 [01:55&lt;00:00,  1.36it/s]"
          }
        },
        "3517578fdd3940799b062f3d37cef6ae": {
          "model_module": "@jupyter-widgets/controls",
          "model_module_version": "1.5.0",
          "model_name": "HTMLModel",
          "state": {
            "_dom_classes": [],
            "_model_module": "@jupyter-widgets/controls",
            "_model_module_version": "1.5.0",
            "_model_name": "HTMLModel",
            "_view_count": null,
            "_view_module": "@jupyter-widgets/controls",
            "_view_module_version": "1.5.0",
            "_view_name": "HTMLView",
            "description": "",
            "description_tooltip": null,
            "layout": "IPY_MODEL_8480242c4b2c4ca4879a4682a3727741",
            "placeholder": "​",
            "style": "IPY_MODEL_cb2817e9e99a4a3d99650133eaae0e33",
            "value": "Processing: 100%"
          }
        },
        "3b9dfb79fa99422aaac34873730d0fef": {
          "model_module": "@jupyter-widgets/base",
          "model_module_version": "1.2.0",
          "model_name": "LayoutModel",
          "state": {
            "_model_module": "@jupyter-widgets/base",
            "_model_module_version": "1.2.0",
            "_model_name": "LayoutModel",
            "_view_count": null,
            "_view_module": "@jupyter-widgets/base",
            "_view_module_version": "1.2.0",
            "_view_name": "LayoutView",
            "align_content": null,
            "align_items": null,
            "align_self": null,
            "border": null,
            "bottom": null,
            "display": null,
            "flex": null,
            "flex_flow": null,
            "grid_area": null,
            "grid_auto_columns": null,
            "grid_auto_flow": null,
            "grid_auto_rows": null,
            "grid_column": null,
            "grid_gap": null,
            "grid_row": null,
            "grid_template_areas": null,
            "grid_template_columns": null,
            "grid_template_rows": null,
            "height": null,
            "justify_content": null,
            "justify_items": null,
            "left": null,
            "margin": null,
            "max_height": null,
            "max_width": null,
            "min_height": null,
            "min_width": null,
            "object_fit": null,
            "object_position": null,
            "order": null,
            "overflow": null,
            "overflow_x": null,
            "overflow_y": null,
            "padding": null,
            "right": null,
            "top": null,
            "visibility": "hidden",
            "width": null
          }
        },
        "59c0cb244e024bf68b3c47a3f1e15511": {
          "model_module": "@jupyter-widgets/controls",
          "model_module_version": "1.5.0",
          "model_name": "FloatProgressModel",
          "state": {
            "_dom_classes": [],
            "_model_module": "@jupyter-widgets/controls",
            "_model_module_version": "1.5.0",
            "_model_name": "FloatProgressModel",
            "_view_count": null,
            "_view_module": "@jupyter-widgets/controls",
            "_view_module_version": "1.5.0",
            "_view_name": "ProgressView",
            "bar_style": "",
            "description": "",
            "description_tooltip": null,
            "layout": "IPY_MODEL_c536df1e75214320a67ef68d0b37cf9d",
            "max": 65,
            "min": 0,
            "orientation": "horizontal",
            "style": "IPY_MODEL_d0781187da7c4e078f3cdf9a9d3bcf4e",
            "value": 65
          }
        },
        "6b03ec986f86478189f46d928b99039b": {
          "model_module": "@jupyter-widgets/controls",
          "model_module_version": "1.5.0",
          "model_name": "HBoxModel",
          "state": {
            "_dom_classes": [],
            "_model_module": "@jupyter-widgets/controls",
            "_model_module_version": "1.5.0",
            "_model_name": "HBoxModel",
            "_view_count": null,
            "_view_module": "@jupyter-widgets/controls",
            "_view_module_version": "1.5.0",
            "_view_name": "HBoxView",
            "box_style": "",
            "children": [
              "IPY_MODEL_3517578fdd3940799b062f3d37cef6ae",
              "IPY_MODEL_59c0cb244e024bf68b3c47a3f1e15511",
              "IPY_MODEL_30a0e9190cdf4a94ac4aa7e951205cb6"
            ],
            "layout": "IPY_MODEL_3b9dfb79fa99422aaac34873730d0fef"
          }
        },
        "8480242c4b2c4ca4879a4682a3727741": {
          "model_module": "@jupyter-widgets/base",
          "model_module_version": "1.2.0",
          "model_name": "LayoutModel",
          "state": {
            "_model_module": "@jupyter-widgets/base",
            "_model_module_version": "1.2.0",
            "_model_name": "LayoutModel",
            "_view_count": null,
            "_view_module": "@jupyter-widgets/base",
            "_view_module_version": "1.2.0",
            "_view_name": "LayoutView",
            "align_content": null,
            "align_items": null,
            "align_self": null,
            "border": null,
            "bottom": null,
            "display": null,
            "flex": null,
            "flex_flow": null,
            "grid_area": null,
            "grid_auto_columns": null,
            "grid_auto_flow": null,
            "grid_auto_rows": null,
            "grid_column": null,
            "grid_gap": null,
            "grid_row": null,
            "grid_template_areas": null,
            "grid_template_columns": null,
            "grid_template_rows": null,
            "height": null,
            "justify_content": null,
            "justify_items": null,
            "left": null,
            "margin": null,
            "max_height": null,
            "max_width": null,
            "min_height": null,
            "min_width": null,
            "object_fit": null,
            "object_position": null,
            "order": null,
            "overflow": null,
            "overflow_x": null,
            "overflow_y": null,
            "padding": null,
            "right": null,
            "top": null,
            "visibility": null,
            "width": null
          }
        },
        "9f82ea5ee542410389a09418e5328087": {
          "model_module": "@jupyter-widgets/base",
          "model_module_version": "1.2.0",
          "model_name": "LayoutModel",
          "state": {
            "_model_module": "@jupyter-widgets/base",
            "_model_module_version": "1.2.0",
            "_model_name": "LayoutModel",
            "_view_count": null,
            "_view_module": "@jupyter-widgets/base",
            "_view_module_version": "1.2.0",
            "_view_name": "LayoutView",
            "align_content": null,
            "align_items": null,
            "align_self": null,
            "border": null,
            "bottom": null,
            "display": null,
            "flex": null,
            "flex_flow": null,
            "grid_area": null,
            "grid_auto_columns": null,
            "grid_auto_flow": null,
            "grid_auto_rows": null,
            "grid_column": null,
            "grid_gap": null,
            "grid_row": null,
            "grid_template_areas": null,
            "grid_template_columns": null,
            "grid_template_rows": null,
            "height": null,
            "justify_content": null,
            "justify_items": null,
            "left": null,
            "margin": null,
            "max_height": null,
            "max_width": null,
            "min_height": null,
            "min_width": null,
            "object_fit": null,
            "object_position": null,
            "order": null,
            "overflow": null,
            "overflow_x": null,
            "overflow_y": null,
            "padding": null,
            "right": null,
            "top": null,
            "visibility": null,
            "width": null
          }
        },
        "b614c7a255154e989b13e224d333c3a2": {
          "model_module": "@jupyter-widgets/controls",
          "model_module_version": "1.5.0",
          "model_name": "DescriptionStyleModel",
          "state": {
            "_model_module": "@jupyter-widgets/controls",
            "_model_module_version": "1.5.0",
            "_model_name": "DescriptionStyleModel",
            "_view_count": null,
            "_view_module": "@jupyter-widgets/base",
            "_view_module_version": "1.2.0",
            "_view_name": "StyleView",
            "description_width": ""
          }
        },
        "c536df1e75214320a67ef68d0b37cf9d": {
          "model_module": "@jupyter-widgets/base",
          "model_module_version": "1.2.0",
          "model_name": "LayoutModel",
          "state": {
            "_model_module": "@jupyter-widgets/base",
            "_model_module_version": "1.2.0",
            "_model_name": "LayoutModel",
            "_view_count": null,
            "_view_module": "@jupyter-widgets/base",
            "_view_module_version": "1.2.0",
            "_view_name": "LayoutView",
            "align_content": null,
            "align_items": null,
            "align_self": null,
            "border": null,
            "bottom": null,
            "display": null,
            "flex": null,
            "flex_flow": null,
            "grid_area": null,
            "grid_auto_columns": null,
            "grid_auto_flow": null,
            "grid_auto_rows": null,
            "grid_column": null,
            "grid_gap": null,
            "grid_row": null,
            "grid_template_areas": null,
            "grid_template_columns": null,
            "grid_template_rows": null,
            "height": null,
            "justify_content": null,
            "justify_items": null,
            "left": null,
            "margin": null,
            "max_height": null,
            "max_width": null,
            "min_height": null,
            "min_width": null,
            "object_fit": null,
            "object_position": null,
            "order": null,
            "overflow": null,
            "overflow_x": null,
            "overflow_y": null,
            "padding": null,
            "right": null,
            "top": null,
            "visibility": null,
            "width": null
          }
        },
        "cb2817e9e99a4a3d99650133eaae0e33": {
          "model_module": "@jupyter-widgets/controls",
          "model_module_version": "1.5.0",
          "model_name": "DescriptionStyleModel",
          "state": {
            "_model_module": "@jupyter-widgets/controls",
            "_model_module_version": "1.5.0",
            "_model_name": "DescriptionStyleModel",
            "_view_count": null,
            "_view_module": "@jupyter-widgets/base",
            "_view_module_version": "1.2.0",
            "_view_name": "StyleView",
            "description_width": ""
          }
        },
        "d0781187da7c4e078f3cdf9a9d3bcf4e": {
          "model_module": "@jupyter-widgets/controls",
          "model_module_version": "1.5.0",
          "model_name": "ProgressStyleModel",
          "state": {
            "_model_module": "@jupyter-widgets/controls",
            "_model_module_version": "1.5.0",
            "_model_name": "ProgressStyleModel",
            "_view_count": null,
            "_view_module": "@jupyter-widgets/base",
            "_view_module_version": "1.2.0",
            "_view_name": "StyleView",
            "bar_color": null,
            "description_width": ""
          }
        }
      }
    }
  },
  "nbformat": 4,
  "nbformat_minor": 0
}
